{
 "cells": [
  {
   "cell_type": "markdown",
   "metadata": {},
   "source": [
    "## Лабораторная работа по курсу \"Искусственный интеллект\"\n",
    "## Многослойный персептрон\n",
    "\n",
    "| Студент | Тимофеев А. В. |\n",
    "|---------|--------|\n",
    "| Группа  | 7      |\n",
    "|Вариант| 1 |\n",
    "|Фреймворк| PyTorch |\n",
    "\n"
   ]
  },
  {
   "cell_type": "code",
   "execution_count": 1,
   "metadata": {
    "tags": []
   },
   "outputs": [],
   "source": [
    "import pickle\n",
    "import torch\n",
    "import matplotlib.pyplot as plt\n",
    "import numpy as np\n",
    "from sklearn.model_selection import train_test_split\n",
    "import numpy as np"
   ]
  },
  {
   "cell_type": "markdown",
   "metadata": {},
   "source": [
    "## Подготовка датасетов\n",
    "Объявим функции для анализа датасетов\n",
    "\n",
    "Теперь загружаем датасет:"
   ]
  },
  {
   "cell_type": "code",
   "execution_count": 2,
   "metadata": {},
   "outputs": [],
   "source": [
    "def count_of_keys(df):\n",
    "    unique = np.unique(df)\n",
    "    counts = np.zeros(len(unique), dtype=np.int32)\n",
    "    for v in df:\n",
    "        counts[v] += 1\n",
    "    return counts\n",
    "def visualization_of_counts(df):\n",
    "    counts = count_of_keys(df)\n",
    "    plt.ylabel(\"Кол-во элементов в классе\")\n",
    "    plt.xlabel(\"Номер каждого класса\")\n",
    "    plt.bar(np.arange(len(counts)), counts)\n",
    "    plt.xticks(np.arange(len(counts)), [i for i in range(len(counts))])\n",
    "def analyze(labels, features, string :str):\n",
    "    visualization_of_counts(labels)\n",
    "    print(\"Данные для [{}]\".format(string))\n",
    "    print(\"Количество элементов в датасете : {}\".format(len(labels)))\n",
    "    print(\"Количество атрибутов в элементе : {}\".format(len(features[0])))\n",
    "    print(\"Минимальное значение атрибута   : {}\".format(np.min(features)))\n",
    "    print(\"Максимальное значение атрибута  : {}\".format(np.max(features)))\n",
    "    print()"
   ]
  },
  {
   "cell_type": "markdown",
   "metadata": {},
   "source": [
    "### Готовим датасеты\n",
    "\n",
    "#### MNIST"
   ]
  },
  {
   "cell_type": "code",
   "execution_count": 3,
   "metadata": {},
   "outputs": [],
   "source": [
    "with open('mnist.pkl', 'rb') as mnist_pickle:\n",
    "    MNIST = pickle.load(mnist_pickle)"
   ]
  },
  {
   "cell_type": "markdown",
   "metadata": {},
   "source": [
    "Смотрим на то, какие данные получились:"
   ]
  },
  {
   "cell_type": "code",
   "execution_count": 4,
   "metadata": {},
   "outputs": [
    {
     "name": "stdout",
     "output_type": "stream",
     "text": [
      "Данные для [MNIST]\n",
      "Количество элементов в датасете : 42000\n",
      "Количество атрибутов в элементе : 784\n",
      "Минимальное значение атрибута   : 0\n",
      "Максимальное значение атрибута  : 255\n",
      "\n",
      "Данные для [Обучающая выборка из MNIST]\n",
      "Количество элементов в датасете : 33600\n",
      "Количество атрибутов в элементе : 784\n",
      "Минимальное значение атрибута   : 0.0\n",
      "Максимальное значение атрибута  : 1.0\n",
      "\n",
      "Данные для [Тестировочная выборка из MNIST]\n",
      "Количество элементов в датасете : 8400\n",
      "Количество атрибутов в элементе : 784\n",
      "Минимальное значение атрибута   : 0.0\n",
      "Максимальное значение атрибута  : 1.0\n",
      "\n"
     ]
    },
    {
     "data": {
      "image/png": "[encoded data removed]",
      "text/plain": [
       "<Figure size 432x288 with 1 Axes>"
      ]
     },
     "metadata": {
      "needs_background": "light"
     },
     "output_type": "display_data"
    }
   ],
   "source": [
    "def conv_df(df):\n",
    "    return np.array(df).astype(np.float32)/255\n",
    "\n",
    "analyze(MNIST['Train']['Labels'], MNIST['Train']['Features'], \"MNIST\")\n",
    "\n",
    "features = conv_df(MNIST['Train']['Features'])\n",
    "labels = MNIST['Train']['Labels']\n",
    "\n",
    "mnist_train_x, mnist_test_x, mnist_train_y, mnist_test_y = train_test_split(features,labels,test_size=0.2)\n",
    "\n",
    "analyze(mnist_train_y, mnist_train_x, \"Обучающая выборка из MNIST\")\n",
    "analyze(mnist_test_y, mnist_test_x, \"Тестировочная выборка из MNIST\")"
   ]
  },
  {
   "cell_type": "markdown",
   "metadata": {},
   "source": [
    "#### FashionMNIST"
   ]
  },
  {
   "cell_type": "code",
   "execution_count": 5,
   "metadata": {},
   "outputs": [
    {
     "name": "stdout",
     "output_type": "stream",
     "text": [
      "d:\\education\\education\\AI\\lab_perceptron-gearwheels\\fashion-mnist\\utils\n",
      "d:\\education\\education\\AI\\lab_perceptron-gearwheels\\fashion-mnist\n",
      "d:\\education\\education\\AI\\lab_perceptron-gearwheels\n"
     ]
    }
   ],
   "source": [
    "%cd fashion-mnist/utils\n",
    "import mnist_reader\n",
    "%cd ..\n",
    "fashion_mnist_train_x_raw, fashion_mnist_train_y = mnist_reader.load_mnist('data/fashion', kind='train')\n",
    "fashion_mnist_test_x_raw, fashion_mnist_test_y = mnist_reader.load_mnist('data/fashion', kind='t10k')\n",
    "%cd .."
   ]
  },
  {
   "cell_type": "code",
   "execution_count": 6,
   "metadata": {},
   "outputs": [
    {
     "name": "stdout",
     "output_type": "stream",
     "text": [
      "Данные для [Обучающая выборка из Fashion MNIST]\n",
      "Количество элементов в датасете : 60000\n",
      "Количество атрибутов в элементе : 784\n",
      "Минимальное значение атрибута   : 0\n",
      "Максимальное значение атрибута  : 255\n",
      "\n",
      "Данные для [Тестировочная выборка из Fashion MNIST]\n",
      "Количество элементов в датасете : 10000\n",
      "Количество атрибутов в элементе : 784\n",
      "Минимальное значение атрибута   : 0\n",
      "Максимальное значение атрибута  : 255\n",
      "\n"
     ]
    },
    {
     "data": {
      "image/png": "[encoded data removed]",
      "text/plain": [
       "<Figure size 432x288 with 1 Axes>"
      ]
     },
     "metadata": {
      "needs_background": "light"
     },
     "output_type": "display_data"
    }
   ],
   "source": [
    "analyze(fashion_mnist_train_y, fashion_mnist_train_x_raw, \"Обучающая выборка из Fashion MNIST\")\n",
    "analyze(fashion_mnist_test_y, fashion_mnist_test_x_raw, \"Тестировочная выборка из Fashion MNIST\")"
   ]
  },
  {
   "cell_type": "code",
   "execution_count": 7,
   "metadata": {},
   "outputs": [],
   "source": [
    "fashion_mnist_train_x = conv_df(fashion_mnist_train_x_raw)\n",
    "fashion_mnist_test_x  = conv_df(fashion_mnist_test_x_raw)"
   ]
  },
  {
   "cell_type": "markdown",
   "metadata": {},
   "source": [
    "#### CIFAR-10"
   ]
  },
  {
   "cell_type": "code",
   "execution_count": 8,
   "metadata": {},
   "outputs": [],
   "source": [
    "def unpickle_cifar(file):\n",
    "    with open(file, 'rb') as fo:\n",
    "        dict = pickle.load(fo, encoding='bytes')\n",
    "    return dict\n",
    "test_batch = unpickle_cifar('cifar-10-batches-py/test_batch')\n",
    "data_batch_1 = unpickle_cifar('cifar-10-batches-py/data_batch_1')\n",
    "data_batch_2 = unpickle_cifar('cifar-10-batches-py/data_batch_2')\n",
    "data_batch_3 = unpickle_cifar('cifar-10-batches-py/data_batch_3')\n",
    "data_batch_4 = unpickle_cifar('cifar-10-batches-py/data_batch_4')\n",
    "data_batch_5 = unpickle_cifar('cifar-10-batches-py/data_batch_5')"
   ]
  },
  {
   "cell_type": "code",
   "execution_count": 9,
   "metadata": {},
   "outputs": [
    {
     "name": "stdout",
     "output_type": "stream",
     "text": [
      "dict_keys([b'batch_label', b'labels', b'data', b'filenames'])\n",
      "dict_keys([b'batch_label', b'labels', b'data', b'filenames'])\n",
      "[3, 8, 8, 0, 6, 6, 1, 6, 3, 1, 0, 9, 5, 7, 9, 8, 5, 7, 8, 6, 7, 0, 4, 9, 5, 2, 4, 0, 9, 6, 6, 5, 4, 5, 9, 2, 4, 1, 9, 5, 4, 6, 5, 6, 0, 9, 3, 9, 7, 6, 9, 8, 0, 3, 8, 8, 7, 7, 4, 6, 7, 3, 6, 3, 6, 2, 1, 2, 3, 7, 2, 6, 8, 8, 0, 2, 9, 3, 3, 8, 8, 1, 1, 7, 2, 5, 2, 7, 8, 9, 0, 3, 8, 6, 4, 6, 6, 0, 0, 7, 4, 5, 6, 3, 1, 1, 3, 6, 8, 7, 4, 0, 6, 2, 1, 3, 0, 4, 2, 7, 8, 3, 1, 2, 8, 0, 8, 3, 5, 2, 4, 1, 8, 9, 1, 2, 9, 7, 2, 9, 6, 5, 6, 3, 8, 7, 6, 2, 5, 2, 8, 9, 6, 0, 0, 5, 2, 9, 5, 4, 2, 1, 6, 6, 8, 4, 8, 4, 5, 0, 9, 9, 9, 8, 9, 9, 3, 7, 5, 0, 0, 5, 2, 2, 3, 8, 6, 3, 4, 0, 5, 8, 0, 1, 7, 2, 8, 8, 7, 8, 5, 1, 8, 7, 1, 3, 0, 5, 7, 9, 7, 4, 5, 9, 8, 0, 7, 9, 8, 2, 7, 6, 9, 4, 3, 9, 6, 4, 7, 6, 5, 1, 5, 8, 8, 0, 4, 0, 5, 5, 1, 1, 8, 9, 0, 3, 1, 9, 2, 2, 5, 3, 9, 9, 4, 0, 3, 0, 0, 9, 8, 1, 5, 7, 0, 8, 2, 4, 7, 0, 2, 3, 6, 3, 8, 5, 0, 3, 4, 3, 9, 0, 6, 1, 0, 9, 1, 0, 7, 9, 1, 2, 6, 9, 3, 4, 6, 0, 0, 6, 6, 6, 3, 2, 6, 1, 8, 2, 1, 6, 8, 6, 8, 0, 4, 0, 7, 7, 5, 5, 3, 5, 2, 3, 4, 1, 7, 5, 4, 6, 1, 9, 3, 6, 6, 9, 3, 8, 0, 7, 2, 6, 2, 5, 8, 5, 4, 6, 8, 9, 9, 1, 0, 2, 2, 7, 3, 2, 8, 0, 9, 5, 8, 1, 9, 4, 1, 3, 8, 1, 4, 7, 9, 4, 2, 7, 0, 7, 0, 6, 6, 9, 0, 9, 2, 8, 7, 2, 2, 5, 1, 2, 6, 2, 9, 6, 2, 3, 0, 3, 9, 8, 7, 8, 8, 4, 0, 1, 8, 2, 7, 9, 3, 6, 1, 9, 0, 7, 3, 7, 4, 5, 0, 0, 2, 9, 3, 4, 0, 6, 2, 5, 3, 7, 3, 7, 2, 5, 3, 1, 1, 4, 9, 9, 5, 7, 5, 0, 2, 2, 2, 9, 7, 3, 9, 4, 3, 5, 4, 6, 5, 6, 1, 4, 3, 4, 4, 3, 7, 8, 3, 7, 8, 0, 5, 7, 6, 0, 5, 4, 8, 6, 8, 5, 5, 9, 9, 9, 5, 0, 1, 0, 8, 1, 1, 8, 0, 2, 2, 0, 4, 6, 5, 4, 9, 4, 7, 9, 9, 4, 5, 6, 6, 1, 5, 3, 8, 9, 5, 8, 5, 7, 0, 7, 0, 5, 0, 0, 4, 6, 9, 0, 9, 5, 6, 6, 6, 2, 9, 0, 1, 7, 6, 7, 5, 9, 1, 6, 2, 5, 5, 5, 8, 5, 9, 4, 6, 4, 3, 2, 0, 7, 6, 2, 2, 3, 9, 7, 9, 2, 6, 7, 1, 3, 6, 6, 8, 9, 7, 5, 4, 0, 8, 4, 0, 9, 3, 4, 8, 9, 6, 9, 2, 6, 1, 4, 7, 3, 5, 3, 8, 5, 0, 2, 1, 6, 4, 3, 3, 9, 6, 9, 8, 8, 5, 8, 6, 6, 2, 1, 7, 7, 1, 2, 7, 9, 9, 4, 4, 1, 2, 5, 6, 8, 7, 6, 8, 3, 0, 5, 5, 3, 0, 7, 9, 1, 3, 4, 4, 5, 3, 9, 5, 6, 9, 2, 1, 1, 4, 1, 9, 4, 7, 6, 3, 8, 9, 0, 1, 3, 6, 3, 6, 3, 2, 0, 3, 1, 0, 5, 9, 6, 4, 8, 9, 6, 9, 6, 3, 0, 3, 2, 2, 7, 8, 3, 8, 2, 7, 5, 7, 2, 4, 8, 7, 4, 2, 9, 8, 8, 6, 8, 8, 7, 4, 3, 3, 8, 4, 9, 4, 8, 8, 1, 8, 2, 1, 3, 6, 5, 4, 2, 7, 9, 9, 4, 1, 4, 1, 3, 2, 7, 0, 7, 9, 7, 6, 6, 2, 5, 9, 2, 9, 1, 2, 2, 6, 8, 2, 1, 3, 6, 6, 0, 1, 2, 7, 0, 5, 4, 6, 1, 6, 4, 0, 2, 2, 6, 0, 5, 9, 1, 7, 6, 7, 0, 3, 9, 6, 8, 3, 0, 3, 4, 7, 7, 1, 4, 7, 2, 7, 1, 4, 7, 4, 4, 8, 4, 7, 7, 5, 3, 7, 2, 0, 8, 9, 5, 8, 3, 6, 2, 0, 8, 7, 3, 7, 6, 5, 3, 1, 3, 2, 2, 5, 4, 1, 2, 9, 2, 7, 0, 7, 2, 1, 3, 2, 0, 2, 4, 7, 9, 8, 9, 0, 7, 7, 0, 7, 8, 4, 6, 3, 3, 0, 1, 3, 7, 0, 1, 3, 1, 4, 2, 3, 8, 4, 2, 3, 7, 8, 4, 3, 0, 9, 0, 0, 1, 0, 4, 4, 6, 7, 6, 1, 1, 3, 7, 3, 5, 2, 6, 6, 5, 8, 7, 1, 6, 8, 8, 5, 3, 0, 4, 0, 1, 3, 8, 8, 0, 6, 9, 9, 9, 5, 5, 8, 6, 0, 0, 4, 2, 3, 2, 7, 2, 2, 5, 9, 8, 9, 1, 7, 4, 0, 3, 0, 1, 3, 8, 3, 9, 6, 1, 4, 7, 0, 3, 7, 8, 9, 1, 1, 6, 6, 6, 6, 9, 1, 9, 9, 4, 2, 1, 7, 0, 6, 8, 1, 9, 2, 9, 0, 4, 7, 8, 3, 1, 2, 0, 1, 5, 8, 4, 6, 3, 8, 1, 3, 8, 5, 0, 8, 4, 8, 1, 1, 8, 9, 6, 0, 8, 6, 1, 3, 4, 1, 6, 0, 5, 1, 1, 0, 0, 3, 5, 0, 0, 6, 6, 3, 3, 6, 3, 6, 6, 0, 7, 2, 2, 7, 5, 5, 2, 8, 5, 2, 1, 1, 4, 3, 2, 0, 3, 1, 5, 3, 7, 6, 8, 9, 1, 6, 4, 9, 3, 9, 0, 9, 6, 3, 6, 0, 7, 3, 8, 0, 0, 0, 6, 6, 6, 9, 2, 5, 4, 4, 6, 3, 6, 0, 8, 6, 0, 6, 2, 7, 5, 1, 2, 7, 8, 8, 0, 9, 4, 9, 7, 2, 0, 2, 8, 3, 8, 9, 1, 5, 5, 4, 7, 5, 3, 8, 3, 3, 6, 2, 8, 4, 3, 7, 1, 2, 4, 1, 6, 9, 0, 5, 8, 6, 1, 8, 6, 1, 4, 2, 6, 2, 7, 2, 2, 0, 8, 6, 9, 1, 7, 1, 8, 8, 0, 7, 3, 8, 0, 3, 4, 3, 7, 7, 9, 2, 3, 1, 9, 1, 9, 6, 3, 3, 3, 1, 0, 6, 1, 4, 1, 0, 0, 1, 1, 6, 5, 4, 6, 2, 0, 7, 9, 8, 7, 2, 0, 6, 8, 1, 4, 3, 7, 0, 6, 1, 8, 5, 7, 8, 4, 8, 3, 9, 9, 9, 8, 7, 6, 6, 3, 5, 1, 5, 9, 1, 4, 1, 5, 7, 0, 1, 5, 2, 0, 8, 8, 5, 6, 7, 3, 2, 4, 7, 2, 5, 8, 2, 4, 9, 2, 1, 8, 1, 9, 8, 8, 8, 9, 0, 4, 3, 3, 1, 8, 4, 6, 3, 3, 5, 2, 2, 8, 3, 8, 9, 5, 8, 9, 8, 9, 1, 6, 5, 9, 4, 4, 8, 0, 7, 2, 9, 7, 4, 1, 6, 4, 4, 9, 1, 2, 5, 6, 0, 8, 6, 1, 9, 4, 5, 9, 5, 0, 7, 2, 0, 0, 4, 2, 6, 6, 5, 5, 2, 8, 1, 7, 3, 1, 4, 5, 6, 5, 1, 4, 7, 0, 9, 4, 3, 8, 2, 8, 4, 7, 2, 3, 1, 5, 2, 9, 8, 9, 7, 9, 5, 1, 4, 0, 8, 2, 3, 8, 9, 1, 1, 3, 2, 4, 9, 3, 1, 7, 4, 6, 2, 8, 9, 5, 3, 9, 5, 5, 6, 7, 2, 4, 6, 3, 1, 0, 7, 2, 5, 4, 7, 6, 1, 1, 9, 8, 1, 0, 1, 3, 1, 1, 1, 7, 3, 9, 6, 8, 4, 6, 8, 4, 9, 4, 7, 9, 7, 6, 8, 4, 9, 7, 0, 1, 6, 1, 5, 9, 0, 4, 3, 4, 1, 3, 0, 8, 4, 6, 2, 2, 6, 5, 3, 6, 2, 1, 1, 8, 6, 0, 4, 0, 1, 9, 7, 1, 3, 7, 7, 8, 7, 7, 3, 9, 7, 7, 7, 2, 1, 2, 8, 6, 4, 0, 7, 9, 8, 6, 8, 4, 9, 1, 7, 2, 2, 8, 5, 8, 1, 2, 2, 4, 1, 2, 5, 2, 8, 1, 8, 1, 8, 6, 0, 2, 4, 1, 3, 6, 7, 7, 4, 4, 3, 3, 4, 5, 2, 4, 3, 7, 8, 4, 4, 4, 5, 4, 3, 2, 8, 4, 5, 5, 4, 1, 4, 2, 5, 1, 6, 4, 3, 4, 4, 0, 8, 8, 4, 5, 7, 5, 6, 9, 1, 6, 7, 2, 0, 1, 4, 5, 6, 0, 0, 2, 7, 5, 6, 0, 6, 2, 9, 1, 7, 7, 5, 2, 5, 6, 4, 1, 4, 3, 3, 3, 0, 3, 5, 5, 8, 9, 7, 3, 1, 3, 3, 3, 4, 4, 2, 3, 3, 8, 1, 7, 7, 0, 7, 4, 5, 1, 4, 2, 4, 3, 9, 9, 4, 9, 9, 1, 8, 1, 6, 7, 5, 5, 4, 9, 7, 6, 5, 9, 2, 4, 0, 7, 8, 5, 5, 0, 0, 9, 9, 8, 2, 5, 4, 8, 3, 6, 3, 6, 0, 6, 6, 6, 9, 6, 6, 8, 6, 2, 4, 5, 8, 1, 2, 7, 6, 5, 7, 8, 1, 8, 0, 8, 6, 9, 2, 8, 9, 4, 0, 9, 4, 9, 5, 7, 5, 5, 9, 5, 3, 0, 1, 9, 7, 2, 4, 1, 0, 8, 0, 3, 1, 7, 0, 0, 4, 8, 6, 2, 4, 0, 0, 9, 0, 8, 4, 5, 9, 3, 9, 0, 5, 6, 5, 0, 1, 4, 8, 1, 0, 5, 2, 1, 0, 2, 8, 1, 5, 6, 7, 7, 2, 6, 2, 5, 0, 1, 4, 2, 5, 4, 6, 2, 2, 1, 7, 2, 8, 5, 5, 3, 0, 4, 8, 3, 7, 6, 3, 8, 1, 0, 1, 3, 3, 0, 7, 4, 9, 5, 3, 6, 0, 1, 4, 4, 4, 4, 2, 2, 5, 8, 1, 5, 9, 8, 1, 1, 5, 3, 9, 9, 7, 6, 5, 0, 8, 4, 7, 0, 9, 2, 8, 4, 7, 1, 3, 9, 6, 8, 9, 0, 4, 9, 6, 7, 8, 9, 4, 8, 9, 7, 2, 5, 3, 7, 1, 0, 2, 9, 5, 5, 8, 5, 4, 2, 8, 3, 5, 5, 7, 7, 8, 6, 2, 8, 2, 3, 5, 6, 8, 0, 2, 3, 7, 0, 1, 9, 1, 3, 7, 5, 8, 3, 2, 9, 6, 8, 6, 9, 3, 8, 9, 8, 0, 7, 8, 5, 0, 0, 1, 3, 9, 1, 5, 3, 4, 4, 0, 9, 9, 9, 9, 8, 2, 4, 2, 2, 5, 1, 9, 1, 0, 9, 4, 2, 1, 6, 0, 3, 7, 6, 3, 1, 8, 6, 5, 7, 2, 8, 4, 4, 8, 3, 5, 0, 5, 7, 4, 4, 2, 2, 7, 3, 6, 0, 2, 7, 6, 2, 3, 0, 7, 7, 8, 1, 1, 4, 6, 0, 6, 6, 5, 5, 6, 3, 9, 3, 6, 8, 7, 6, 4, 9, 5, 6, 4, 1, 6, 3, 8, 2, 3, 9, 8, 5, 1, 5, 4, 5, 7, 5, 7, 8, 9, 1, 7, 2, 5, 6, 8, 4, 6, 5, 3, 9, 9, 8, 5, 5, 6, 4, 5, 9, 7, 3, 4, 1, 4, 2, 3, 6, 5, 5, 2, 8, 0, 0, 1, 8, 3, 1, 3, 5, 8, 3, 8, 5, 8, 6, 3, 5, 5, 5, 0, 9, 5, 5, 7, 1, 8, 2, 2, 7, 3, 4, 2, 9, 6, 2, 2, 4, 3, 0, 2, 0, 1, 3, 2, 2, 7, 0, 1, 0, 7, 7, 2, 0, 1, 6, 5, 0, 2, 2, 0, 1, 2, 6, 0, 1, 6, 6, 5, 3, 4, 0, 0, 9, 1, 0, 2, 5, 9, 7, 8, 6, 4, 6, 0, 2, 0, 1, 9, 2, 4, 9, 0, 7, 2, 3, 4, 8, 0, 2, 6, 8, 9, 7, 1, 9, 3, 7, 2, 7, 9, 6, 9, 5, 7, 8, 5, 9, 8, 3, 9, 8, 0, 5, 5, 7, 1, 2, 0, 7, 5, 8, 2, 2, 5, 3, 9, 3, 1, 9, 3, 1, 4, 3, 4, 4, 9, 0, 9, 5, 9, 2, 9, 4, 0, 2, 8, 4, 8, 6, 8, 2, 0, 5, 9, 6, 9, 5, 1, 3, 4, 4, 2, 7, 2, 4, 4, 0, 2, 8, 4, 5, 1, 2, 6, 8, 1, 7, 2, 8, 7, 4, 3, 3, 0, 3, 7, 2, 5, 6, 1, 7, 9, 0, 2, 3, 9, 8, 9, 5, 0, 0, 7, 6, 3, 3, 8, 1, 4, 0, 1, 5, 4, 3, 2, 6, 0, 8, 8, 6, 3, 3, 2, 9, 7, 5, 1, 6, 0, 5, 9, 9, 4, 5, 9, 4, 8, 3, 3, 2, 5, 1, 9, 5, 5, 8, 1, 8, 9, 7, 0, 6, 3, 2, 0, 2, 6, 9, 3, 9, 1, 6, 6, 7, 2, 6, 3, 2, 5, 5, 2, 7, 5, 2, 0, 8, 0, 7, 7, 1, 7, 4, 0, 2, 2, 6, 1, 5, 9, 7, 6, 2, 7, 0, 5, 6, 0, 1, 1, 8, 4, 5, 3, 1, 2, 4, 8, 9, 8, 1, 7, 2, 7, 2, 3, 2, 6, 7, 9, 4, 0, 1, 0, 4, 5, 0, 8, 0, 7, 6, 1, 0, 8, 5, 9, 2, 5, 4, 4, 9, 0, 6, 1, 2, 5, 1, 6, 7, 1, 5, 8, 8, 0, 3, 9, 4, 0, 3, 4, 9, 2, 4, 3, 0, 6, 4, 5, 6, 6, 7, 8, 4, 8, 8, 3, 2, 8, 0, 2, 5, 6, 8, 7, 8, 9, 9, 0, 6, 6, 8, 1, 1, 7, 4, 4, 2, 3, 6, 9, 6, 2, 4, 1, 8, 2, 3, 1, 6, 8, 6, 8, 5, 9, 0, 1, 0, 2, 9, 2, 9, 0, 9, 7, 8, 5, 0, 6, 6, 8, 1, 6, 5, 8, 7, 9, 2, 1, 6, 7, 5, 6, 3, 0, 9, 8, 9, 5, 9, 9, 9, 3, 6, 4, 4, 8, 8, 1, 7, 3, 0, 6, 2, 4, 8, 2, 2, 9, 2, 2, 9, 7, 4, 1, 9, 1, 4, 3, 5, 3, 8, 9, 3, 6, 2, 0, 8, 9, 0, 5, 1, 5, 8, 2, 1, 2, 3, 2, 4, 8, 4, 0, 6, 4, 2, 9, 8, 4, 7, 6, 2, 4, 7, 7, 6, 4, 2, 2, 3, 2, 4, 9, 0, 0, 9, 6, 5, 8, 5, 2, 4, 8, 8, 6, 4, 5, 7, 6, 3, 7, 0, 4, 0, 5, 8, 2, 8, 0, 4, 9, 2, 3, 6, 8, 1, 6, 0, 8, 4, 3, 1, 4, 5, 2, 4, 3, 6, 0, 7, 1, 3, 5, 7, 1, 8, 0, 4, 8, 2, 7, 7, 0, 2, 2, 4, 3, 3, 1, 6, 1, 6, 4, 6, 7, 4, 7, 3, 8, 1, 3, 1, 4, 6, 5, 5, 7, 4, 5, 4, 9, 7, 7, 2, 3, 3, 6, 7, 4, 1, 6, 1, 0, 6, 9, 6, 0, 2, 0, 2, 4, 7, 0, 0, 0, 0, 7, 5, 3, 2, 7, 8, 5, 5, 2, 2, 8, 9, 1, 2, 2, 0, 3, 4, 9, 1, 6, 9, 0, 8, 3, 6, 4, 6, 7, 5, 1, 8, 9, 0, 5, 0, 5, 4, 3, 8, 5, 2, 0, 8, 5, 9, 2, 5, 6, 5, 7, 3, 7, 2, 8, 8, 4, 2, 1, 6, 2, 9, 9, 8, 2, 3, 1, 0, 5, 2, 3, 7, 9, 5, 9, 1, 1, 3, 2, 7, 4, 4, 1, 9, 4, 5, 5, 2, 7, 7, 6, 1, 2, 3, 7, 5, 4, 3, 7, 7, 0, 0, 1, 4, 4, 3, 7, 9, 8, 7, 0, 9, 0, 3, 7, 6, 3, 8, 4, 5, 6, 5, 3, 4, 2, 9, 2, 4, 9, 2, 0, 1, 1, 3, 7, 9, 5, 1, 6, 0, 3, 3, 7, 2, 4, 5, 2, 3, 6, 3, 3, 0, 4, 4, 3, 8, 1, 2, 3, 2, 7, 1, 4, 5, 6, 8, 6, 6, 5, 4, 2, 9, 9, 3, 2, 0, 4, 1, 5, 5, 6, 6, 5, 6, 9, 7, 9, 4, 8, 3, 1, 9, 8, 1, 9, 0, 3, 0, 4, 7, 7, 2, 6, 5, 6, 9, 7, 7, 5, 7, 0, 8, 6, 7, 8, 3, 8, 9, 3, 2, 9, 2, 7, 4, 1, 9, 7, 0, 8, 1, 2, 0, 6, 5, 1, 4, 2, 8, 2, 8, 3, 3, 1, 4, 9, 8, 1, 1, 7, 9, 9, 4, 6, 8, 5, 3, 2, 2, 3, 8, 5, 1, 9, 7, 9, 1, 5, 3, 1, 0, 3, 8, 9, 2, 0, 8, 0, 7, 9, 4, 8, 3, 0, 7, 0, 7, 0, 5, 5, 4, 3, 0, 9, 9, 0, 2, 2, 0, 8, 4, 4, 5, 2, 2, 1, 1, 5, 5, 4, 3, 4, 0, 8, 4, 8, 2, 5, 6, 5, 1, 7, 2, 4, 0, 5, 6, 8, 7, 6, 3, 1, 3, 6, 6, 4, 5, 5, 5, 1, 8, 7, 3, 0, 2, 5, 1, 1, 1, 6, 7, 2, 1, 2, 3, 9, 8, 3, 1, 7, 4, 8, 4, 7, 5, 8, 6, 0, 3, 0, 8, 3, 4, 4, 9, 4, 6, 1, 5, 7, 7, 9, 0, 1, 3, 1, 3, 2, 4, 0, 7, 8, 3, 1, 6, 2, 1, 8, 8, 1, 9, 7, 5, 3, 2, 9, 0, 6, 8, 4, 1, 5, 7, 2, 4, 7, 0, 4, 9, 0, 7, 0, 6, 7, 1, 8, 5, 8, 8, 7, 0, 0, 3, 2, 5, 7, 0, 6, 4, 4, 9, 1, 8, 6, 3, 9, 4, 9, 3, 3, 7, 5, 9, 7, 7, 4, 5, 8, 2, 8, 9, 5, 3, 1, 9, 2, 2, 0, 1, 1, 8, 1, 1, 9, 8, 9, 9, 0, 2, 6, 9, 1, 9, 0, 1, 9, 2, 9, 9, 9, 0, 9, 9, 2, 1, 7, 0, 5, 6, 3, 9, 8, 3, 0, 2, 7, 7, 4, 8, 3, 0, 5, 2, 3, 5, 7, 6, 6, 6, 5, 6, 5, 4, 5, 8, 8, 0, 9, 7, 9, 0, 6, 9, 6, 1, 4, 7, 9, 0, 3, 5, 4, 7, 6, 9, 8, 2, 3, 9, 3, 3, 7, 8, 3, 5, 5, 9, 6, 1, 4, 7, 4, 8, 7, 7, 1, 3, 0, 3, 2, 5, 4, 9, 3, 5, 4, 7, 0, 3, 7, 0, 2, 1, 5, 8, 7, 3, 5, 7, 8, 5, 7, 8, 1, 5, 4, 7, 0, 8, 3, 2, 9, 7, 4, 1, 6, 5, 9, 8, 5, 5, 4, 1, 0, 9, 4, 4, 3, 0, 4, 8, 0, 8, 2, 9, 5, 9, 7, 4, 6, 7, 9, 2, 9, 3, 7, 7, 8, 2, 2, 0, 2, 5, 3, 6, 4, 7, 2, 3, 7, 8, 7, 2, 5, 0, 0, 7, 0, 9, 6, 1, 0, 3, 9, 7, 4, 9, 1, 6, 8, 1, 2, 3, 3, 5, 4, 8, 9, 7, 4, 4, 1, 2, 4, 9, 8, 7, 9, 5, 1, 2, 1, 6, 6, 4, 5, 7, 4, 5, 8, 5, 2, 8, 7, 8, 2, 3, 6, 1, 3, 3, 1, 5, 1, 9, 0, 9, 2, 0, 6, 2, 4, 8, 5, 7, 6, 1, 2, 9, 4, 5, 0, 3, 3, 7, 7, 7, 1, 4, 5, 0, 2, 8, 5, 0, 0, 6, 2, 0, 8, 4, 5, 4, 5, 6, 4, 7, 9, 4, 2, 0, 6, 4, 0, 0, 6, 4, 6, 1, 9, 5, 5, 2, 2, 6, 3, 4, 5, 9, 1, 7, 2, 3, 9, 6, 5, 0, 2, 9, 7, 1, 7, 2, 2, 0, 8, 6, 4, 3, 2, 7, 7, 0, 4, 1, 6, 5, 1, 3, 0, 3, 9, 0, 0, 2, 5, 0, 4, 0, 1, 9, 8, 4, 9, 4, 2, 4, 3, 3, 4, 0, 4, 3, 2, 8, 9, 1, 5, 8, 1, 8, 2, 4, 5, 2, 4, 1, 1, 6, 6, 8, 5, 2, 2, 5, 0, 8, 2, 3, 6, 2, 9, 6, 1, 4, 5, 9, 0, 1, 0, 0, 8, 1, 1, 6, 6, 9, 5, 4, 1, 7, 8, 6, 9, 1, 7, 6, 0, 9, 3, 5, 3, 2, 5, 3, 4, 9, 7, 1, 4, 4, 6, 1, 3, 8, 8, 0, 6, 7, 7, 6, 7, 2, 3, 2, 2, 6, 2, 7, 4, 0, 3, 6, 2, 6, 3, 3, 0, 9, 5, 1, 1, 5, 3, 6, 4, 3, 4, 1, 0, 4, 5, 5, 2, 8, 9, 4, 3, 1, 8, 0, 1, 3, 3, 4, 4, 2, 9, 7, 6, 8, 1, 8, 9, 1, 3, 1, 7, 3, 0, 0, 2, 8, 3, 9, 2, 7, 2, 6, 0, 1, 6, 1, 6, 7, 5, 5, 2, 5, 9, 4, 0, 2, 3, 4, 9, 4, 1, 0, 0, 2, 3, 8, 9, 2, 8, 9, 5, 7, 9, 1, 4, 6, 2, 8, 4, 4, 8, 9, 3, 1, 1, 6, 5, 8, 4, 6, 4, 5, 2, 6, 4, 2, 3, 1, 3, 6, 8, 5, 2, 2, 7, 1, 6, 2, 5, 9, 2, 8, 1, 6, 9, 2, 7, 5, 3, 2, 9, 7, 0, 2, 9, 3, 4, 1, 7, 9, 5, 8, 9, 7, 3, 4, 0, 9, 7, 4, 2, 4, 7, 0, 1, 8, 1, 0, 4, 6, 1, 9, 9, 2, 1, 2, 5, 6, 9, 7, 7, 3, 4, 2, 0, 2, 5, 6, 7, 3, 7, 9, 4, 2, 0, 6, 1, 7, 5, 6, 5, 3, 9, 2, 7, 8, 5, 9, 5, 8, 5, 4, 3, 7, 9, 8, 1, 2, 2, 8, 9, 3, 0, 8, 4, 0, 2, 0, 1, 4, 1, 8, 5, 5, 7, 9, 8, 3, 7, 9, 1, 5, 6, 9, 8, 7, 2, 0, 9, 0, 8, 5, 9, 4, 2, 9, 8, 1, 9, 1, 8, 3, 7, 6, 4, 2, 3, 7, 0, 3, 5, 8, 8, 8, 7, 9, 6, 2, 7, 4, 5, 7, 6, 7, 1, 7, 3, 6, 8, 2, 6, 6, 7, 1, 5, 9, 7, 1, 7, 0, 1, 6, 3, 3, 9, 0, 1, 2, 3, 2, 2, 5, 4, 9, 8, 7, 4, 4, 9, 7, 6, 7, 7, 1, 2, 3, 5, 1, 9, 0, 3, 3, 1, 5, 6, 6, 2, 4, 6, 8, 8, 9, 6, 6, 1, 0, 7, 5, 8, 2, 1, 5, 8, 1, 4, 7, 5, 0, 3, 9, 9, 5, 2, 8, 4, 1, 9, 0, 4, 4, 8, 2, 9, 0, 7, 9, 8, 7, 1, 3, 2, 9, 9, 5, 9, 7, 6, 7, 7, 1, 1, 2, 4, 2, 0, 6, 8, 7, 6, 2, 2, 9, 8, 2, 4, 2, 0, 5, 8, 6, 8, 2, 7, 7, 3, 1, 8, 1, 6, 5, 9, 7, 8, 9, 6, 4, 8, 1, 9, 4, 0, 4, 1, 4, 3, 6, 2, 2, 7, 0, 0, 7, 0, 7, 4, 3, 6, 7, 7, 4, 5, 4, 3, 5, 5, 4, 7, 1, 0, 7, 7, 1, 6, 5, 0, 7, 7, 4, 6, 1, 8, 5, 9, 3, 5, 6, 2, 2, 7, 3, 5, 8, 1, 0, 6, 8, 7, 8, 8, 5, 7, 5, 4, 9, 7, 3, 3, 8, 8, 3, 9, 4, 7, 2, 0, 8, 0, 7, 3, 3, 2, 5, 2, 4, 4, 0, 4, 8, 2, 4, 0, 6, 4, 5, 6, 0, 8, 8, 0, 6, 1, 1, 6, 1, 4, 2, 1, 1, 2, 4, 4, 5, 5, 8, 8, 5, 1, 8, 2, 3, 3, 9, 6, 6, 5, 0, 7, 3, 3, 2, 7, 4, 5, 6, 0, 2, 1, 8, 1, 0, 9, 3, 1, 0, 5, 4, 2, 3, 3, 6, 7, 6, 0, 0, 5, 7, 4, 7, 7, 0, 6, 1, 3, 9, 0, 9, 0, 3, 8, 4, 8, 8, 4, 1, 0, 2, 2, 4, 1, 1, 2, 4, 3, 4, 1, 4, 7, 1, 0, 0, 9, 0, 4, 2, 8, 8, 5, 5, 0, 4, 0, 8, 6, 2, 5, 9, 2, 9, 1, 1, 5, 4, 7, 5, 8, 6, 2, 1, 5, 5, 3, 4, 1, 8, 9, 9, 8, 9, 8, 6, 8, 5, 8, 9, 4, 6, 2, 6, 3, 7, 4, 0, 0, 1, 7, 5, 1, 5, 9, 3, 1, 6, 8, 7, 3, 6, 9, 1, 2, 0, 1, 7, 2, 6, 1, 9, 0, 0, 8, 9, 9, 2, 8, 6, 2, 5, 6, 0, 3, 3, 0, 7, 4, 7, 5, 0, 1, 6, 8, 8, 1, 2, 1, 5, 4, 5, 9, 6, 7, 1, 0, 6, 9, 2, 7, 7, 3, 9, 9, 1, 9, 7, 0, 1, 3, 5, 4, 6, 3, 8, 8, 0, 4, 8, 3, 6, 7, 0, 0, 4, 5, 2, 6, 8, 4, 9, 9, 9, 2, 0, 4, 2, 8, 1, 1, 0, 0, 3, 7, 4, 1, 1, 9, 7, 7, 4, 6, 8, 6, 0, 2, 8, 5, 3, 5, 3, 5, 7, 9, 8, 4, 4, 3, 1, 4, 8, 3, 6, 5, 3, 0, 8, 9, 5, 7, 6, 2, 0, 4, 9, 9, 0, 5, 2, 3, 6, 1, 1, 0, 2, 8, 2, 1, 1, 7, 5, 2, 3, 4, 1, 2, 9, 2, 1, 3, 4, 8, 9, 0, 0, 4, 9, 0, 2, 2, 0, 6, 8, 7, 3, 3, 8, 9, 0, 2, 5, 3, 6, 1, 3, 9, 5, 0, 5, 4, 4, 0, 1, 1, 6, 1, 7, 9, 9, 6, 2, 4, 3, 8, 3, 4, 7, 0, 2, 8, 4, 8, 3, 8, 8, 8, 3, 3, 5, 7, 7, 0, 4, 1, 5, 9, 7, 0, 6, 8, 4, 9, 0, 1, 8, 9, 6, 3, 9, 2, 4, 4, 0, 3, 3, 5, 4, 5, 1, 1, 8, 2, 2, 9, 3, 7, 8, 9, 2, 3, 1, 7, 3, 2, 3, 0, 1, 9, 5, 5, 3, 4, 5, 2, 0, 0, 3, 1, 3, 4, 7, 4, 2, 8, 4, 8, 9, 9, 4, 2, 4, 3, 6, 4, 6, 4, 6, 6, 3, 8, 7, 4, 8, 0, 5, 9, 3, 9, 0, 7, 5, 1, 9, 7, 9, 1, 8, 4, 2, 1, 6, 4, 3, 0, 1, 4, 8, 6, 1, 7, 1, 3, 5, 4, 3, 3, 9, 7, 8, 2, 5, 5, 4, 5, 4, 5, 7, 2, 5, 5, 1, 7, 7, 8, 3, 6, 0, 2, 5, 2, 3, 7, 4, 2, 1, 6, 8, 6, 8, 3, 2, 7, 7, 9, 7, 1, 4, 7, 4, 6, 1, 7, 3, 0, 0, 6, 6, 8, 6, 6, 0, 3, 4, 7, 4, 9, 4, 9, 9, 3, 4, 1, 4, 0, 3, 7, 1, 2, 2, 8, 4, 7, 8, 5, 5, 6, 5, 6, 0, 6, 4, 9, 3, 2, 7, 3, 8, 3, 9, 4, 1, 6, 9, 9, 4, 3, 9, 8, 1, 6, 9, 5, 9, 0, 9, 7, 2, 2, 4, 2, 6, 4, 8, 1, 9, 5, 6, 5, 1, 8, 6, 6, 7, 6, 5, 0, 2, 7, 6, 1, 2, 3, 1, 6, 4, 9, 0, 3, 9, 1, 0, 5, 3, 1, 6, 9, 8, 9, 0, 6, 1, 6, 2, 3, 5, 6, 9, 0, 7, 2, 4, 0, 3, 6, 8, 6, 9, 1, 9, 0, 6, 4, 5, 9, 5, 4, 1, 9, 2, 0, 7, 3, 5, 1, 8, 3, 0, 5, 2, 8, 8, 3, 9, 6, 0, 3, 5, 3, 4, 1, 5, 0, 7, 3, 9, 4, 5, 3, 1, 4, 2, 4, 9, 9, 7, 1, 7, 0, 1, 2, 1, 5, 3, 8, 4, 1, 5, 1, 9, 9, 7, 0, 1, 7, 6, 2, 6, 5, 0, 3, 1, 3, 8, 9, 9, 0, 8, 8, 7, 9, 2, 9, 1, 3, 6, 7, 6, 0, 8, 6, 2, 4, 2, 3, 5, 5, 4, 1, 6, 7, 1, 6, 1, 7, 1, 6, 2, 3, 0, 4, 2, 9, 7, 5, 5, 6, 0, 8, 8, 1, 1, 3, 5, 6, 5, 3, 8, 7, 5, 0, 7, 7, 5, 7, 1, 9, 9, 1, 9, 9, 3, 5, 5, 3, 0, 3, 0, 6, 6, 5, 6, 8, 9, 4, 5, 1, 1, 2, 7, 9, 0, 1, 2, 5, 4, 4, 7, 4, 8, 3, 3, 5, 3, 5, 7, 0, 1, 2, 9, 8, 1, 7, 3, 5, 9, 1, 9, 1, 1, 3, 6, 7, 4, 8, 3, 5, 6, 7, 0, 1, 7, 7, 2, 3, 3, 5, 1, 7, 6, 8, 4, 4, 5, 7, 3, 4, 7, 7, 3, 6, 0, 7, 2, 6, 7, 4, 1, 8, 0, 2, 2, 1, 5, 4, 0, 9, 3, 4, 4, 2, 3, 8, 5, 0, 0, 4, 6, 3, 9, 2, 0, 5, 7, 5, 5, 1, 7, 3, 1, 6, 7, 9, 0, 1, 2, 1, 4, 6, 1, 5, 9, 5, 0, 4, 9, 4, 9, 7, 1, 6, 8, 0, 6, 5, 0, 8, 1, 7, 5, 6, 9, 3, 2, 3, 9, 8, 6, 1, 0, 9, 0, 9, 8, 7, 7, 5, 2, 3, 5, 5, 7, 8, 7, 6, 9, 1, 9, 8, 6, 5, 6, 7, 5, 6, 7, 2, 5, 9, 6, 6, 7, 0, 1, 0, 1, 3, 2, 5, 6, 1, 2, 5, 1, 9, 9, 8, 6, 8, 6, 8, 9, 0, 4, 0, 3, 3, 6, 4, 9, 9, 7, 2, 3, 5, 6, 4, 6, 0, 3, 7, 5, 0, 2, 9, 2, 7, 2, 9, 2, 4, 0, 6, 6, 3, 4, 5, 5, 9, 1, 1, 4, 4, 3, 5, 4, 8, 0, 0, 3, 9, 4, 7, 4, 2, 8, 3, 6, 3, 1, 9, 6, 3, 8, 3, 8, 4, 7, 5, 7, 5, 3, 1, 2, 6, 1, 3, 2, 0, 7, 5, 0, 0, 0, 1, 4, 3, 5, 8, 4, 3, 1, 7, 1, 0, 4, 2, 4, 1, 4, 0, 1, 2, 1, 7, 7, 9, 8, 7, 5, 4, 0, 9, 0, 0, 8, 2, 0, 0, 2, 4, 8, 6, 2, 4, 6, 3, 5, 1, 5, 3, 7, 2, 2, 9, 8, 0, 0, 0, 3, 4, 4, 6, 1, 6, 7, 4, 4, 3, 9, 4, 0, 8, 0, 4, 6, 5, 7, 9, 7, 0, 5, 7, 7, 3, 1, 9, 3, 0, 9, 5, 3, 7, 9, 4, 4, 1, 7, 7, 1, 4, 1, 2, 8, 7, 0, 0, 4, 7, 2, 9, 7, 6, 9, 3, 5, 8, 0, 3, 6, 8, 3, 2, 4, 7, 1, 1, 3, 9, 7, 5, 1, 0, 8, 7, 0, 1, 6, 9, 3, 2, 7, 7, 8, 1, 0, 3, 4, 6, 7, 5, 2, 0, 1, 5, 5, 1, 4, 1, 3, 0, 8, 6, 2, 1, 3, 6, 4, 1, 9, 0, 4, 1, 0, 1, 9, 8, 6, 9, 2, 4, 7, 2, 2, 7, 4, 9, 1, 3, 2, 6, 3, 4, 4, 9, 4, 8, 2, 6, 6, 1, 6, 3, 6, 5, 8, 4, 6, 7, 1, 9, 3, 6, 7, 6, 0, 7, 1, 9, 5, 2, 6, 7, 7, 6, 5, 9, 1, 5, 6, 0, 2, 0, 9, 1, 8, 3, 5, 0, 0, 0, 5, 7, 7, 8, 5, 5, 5, 1, 6, 1, 5, 1, 0, 6, 2, 3, 2, 1, 7, 5, 1, 9, 8, 3, 6, 9, 7, 3, 0, 2, 3, 9, 4, 4, 3, 9, 6, 8, 6, 6, 8, 5, 4, 3, 6, 7, 7, 4, 3, 9, 6, 2, 4, 0, 1, 3, 6, 4, 9, 2, 6, 0, 3, 8, 7, 5, 3, 3, 8, 3, 2, 6, 3, 6, 2, 7, 4, 5, 7, 9, 0, 0, 6, 7, 2, 8, 5, 5, 7, 5, 5, 9, 4, 6, 4, 7, 3, 3, 6, 4, 1, 6, 3, 1, 6, 7, 0, 5, 0, 1, 9, 7, 3, 5, 2, 3, 9, 5, 6, 4, 0, 0, 0, 8, 0, 3, 2, 4, 5, 3, 7, 9, 6, 9, 3, 1, 2, 6, 7, 4, 5, 1, 3, 7, 6, 9, 5, 8, 5, 8, 5, 8, 5, 6, 5, 0, 8, 3, 8, 1, 8, 1, 5, 0, 9, 8, 6, 3, 6, 3, 4, 4, 7, 4, 7, 4, 3, 2, 4, 5, 5, 7, 5, 4, 5, 8, 0, 5, 4, 0, 5, 4, 3, 3, 2, 4, 2, 9, 4, 8, 8, 6, 2, 6, 1, 7, 0, 4, 3, 8, 5, 9, 7, 6, 7, 1, 0, 2, 3, 5, 6, 7, 1, 6, 2, 8, 3, 7, 2, 5, 7, 5, 7, 7, 1, 7, 4, 3, 3, 4, 0, 4, 2, 7, 0, 2, 2, 6, 6, 2, 5, 2, 6, 0, 6, 1, 2, 9, 0, 0, 1, 5, 5, 1, 6, 7, 8, 5, 6, 3, 3, 6, 0, 9, 9, 2, 2, 6, 1, 4, 6, 2, 5, 7, 8, 8, 5, 6, 4, 3, 2, 3, 4, 4, 4, 8, 9, 2, 6, 0, 9, 7, 9, 8, 7, 7, 3, 8, 2, 9, 3, 5, 7, 5, 8, 7, 3, 7, 0, 7, 1, 6, 2, 4, 0, 0, 2, 9, 8, 2, 8, 7, 7, 5, 5, 0, 1, 2, 9, 6, 1, 0, 1, 0, 6, 5, 0, 5, 7, 4, 4, 8, 3, 5, 3, 7, 2, 5, 8, 3, 5, 7, 3, 7, 0, 5, 4, 5, 6, 9, 3, 5, 3, 8, 2, 4, 2, 2, 6, 7, 6, 0, 5, 5, 8, 4, 5, 6, 1, 3, 5, 4, 7, 3, 0, 7, 2, 0, 1, 2, 4, 9, 6, 4, 5, 9, 7, 7, 6, 7, 4, 3, 1, 6, 9, 4, 8, 0, 3, 1, 6, 4, 4, 2, 1, 4, 6, 3, 0, 8, 9, 7, 6, 8, 4, 8, 1, 4, 5, 9, 4, 7, 1, 4, 5, 3, 1, 2, 6, 4, 7, 1, 5, 9, 3, 1, 4, 8, 7, 7, 0, 4, 3, 4, 6, 7, 7, 5, 4, 4, 4, 3, 6, 6, 1, 9, 9, 7, 9, 4, 3, 2, 9, 8, 5, 0, 6, 9, 0, 9, 7, 8, 5, 4, 4, 9, 4, 2, 6, 6, 9, 9, 7, 9, 9, 0, 5, 1, 1, 8, 6, 9, 9, 5, 6, 5, 5, 9, 7, 9, 4, 5, 4, 3, 3, 9, 8, 8, 3, 4, 8, 4, 0, 4, 0, 7, 2, 8, 0, 2, 0, 7, 4, 0, 6, 3, 3, 1, 7, 4, 6, 5, 0, 4, 9, 5, 6, 6, 3, 0, 5, 2, 6, 3, 3, 8, 0, 8, 5, 4, 2, 9, 5, 0, 5, 4, 8, 2, 7, 6, 5, 7, 8, 2, 0, 1, 8, 2, 4, 8, 4, 3, 0, 4, 0, 1, 9, 3, 0, 3, 6, 5, 5, 2, 8, 5, 0, 8, 7, 5, 2, 4, 3, 7, 0, 2, 3, 1, 0, 0, 2, 1, 2, 1, 4, 6, 7, 1, 0, 5, 2, 5, 9, 2, 5, 6, 7, 1, 9, 3, 6, 1, 0, 2, 9, 4, 2, 9, 3, 8, 2, 9, 8, 5, 1, 0, 1, 5, 2, 5, 6, 8, 8, 3, 5, 0, 4, 1, 3, 7, 0, 3, 3, 9, 2, 3, 9, 9, 8, 5, 9, 7, 2, 0, 9, 4, 7, 1, 7, 6, 4, 4, 8, 9, 0, 7, 1, 2, 4, 0, 3, 7, 5, 1, 9, 3, 5, 2, 4, 1, 1, 3, 3, 9, 2, 5, 8, 0, 8, 1, 5, 1, 5, 9, 0, 9, 2, 4, 0, 6, 9, 1, 1, 3, 4, 9, 5, 3, 3, 3, 3, 4, 1, 5, 9, 8, 7, 4, 8, 7, 3, 5, 2, 5, 8, 9, 7, 2, 0, 0, 7, 5, 3, 5, 7, 4, 6, 2, 8, 2, 7, 7, 6, 1, 3, 8, 6, 2, 0, 4, 4, 8, 6, 4, 0, 2, 5, 4, 1, 2, 5, 4, 6, 9, 5, 0, 5, 2, 0, 8, 2, 6, 4, 7, 9, 5, 7, 2, 6, 2, 1, 9, 9, 7, 2, 5, 1, 8, 1, 6, 3, 0, 8, 8, 5, 6, 9, 9, 9, 6, 3, 0, 8, 8, 5, 3, 3, 1, 1, 0, 7, 0, 6, 0, 4, 4, 6, 5, 3, 2, 9, 6, 6, 7, 9, 7, 7, 0, 8, 4, 2, 7, 7, 7, 4, 0, 1, 6, 0, 5, 3, 0, 2, 4, 9, 7, 3, 3, 2, 8, 8, 5, 3, 8, 0, 8, 0, 0, 0, 2, 2, 7, 0, 7, 7, 7, 2, 2, 0, 4, 0, 3, 7, 8, 4, 7, 9, 6, 1, 1, 6, 9, 3, 8, 9, 5, 8, 3, 9, 4, 3, 7, 5, 5, 2, 7, 5, 7, 9, 6, 3, 0, 8, 4, 5, 6, 1, 0, 4, 8, 4, 7, 1, 3, 2, 0, 9, 1, 8, 8, 6, 8, 1, 7, 1, 0, 9, 7, 6, 4, 5, 8, 2, 1, 2, 5, 8, 1, 1, 8, 8, 0, 9, 0, 0, 4, 3, 3, 5, 6, 6, 3, 1, 4, 4, 7, 8, 0, 1, 4, 8, 4, 6, 2, 2, 2, 6, 3, 4, 0, 8, 1, 3, 8, 3, 8, 9, 1, 6, 1, 9, 8, 2, 0, 4, 7, 4, 0, 0, 7, 6, 8, 9, 8, 6, 2, 8, 8, 0, 1, 1, 0, 7, 7, 4, 4, 7, 7, 2, 6, 6, 7, 4, 5, 4, 0, 9, 4, 7, 2, 5, 3, 2, 2, 7, 6, 2, 6, 4, 9, 6, 8, 3, 8, 5, 5, 2, 3, 4, 5, 2, 7, 5, 1, 5, 3, 7, 8, 8, 9, 6, 0, 9, 2, 6, 0, 0, 1, 4, 1, 3, 5, 1, 8, 9, 6, 2, 6, 9, 5, 6, 5, 9, 1, 4, 2, 8, 9, 5, 4, 7, 0, 3, 7, 1, 6, 9, 1, 1, 4, 0, 5, 1, 6, 3, 0, 2, 5, 5, 5, 2, 8, 2, 3, 1, 6, 2, 7, 0, 8, 9, 2, 6, 4, 7, 5, 5, 8, 8, 7, 8, 5, 7, 4, 4, 0, 0, 7, 0, 4, 0, 4, 4, 2, 5, 4, 0, 7, 7, 7, 0, 4, 6, 2, 9, 1, 1, 5, 0, 9, 1, 0, 6, 5, 3, 0, 9, 0, 6, 2, 0, 4, 1, 6, 7, 6, 1, 0, 4, 6, 0, 4, 4, 2, 7, 6, 5, 3, 5, 9, 4, 5, 2, 0, 5, 7, 2, 3, 9, 4, 5, 8, 1, 9, 3, 1, 8, 5, 8, 6, 6, 3, 4, 0, 2, 3, 2, 6, 1, 8, 2, 1, 3, 6, 2, 2, 3, 3, 5, 0, 2, 1, 2, 8, 0, 8, 2, 2, 7, 3, 5, 9, 8, 3, 6, 1, 0, 8, 6, 3, 5, 8, 9, 4, 8, 0, 0, 2, 9, 1, 8, 3, 7, 2, 8, 0, 9, 4, 8, 9, 4, 8, 9, 5, 4, 8, 1, 5, 5, 7, 2, 5, 8, 8, 1, 2, 3, 1, 5, 0, 2, 3, 0, 8, 2, 2, 8, 7, 3, 5, 3, 9, 6, 3, 5, 1, 1, 7, 7, 3, 3, 8, 9, 6, 0, 8, 0, 6, 6, 4, 6, 9, 1, 1, 7, 0, 6, 8, 9, 0, 6, 9, 0, 1, 1, 7, 2, 1, 0, 4, 5, 0, 3, 6, 3, 3, 8, 1, 8, 1, 3, 1, 5, 4, 5, 1, 8, 9, 1, 3, 1, 7, 2, 9, 8, 9, 4, 6, 0, 9, 4, 0, 4, 6, 2, 1, 3, 0, 8, 5, 6, 0, 3, 4, 6, 9, 5, 7, 9, 0, 3, 6, 5, 7, 0, 5, 1, 2, 2, 9, 7, 0, 0, 1, 4, 4, 5, 5, 9, 6, 3, 6, 2, 6, 9, 3, 2, 3, 2, 4, 9, 5, 2, 1, 6, 6, 4, 7, 6, 3, 3, 8, 1, 4, 6, 4, 4, 5, 6, 2, 0, 5, 2, 7, 5, 2, 5, 2, 5, 9, 0, 6, 7, 9, 8, 3, 2, 1, 4, 3, 4, 5, 5, 6, 8, 6, 0, 8, 9, 8, 0, 7, 7, 6, 6, 7, 5, 9, 8, 7, 9, 5, 6, 0, 4, 8, 2, 0, 9, 1, 3, 9, 8, 3, 7, 4, 5, 0, 2, 1, 9, 1, 0, 5, 8, 4, 7, 3, 1, 4, 5, 3, 1, 0, 8, 8, 8, 2, 1, 3, 7, 3, 1, 6, 9, 1, 6, 0, 7, 7, 1, 3, 3, 3, 1, 0, 2, 7, 1, 2, 2, 9, 6, 3, 5, 9, 4, 8, 0, 4, 8, 0, 1, 3, 7, 0, 4, 7, 4, 8, 6, 4, 3, 9, 8, 2, 2, 8, 3, 1, 1, 2, 8, 2, 6, 9, 4, 8, 4, 4, 1, 5, 2, 6, 9, 2, 0, 7, 1, 8, 9, 3, 9, 9, 0, 7, 7, 5, 4, 2, 6, 4, 5, 7, 7, 8, 7, 2, 6, 2, 2, 4, 4, 0, 7, 1, 3, 9, 6, 0, 0, 2, 3, 8, 2, 2, 4, 3, 5, 2, 9, 1, 0, 0, 6, 5, 5, 7, 9, 9, 6, 5, 5, 0, 5, 7, 1, 6, 6, 4, 1, 4, 4, 1, 5, 0, 0, 4, 5, 8, 4, 8, 3, 0, 5, 0, 5, 3, 1, 6, 7, 0, 9, 1, 5, 7, 6, 5, 5, 5, 6, 0, 0, 1, 7, 5, 1, 9, 2, 4, 1, 3, 7, 8, 2, 0, 9, 6, 6, 0, 6, 5, 8, 2, 7, 4, 0, 2, 7, 7, 8, 8, 7, 0, 4, 9, 1, 4, 4, 3, 5, 4, 6, 2, 3, 1, 0, 3, 3, 3, 6, 3, 1, 2, 8, 9, 7, 9, 3, 8, 7, 3, 1, 7, 7, 3, 2, 2, 8, 9, 5, 9, 2, 1, 7, 4, 4, 0, 5, 7, 1, 5, 4, 0, 8, 4, 9, 8, 7, 8, 4, 2, 3, 4, 0, 5, 4, 1, 8, 2, 5, 4, 5, 2, 5, 3, 7, 9, 7, 1, 4, 1, 3, 1, 4, 5, 5, 1, 7, 1, 3, 0, 1, 2, 5, 7, 0, 6, 3, 5, 7, 5, 5, 8, 9, 4, 6, 3, 6, 6, 8, 2, 6, 4, 8, 4, 1, 3, 1, 2, 3, 3, 0, 1, 6, 4, 2, 8, 2, 4, 3, 1, 4, 4, 4, 4, 1, 5, 5, 7, 6, 5, 4, 5, 6, 5, 6, 2, 4, 7, 7, 4, 6, 5, 0, 2, 3, 9, 2, 3, 8, 0, 7, 0, 6, 8, 1, 2, 8, 9, 1, 5, 4, 2, 3, 5, 5, 3, 6, 5, 0, 3, 2, 1, 3, 3, 7, 7, 4, 9, 4, 3, 9, 5, 1, 7, 6, 6, 4, 8, 5, 1, 2, 8, 4, 5, 3, 3, 3, 0, 4, 8, 7, 7, 9, 4, 8, 4, 5, 9, 1, 8, 3, 1, 3, 8, 0, 3, 5, 4, 6, 9, 2, 7, 2, 0, 5, 2, 9, 7, 5, 0, 7, 0, 3, 5, 5, 3, 8, 7, 7, 9, 6, 5, 8, 9, 0, 1, 9, 4, 0, 0, 1, 7, 2, 2, 8, 5, 9, 8, 2, 8, 0, 6, 6, 8, 6, 9, 6, 1, 1, 5, 3, 5, 0, 7, 6, 1, 4, 4, 1, 1, 8, 1, 1, 2, 3, 4, 9, 9, 5, 2, 7, 3, 3, 6, 9, 6, 9, 8, 8, 6, 7, 4, 7, 2, 3, 8, 0, 9, 0, 7, 8, 1, 2, 3, 2, 4, 2, 9, 0, 3, 8, 9, 6, 5, 5, 2, 4, 1, 0, 6, 1, 8, 4, 5, 5, 5, 0, 8, 9, 0, 5, 7, 9, 6, 3, 4, 6, 4, 9, 7, 1, 2, 5, 2, 8, 0, 2, 2, 9, 8, 1, 9, 7, 7, 3, 1, 4, 1, 1, 3, 8, 8, 1, 9, 3, 8, 9, 5, 1, 1, 6, 2, 7, 2, 6, 2, 6, 9, 6, 0, 1, 3, 9, 3, 8, 8, 8, 2, 9, 1, 2, 6, 0, 5, 0, 7, 7, 7, 9, 4, 5, 0, 2, 3, 5, 5, 8, 9, 1, 2, 7, 1, 3, 4, 6, 9, 1, 0, 7, 1, 9, 5, 8, 1, 9, 9, 7, 9, 8, 3, 0, 2, 6, 0, 2, 2, 4, 0, 8, 4, 8, 1, 2, 7, 2, 7, 9, 5, 2, 2, 9, 2, 6, 5, 7, 2, 5, 6, 5, 1, 8, 2, 6, 8, 6, 3, 0, 8, 0, 0, 9, 9, 6, 8, 0, 6, 6, 0, 7, 9, 8, 0, 5, 0, 9, 6, 0, 4, 7, 1, 7, 8, 8, 2, 3, 9, 6, 5, 5, 3, 1, 5, 3, 0, 2, 5, 2, 7, 3, 8, 4, 4, 6, 1, 9, 4, 1, 7, 0, 1, 4, 3, 0, 2, 9, 4, 5, 0, 3, 4, 7, 2, 3, 0, 1, 3, 7, 9, 9, 0, 7, 5, 6, 7, 1, 2, 2, 7, 4, 6, 8, 4, 9, 8, 4, 9, 2, 3, 4, 0, 2, 5, 6, 0, 5, 3, 5, 8, 3, 7, 4, 9, 5, 6, 3, 8, 6, 9, 8, 5, 5, 8, 3, 5, 9, 0, 4, 2, 0, 5, 9, 9, 3, 8, 0, 6, 0, 2, 3, 7, 0, 0, 6, 9, 1, 5, 2, 2, 7, 9, 3, 9, 3, 5, 2, 2, 2, 8, 8, 5, 0, 0, 7, 0, 3, 1, 6, 5, 0, 9, 2, 6, 7, 4, 2, 0, 0, 5, 3, 3, 2, 6, 4, 2, 7, 8, 0, 1, 0, 1, 3, 6, 4, 8, 0, 6, 0, 9, 1, 6, 2, 1, 0, 1, 3, 0, 3, 7, 9, 9, 3, 7, 5, 7, 1, 6, 6, 1, 1, 1, 4, 4, 2, 1, 7, 0, 1, 2, 1, 1, 3, 2, 6, 9, 1, 3, 2, 0, 8, 7, 3, 4, 6, 4, 6, 9, 4, 8, 9, 3, 0, 5, 7, 2, 0, 2, 9, 9, 3, 8, 7, 1, 1, 2, 2, 2, 5, 9, 1, 2, 6, 1, 2, 1, 8, 9, 2, 3, 1, 9, 9, 4, 4, 5, 5, 0, 3, 3, 7, 1, 7, 7, 9, 8, 6, 3, 5, 5, 1, 6, 2, 7, 8, 4, 3, 3, 5, 9, 6, 8, 5, 1, 0, 6, 7, 0, 9, 6, 2, 0, 8, 7, 1, 2, 6, 9, 1, 6, 4, 7, 1, 9, 0, 0, 5, 2, 8, 3, 8, 2, 8, 4, 0, 8, 3, 6, 1, 2, 3, 0, 5, 0, 4, 1, 7, 2, 0, 1, 3, 9, 1, 6, 1, 6, 1, 2, 8, 7, 0, 9, 5, 8, 0, 0, 1, 7, 9, 7, 1, 9, 2, 1, 9, 4, 3, 6, 0, 2, 0, 0, 9, 9, 8, 9, 4, 5, 4, 3, 0, 7, 8, 7, 3, 7, 5, 4, 6, 5, 9, 5, 2, 4, 2, 7, 9, 6, 7, 4, 7, 1, 2, 3, 1, 1, 3, 6, 8, 3, 7, 7, 0, 8, 1, 5, 2, 5, 5, 3, 6, 3, 5, 9, 8, 4, 6, 8, 0, 4, 1, 7, 8, 4, 9, 7, 2, 6, 3, 8, 8, 6, 7, 3, 8, 1, 1, 5, 3, 7, 9, 9, 9, 8, 5, 9, 9, 6, 8, 8, 4, 8, 1, 0, 1, 8, 8, 6, 5, 9, 0, 6, 1, 2, 6, 6, 3, 5, 6, 5, 5, 3, 3, 6, 8, 9, 4, 4, 3, 8, 3, 6, 0, 8, 5, 7, 8, 4, 6, 5, 3, 1, 8, 3, 0, 4, 4, 3, 3, 5, 3, 3, 2, 7, 7, 8, 2, 0, 5, 5, 6, 1, 1, 3, 9, 9, 3, 6, 7, 1, 8, 3, 9, 8, 7, 8, 8, 0, 3, 2, 4, 8, 7, 5, 7, 1, 8, 7, 3, 5, 4, 4, 3, 8, 6, 1, 1, 6, 3, 2, 2, 8, 9, 8, 3, 3, 8, 1, 1, 0, 5, 2, 0, 5, 0, 5, 8, 6, 3, 9, 6, 6, 3, 9, 4, 8, 3, 4, 3, 1, 1, 2, 9, 7, 8, 5, 5, 8, 6, 9, 0, 8, 3, 5, 1, 3, 3, 5, 5, 3, 8, 1, 4, 6, 4, 2, 4, 3, 8, 9, 6, 6, 6, 5, 5, 2, 7, 7, 4, 4, 9, 3, 8, 3, 7, 7, 8, 5, 3, 9, 1, 6, 7, 3, 3, 3, 8, 5, 6, 1, 3, 7, 9, 6, 1, 6, 4, 9, 0, 5, 7, 4, 9, 1, 0, 0, 2, 7, 8, 3, 2, 7, 6, 1, 6, 6, 4, 4, 2, 1, 8, 4, 4, 7, 8, 5, 8, 9, 4, 3, 2, 2, 9, 3, 0, 1, 1, 1, 1, 6, 8, 7, 1, 3, 0, 4, 5, 0, 3, 0, 6, 2, 0, 9, 8, 6, 8, 5, 8, 2, 9, 6, 0, 6, 1, 8, 7, 3, 2, 2, 6, 5, 6, 9, 2, 5, 4, 9, 8, 5, 3, 9, 3, 5, 7, 1, 8, 5, 8, 6, 2, 5, 1, 3, 0, 4, 1, 9, 5, 4, 9, 2, 1, 4, 2, 5, 9, 8, 7, 2, 1, 6, 9, 7, 3, 6, 5, 8, 0, 2, 2, 4, 9, 0, 5, 5, 4, 2, 3, 1, 0, 3, 0, 4, 4, 9, 1, 3, 3, 0, 2, 1, 1, 0, 4, 1, 9, 4, 8, 1, 1, 1, 5, 9, 8, 1, 6, 7, 2, 9, 9, 7, 8, 8, 1, 9, 7, 8, 9, 1, 6, 6, 3, 3, 1, 3, 0, 8, 8, 3, 6, 6, 7, 1, 0, 7, 6, 4, 8, 2, 0, 6, 6, 8, 6, 3, 1, 1, 8, 6, 7, 0, 5, 4, 3, 2, 1, 7, 8, 2, 0, 1, 7, 4, 8, 7, 6, 6, 7, 0, 6, 4, 9, 2, 3, 2, 1, 3, 8, 6, 8, 1, 9, 6, 7, 6, 5, 0, 6, 0, 1, 3, 1, 1, 5, 3, 4, 3, 3, 8, 1, 6, 6, 1, 8, 8, 6, 2, 7, 4, 6, 8, 9, 3, 3, 5, 5, 3, 1, 4, 1, 9, 5, 1, 7, 7, 7, 5, 2, 3, 3, 6, 6, 6, 4, 0, 7, 1, 7, 3, 0, 8, 1, 2, 4, 1, 2, 2, 4, 9, 8, 2, 8, 7, 6, 3, 4, 7, 2, 3, 1, 5, 3, 0, 4, 3, 4, 9, 4, 7, 9, 1, 7, 8, 3, 1, 8, 3, 2, 5, 7, 2, 7, 9, 6, 8, 6, 8, 6, 5, 9, 0, 4, 8, 5, 6, 4, 3, 8, 0, 4, 8, 6, 7, 2, 7, 1, 7, 4, 1, 2, 4, 2, 2, 8, 7, 2, 2, 6, 7, 5, 6, 8, 9, 9, 6, 5, 2, 9, 8, 7, 2, 3, 3, 7, 4, 3, 2, 1, 9, 0, 1, 5, 3, 2, 6, 5, 9, 1, 5, 4, 3, 6, 2, 8, 9, 7, 8, 0, 8, 9, 1, 2, 5, 7, 2, 0, 6, 6, 1, 6, 3, 1, 5, 0, 3, 7, 4, 6, 5, 6, 4, 8, 3, 4, 5, 5, 0, 6, 6, 7, 5, 0, 9, 9, 6, 1, 0, 4, 6, 3, 6, 9, 3, 6, 6, 8, 2, 1, 0, 1, 9, 3, 7, 4, 3, 0, 2, 7, 6, 4, 3, 0, 8, 2, 0, 0, 9, 6, 6, 6, 8, 7, 4, 1, 8, 1, 2, 2, 4, 8, 5, 2, 6, 5, 3, 9, 1, 0, 7, 2, 4, 4, 0, 0, 6, 2, 2, 4, 0, 5, 9, 7, 1, 8, 4, 5, 5, 9, 8, 5, 7, 8, 0, 9, 8, 9, 1, 6, 3, 8, 0, 3, 4, 4, 8, 4, 8, 9, 8, 6, 0, 0, 8, 2, 7, 4, 2, 5, 6, 0, 5, 8, 4, 1, 9, 0, 1, 4, 4, 8, 4, 9, 6, 0, 7, 7, 6, 8, 9, 6, 2, 0, 4, 9, 4, 9, 3, 9, 6, 6, 7, 0, 9, 7, 1, 8, 6, 0, 6, 7, 4, 1, 9, 4, 6, 7, 9, 8, 3, 9, 2, 1, 2, 7, 6, 1, 0, 0, 5, 6, 0, 4, 3, 2, 8, 8, 0, 6, 9, 5, 2, 8, 7, 0, 6, 5, 9, 7, 2, 3, 6, 9, 6, 2, 2, 4, 1, 0, 5, 0, 8, 9, 3, 5, 9, 3, 8, 1, 6, 3, 7, 5, 6, 2, 0, 2, 8, 2, 8, 7, 7, 8, 1, 0, 8, 9, 7, 0, 3, 8, 0, 5, 9, 5, 8, 4, 2, 0, 9, 2, 2, 4, 4, 9, 2, 2, 2, 5, 1, 3, 2, 0, 0, 4, 0, 6, 5, 8, 0, 5, 8, 6, 4, 8, 5, 2, 9, 7, 9, 7, 1, 0, 1, 9, 6, 9, 2, 7, 9, 4, 4, 0, 6, 2, 4, 1, 3, 7, 2, 8, 5, 9, 0, 3, 2, 3, 2, 7, 6, 3, 2, 5, 9, 0, 5, 9, 9, 8, 7, 7, 4, 8, 6, 5, 2, 3, 1, 0, 4, 1, 8, 8, 4, 9, 4, 4, 3, 3, 9, 2, 0, 1, 1, 8, 4, 4, 8, 3, 2, 9, 5, 7, 6, 2, 5, 4, 7, 3, 3, 9, 0, 1, 5, 9, 3, 7, 6, 0, 4, 2, 2, 5, 6, 3, 8, 9, 5, 6, 1, 4, 5, 4, 6, 7, 2, 1, 0, 2, 0, 4, 9, 8, 8, 9, 1, 1, 5, 0, 0, 8, 7, 1, 7, 4, 5, 4, 3, 3, 2, 0, 6, 6, 0, 1, 3, 9, 8, 3, 7, 8, 9, 4, 8, 9, 0, 9, 7, 1, 6, 2, 9, 5, 6, 9, 3, 9, 8, 7, 7, 1, 6, 5, 3, 1, 3, 1, 2, 7, 1, 8, 2, 0, 9, 7, 9, 8, 8, 6, 7, 3, 7, 1, 3, 9, 0, 9, 3, 6, 7, 2, 7, 3, 0, 5, 9, 7, 5, 5, 0, 6, 5, 1, 8, 2, 7, 5, 9, 0, 0, 0, 8, 8, 7, 3, 7, 8, 9, 3, 7, 9, 7, 8, 7, 9, 8, 5, 4, 8, 3, 7, 6, 3, 8, 2, 1, 9, 5, 7, 3, 9, 5, 5, 8, 7, 3, 5, 3, 5, 9, 7, 6, 7, 3, 6, 4, 3, 9, 4, 2, 1, 9, 6, 0, 2, 6, 7, 4, 7, 9, 0, 7, 4, 3, 5, 3, 1, 1, 2, 6, 8, 2, 1, 7, 8, 5, 9, 6, 1, 1, 5, 0, 6, 0, 9, 2, 6, 5, 8, 9, 5, 5, 6, 2, 9, 1, 5, 8, 8, 7, 1, 7, 3, 5, 4, 9, 7, 5, 2, 9, 9, 4, 7, 4, 1, 3, 8, 7, 9, 0, 4, 5, 7, 5, 2, 8, 7, 6, 9, 6, 9, 3, 8, 5, 6, 6, 9, 5, 7, 8, 0, 5, 0, 7, 4, 8, 2, 5, 1, 3, 2, 2, 6, 2, 1, 7, 4, 6, 3, 1, 3, 7, 2, 1, 3, 7, 0, 8, 4, 4, 5, 7, 9, 5, 4, 3, 9, 6, 8, 2, 3, 3, 1, 6, 1, 7, 0, 3, 4, 2, 9, 4, 5, 8, 2, 7, 0, 9, 6, 8, 0, 8, 2, 8, 5, 7, 7, 2, 2, 0, 0, 0, 7, 4, 1, 6, 6, 8, 8, 9, 0, 9, 0, 1, 3, 3, 0, 9, 6, 6, 2, 6, 3, 4, 0, 8, 4, 1, 4, 0, 6, 5, 0, 9, 9, 9, 9, 1, 2, 3, 5, 4, 2, 9, 6, 0, 9, 6, 6, 8, 0, 6, 1, 4, 6, 8, 0, 5, 4, 1, 2, 0, 9, 6, 4, 2, 4, 6, 5, 9, 7, 7, 4, 6, 5, 0, 1, 9, 0, 3, 1, 9, 0, 9, 7, 8, 6, 7, 6, 8, 2, 4, 5, 3, 0, 3, 2, 1, 7, 5, 9, 3, 4, 5, 7, 1, 5, 0, 1, 1, 1, 9, 7, 5, 4, 9, 7, 8, 1, 0, 2, 8, 5, 6, 7, 0, 1, 4, 8, 4, 4, 6, 6, 5, 8, 1, 8, 4, 6, 5, 9, 2, 2, 1, 4, 9, 1, 6, 7, 2, 0, 1, 7, 6, 5, 2, 2, 5, 6, 0, 9, 0, 1, 5, 3, 3, 5, 8, 7, 5, 6, 5, 8, 0, 5, 9, 4, 6, 5, 1, 1, 0, 3, 3, 9, 4, 8, 1, 7, 7, 9, 9, 4, 3, 6, 3, 2, 8, 2, 7, 6, 7, 0, 2, 1, 2, 9, 4, 6, 9, 6, 1, 0, 1, 8, 7, 0, 0, 4, 7, 4, 2, 6, 9, 5, 9, 0, 7, 4, 5, 8, 1, 4, 7, 9, 9, 8, 8, 6, 3, 7, 0, 8, 9, 6, 2, 4, 6, 2, 9, 7, 4, 6, 8, 5, 6, 1, 3, 5, 9, 9, 1, 3, 2, 0, 3, 0, 2, 0, 7, 3, 9, 3, 5, 7, 6, 5, 9, 5, 6, 1, 2, 4, 0, 2, 7, 8, 4, 4, 0, 9, 5, 9, 2, 9, 3, 2, 4, 3, 2, 2, 8, 8, 6, 8, 1, 6, 8, 9, 8, 2, 1, 4, 9, 1, 5, 7, 1, 6, 0, 1, 5, 2, 8, 1, 1, 3, 8, 1, 3, 1, 8, 5, 1, 9, 0, 3, 0, 4, 0, 5, 1, 2, 0, 4, 9, 5, 1, 2, 2, 7, 8, 7, 2, 4, 5, 3, 4, 0, 6, 1, 5, 9, 8, 0, 2, 0, 7, 6, 0, 5, 9, 7, 5, 0, 4, 6, 0, 6, 3, 6, 8, 1, 1, 8, 9, 7, 2, 9, 0, 2, 2, 9, 0, 6, 5, 7, 7, 9, 1, 7, 9, 8, 4, 5, 0, 8, 0, 2, 5, 2, 1, 4, 4, 8, 9, 7, 8, 3, 6, 6, 0, 1, 1, 1, 8, 1, 4, 4, 0, 7, 8, 2, 1, 2, 5, 4, 6, 0, 5, 7, 4, 4, 3, 9, 5, 8, 8, 0, 8, 7, 4, 1, 8, 4, 9, 5, 4, 1, 7, 7, 7, 7, 0, 3, 8, 3, 3, 0, 5, 7, 0, 8, 0, 0, 9, 2, 2, 3, 4, 8, 2, 2, 6, 3, 3, 6, 2, 9, 4, 0, 1, 7, 5, 5, 7, 3, 0, 4, 2, 0, 7, 5, 8, 0, 8, 2, 7, 0, 3, 5, 3, 8, 3, 5, 1, 7]\n",
      "[[158 159 165 ... 124 129 110]\n",
      " [235 231 232 ... 178 191 199]\n",
      " [158 158 139 ...   8   3   7]\n",
      " ...\n",
      " [ 20  19  15 ...  50  53  47]\n",
      " [ 25  15  23 ...  80  81  80]\n",
      " [ 73  98  99 ...  94  58  26]]\n",
      "[158 159 165 ... 124 129 110]\n",
      "3072\n"
     ]
    }
   ],
   "source": [
    "print(test_batch.keys())\n",
    "print(data_batch_1.keys())\n",
    "print(test_batch[b'labels'])\n",
    "print(test_batch[b'data'])\n",
    "print(test_batch[b'data'][0])\n",
    "print(len(test_batch[b'data'][0]))"
   ]
  },
  {
   "cell_type": "code",
   "execution_count": 10,
   "metadata": {},
   "outputs": [
    {
     "name": "stdout",
     "output_type": "stream",
     "text": [
      "Кол-во элементов в test_batch   : 10000\n",
      "Кол-во элементов в data_batch_1 : 10000\n",
      "Кол-во элементов в data_batch_2 : 10000\n",
      "Кол-во элементов в data_batch_3 : 10000\n",
      "Кол-во элементов в data_batch_4 : 10000\n",
      "Кол-во элементов в data_batch_5 : 10000\n"
     ]
    }
   ],
   "source": [
    "print(\"Кол-во элементов в test_batch   : {}\".format(len(test_batch[b'labels'])))\n",
    "print(\"Кол-во элементов в data_batch_1 : {}\".format(len(data_batch_1[b'labels'])))\n",
    "print(\"Кол-во элементов в data_batch_2 : {}\".format(len(data_batch_2[b'labels'])))\n",
    "print(\"Кол-во элементов в data_batch_3 : {}\".format(len(data_batch_3[b'labels'])))\n",
    "print(\"Кол-во элементов в data_batch_4 : {}\".format(len(data_batch_4[b'labels'])))\n",
    "print(\"Кол-во элементов в data_batch_5 : {}\".format(len(data_batch_5[b'labels'])))"
   ]
  },
  {
   "cell_type": "code",
   "execution_count": 11,
   "metadata": {},
   "outputs": [],
   "source": [
    "def append_list_to_list(list1, list2):\n",
    "    for value in list2:\n",
    "        list1.append(value)\n",
    "\n",
    "cifar_train_x_raw = []\n",
    "cifar_train_y     = []\n",
    "\n",
    "append_list_to_list(cifar_train_x_raw, data_batch_1[b'data'])\n",
    "append_list_to_list(cifar_train_x_raw, data_batch_2[b'data'])\n",
    "append_list_to_list(cifar_train_x_raw, data_batch_3[b'data'])\n",
    "append_list_to_list(cifar_train_x_raw, data_batch_4[b'data'])\n",
    "append_list_to_list(cifar_train_x_raw, data_batch_5[b'data'])\n",
    "\n",
    "append_list_to_list(cifar_train_y, data_batch_5[b'labels'])\n",
    "append_list_to_list(cifar_train_y, data_batch_5[b'labels'])\n",
    "append_list_to_list(cifar_train_y, data_batch_5[b'labels'])\n",
    "append_list_to_list(cifar_train_y, data_batch_5[b'labels'])\n",
    "append_list_to_list(cifar_train_y, data_batch_5[b'labels'])\n",
    "\n",
    "cifar_test_x_raw = test_batch[b'data']\n",
    "cifar_test_y     = test_batch[b'labels']"
   ]
  },
  {
   "cell_type": "code",
   "execution_count": 12,
   "metadata": {},
   "outputs": [
    {
     "name": "stdout",
     "output_type": "stream",
     "text": [
      "Данные для [Обчающая выборка CIFAR-10]\n",
      "Количество элементов в датасете : 50000\n",
      "Количество атрибутов в элементе : 3072\n",
      "Минимальное значение атрибута   : 0\n",
      "Максимальное значение атрибута  : 255\n",
      "\n",
      "Данные для [Тестировочная выборка CIFAR-10]\n",
      "Количество элементов в датасете : 10000\n",
      "Количество атрибутов в элементе : 3072\n",
      "Минимальное значение атрибута   : 0\n",
      "Максимальное значение атрибута  : 255\n",
      "\n"
     ]
    },
    {
     "data": {
      "image/png": "[encoded data removed]",
      "text/plain": [
       "<Figure size 432x288 with 1 Axes>"
      ]
     },
     "metadata": {
      "needs_background": "light"
     },
     "output_type": "display_data"
    }
   ],
   "source": [
    "analyze(cifar_train_y, cifar_train_x_raw, \"Обчающая выборка CIFAR-10\")\n",
    "analyze(cifar_test_y, cifar_test_x_raw, \"Тестировочная выборка CIFAR-10\")"
   ]
  },
  {
   "cell_type": "code",
   "execution_count": 13,
   "metadata": {},
   "outputs": [
    {
     "name": "stdout",
     "output_type": "stream",
     "text": [
      "Данные для [Тестовая выборка CIFAR-10]\n",
      "Количество элементов в датасете : 10000\n",
      "Количество атрибутов в элементе : 1024\n",
      "Минимальное значение атрибута   : 0.0\n",
      "Максимальное значение атрибута  : 1.0\n",
      "\n",
      "Размер тестовой выборки  : 10000\n",
      "Размер обучающей выборки : 50000\n",
      "Размер датасета CIFAR-10 : 60000\n"
     ]
    },
    {
     "data": {
      "image/png": "[encoded data removed]",
      "text/plain": [
       "<Figure size 432x288 with 1 Axes>"
      ]
     },
     "metadata": {
      "needs_background": "light"
     },
     "output_type": "display_data"
    }
   ],
   "source": [
    "def conv_cifar(X):\n",
    "    df = np.array(X).astype(np.float32)\n",
    "    result = np.zeros(len(df) * len(df[0])//3, dtype=np.float32)\n",
    "    i = 0\n",
    "    for v in df:\n",
    "        for j in range(0, len(v), 3):\n",
    "            result[i] = (v[j] + v[j+1] + v[j+2])/765\n",
    "            i += 1\n",
    "    return np.reshape(result ,(len(df), len(df[0])//3))\n",
    "\n",
    "\n",
    "cifar_test_x  = conv_cifar(cifar_test_x_raw)\n",
    "cifar_train_x = conv_cifar(cifar_train_x_raw)\n",
    "analyze(cifar_test_y,cifar_test_x,\"Тестовая выборка CIFAR-10\")\n",
    "print('Размер тестовой выборки  : {}'.format(len(cifar_test_x)))\n",
    "print('Размер обучающей выборки : {}'.format(len(cifar_train_x)))\n",
    "print('Размер датасета CIFAR-10 : {}'.format(len(cifar_test_x) + len(cifar_train_x)))"
   ]
  },
  {
   "cell_type": "markdown",
   "metadata": {},
   "source": [
    "### Персептрон на фреймворке PyTorch"
   ]
  },
  {
   "cell_type": "code",
   "execution_count": 14,
   "metadata": {},
   "outputs": [],
   "source": [
    "import re\n",
    "\n",
    "\n",
    "class PyTorchPerceptron(torch.nn.Module):\n",
    "    def __init__(self, layers=[10], func=torch.nn.Sigmoid(), \n",
    "                 loss_func=torch.nn.functional.binary_cross_entropy_with_logits, \n",
    "                 epochs=10, learning_rate=0.001):\n",
    "        super().__init__()\n",
    "        self.layers=layers\n",
    "        self.func=func\n",
    "        self.epochs=epochs\n",
    "        self.learning_rate=learning_rate\n",
    "        self.level=0\n",
    "        self.loss_function=loss_func\n",
    "        \n",
    "    def fit(self, X, Y, valid_X, valid_Y):\n",
    "        self.create_net(X,Y)\n",
    "        \n",
    "        \n",
    "        self.level = 0\n",
    "        self.status_print(\"Обучение сети:\")\n",
    "        self.level += 1\n",
    "        \n",
    "        self.train(X, Y, valid_X, valid_Y)\n",
    "        return self\n",
    "    \n",
    "    def status_print(self, msg, level=-1):\n",
    "        if level == -1:\n",
    "            level = self.level\n",
    "        print(\"  \"*level + msg)\n",
    "        \n",
    "    def create_net(self, X, Y):\n",
    "        self.level=0\n",
    "        layers_settings = self.layers.copy()\n",
    "        layers_settings.insert(0, len(X[0]))\n",
    "        layers_settings.append(len(np.unique(Y)))\n",
    "        self.classes_count = layers_settings[-1]\n",
    "        module_layers = []\n",
    "        \n",
    "        self.status_print(\"Создание сети :\")\n",
    "        self.level += 1\n",
    "        self.status_print(\"Количество скрытых слоев     : {}\".format(len(layers_settings)-2))\n",
    "        self.status_print(\"Количество входных нейронов  : {}\".format(layers_settings[0]))\n",
    "        self.status_print(\"Koличество выходных нейронов : {}\".format(layers_settings[-1]))\n",
    "        self.status_print(\"Широты скрытых слоев         : {}\".format(self.layers))\n",
    "        self.level -= 1\n",
    "        \n",
    "        for i in range(len(layers_settings)-2):\n",
    "            module_layers.append(torch.nn.Linear(layers_settings[i], layers_settings[i+1]))\n",
    "            module_layers.append(self.func)\n",
    "            \n",
    "        module_layers.append(torch.nn.Linear(layers_settings[-2], layers_settings[-1]))\n",
    "        self.net = torch.nn.Sequential(*module_layers)\n",
    "        return self\n",
    "\n",
    "    def getDataLoad(self, X, Y):\n",
    "        val_x = torch.tensor(np.array(X).astype(np.float32))\n",
    "        val_y = []\n",
    "        for y in Y:\n",
    "            val = np.zeros(self.classes_count)\n",
    "            for i in range(10):\n",
    "                val[i] = 1 if i == y else 0\n",
    "            val_y.append(val.copy().astype(np.float32))\n",
    "        dataset = torch.utils.data.TensorDataset(val_x,torch.tensor(val_y,dtype=torch.float32))\n",
    "        dataloader = torch.utils.data.DataLoader(dataset,batch_size=16)\n",
    "\n",
    "        return dataloader\n",
    "\n",
    "    def train(self, X, Y, valid_X, valid_Y):\n",
    "        training_accuracy_for_plot = []\n",
    "        validation_accuracy_for_plot = []\n",
    "\n",
    "        dataloader = self.getDataLoad(X, Y)\n",
    "        valid_dataloader = self.getDataLoad(valid_X, valid_Y)\n",
    "\n",
    "        optim = torch.optim.Adam(self.net.parameters(),lr=self.learning_rate)\n",
    "        print(\"|training|\\t\\t\\t\\t\\t\\t\\t|validation|\")\n",
    "        for epoch in range(1, self.epochs+1):\n",
    "            for (x,y) in dataloader:\n",
    "                z = self.net(x)\n",
    "                loss = self.loss_function(z,y)\n",
    "                optim.zero_grad()\n",
    "                loss.backward()\n",
    "                optim.step()\n",
    "            acc = self.score(X, Y)\n",
    "            training_accuracy_for_plot.append(acc) \n",
    "\n",
    "            for (x,y) in valid_dataloader:\n",
    "                z = self.net(x)\n",
    "                valid_loss = self.loss_function(z,y)\n",
    "            valid_acc = self.score(valid_X, valid_Y)\n",
    "            validation_accuracy_for_plot.append(valid_acc)\n",
    "                \n",
    "            self.status_print(\"[epochs {} in {}] loss : {}, accuracy : {}\\t\\t [epochs {} in {}] loss : {}, accuracy : {}\".format(\n",
    "                epoch, self.epochs, round(loss.item(), 5), round(acc, 5), epoch, self.epochs, round(valid_loss.item(), 5), round(valid_acc, 5)))\n",
    "\n",
    "        plt.plot(range(1,self.epochs+1), training_accuracy_for_plot, 'g-')\n",
    "        plt.plot(range(1,self.epochs+1), validation_accuracy_for_plot, 'h--')\n",
    "        plt.legend(['Training accuracy', 'Validation accuracy'], loc='lower center', ncol = 2)\n",
    "        plt.xlim([0,self.epochs])\n",
    "        plt.ylim([0,1])\n",
    "        plt.show()\n",
    "                \n",
    "    def score(self, X, Y):\n",
    "        val_x = torch.tensor(np.array(X).astype(np.float32))\n",
    "        answer = self.net(val_x)\n",
    "        results = [ np.argmax(v.detach().numpy()) for v in self.func(answer)]\n",
    "        total_success = 0\n",
    "        for res, y in zip(results, Y):\n",
    "            if res == y:\n",
    "                total_success += 1\n",
    "        acc = total_success / len(Y)\n",
    "        return acc\n",
    "    def confusion_matrix(self, X, Y):\n",
    "        val_x = torch.tensor(np.array(X).astype(np.float32))\n",
    "        answer = self.net(val_x)\n",
    "        results = [ np.argmax(v.detach().numpy()) for v in self.func(answer)]\n",
    "        matrix = np.zeros((self.classes_count, self.classes_count), dtype=np.int32)\n",
    "        for res, y in zip(results, Y):\n",
    "            matrix[res][y] += 1\n",
    "        return matrix\n",
    "        "
   ]
  },
  {
   "cell_type": "markdown",
   "metadata": {},
   "source": [
    "## Тестирование MNIST\n",
    "## Однослойные персептроны"
   ]
  },
  {
   "cell_type": "markdown",
   "metadata": {},
   "source": [
    "Возьмём функцию активации Sigmoid, кол-во внутренних слоев: 0"
   ]
  },
  {
   "cell_type": "code",
   "execution_count": 15,
   "metadata": {},
   "outputs": [
    {
     "name": "stdout",
     "output_type": "stream",
     "text": [
      "Создание сети :\n",
      "  Количество скрытых слоев     : 0\n",
      "  Количество входных нейронов  : 784\n",
      "  Koличество выходных нейронов : 10\n",
      "  Широты скрытых слоев         : []\n",
      "Обучение сети:\n"
     ]
    },
    {
     "name": "stderr",
     "output_type": "stream",
     "text": [
      "<ipython-input-14-dfecddc66ce3>:64: UserWarning: Creating a tensor from a list of numpy.ndarrays is extremely slow. Please consider converting the list to a single numpy.ndarray with numpy.array() before converting to a tensor. (Triggered internally at  C:\\actions-runner\\_work\\pytorch\\pytorch\\builder\\windows\\pytorch\\torch\\csrc\\utils\\tensor_new.cpp:204.)\n",
      "  dataset = torch.utils.data.TensorDataset(val_x,torch.tensor(val_y,dtype=torch.float32))\n"
     ]
    },
    {
     "name": "stdout",
     "output_type": "stream",
     "text": [
      "|training|\t\t\t\t\t\t\t|validation|\n",
      "  [epochs 1 in 10] loss : 0.06822, accuracy : 0.89655\t\t [epochs 1 in 10] loss : 0.12912, accuracy : 0.9\n",
      "  [epochs 2 in 10] loss : 0.05909, accuracy : 0.90839\t\t [epochs 2 in 10] loss : 0.12612, accuracy : 0.90964\n",
      "  [epochs 3 in 10] loss : 0.05658, accuracy : 0.91307\t\t [epochs 3 in 10] loss : 0.12517, accuracy : 0.91333\n",
      "  [epochs 4 in 10] loss : 0.05527, accuracy : 0.91568\t\t [epochs 4 in 10] loss : 0.12463, accuracy : 0.91571\n",
      "  [epochs 5 in 10] loss : 0.05435, accuracy : 0.9183\t\t [epochs 5 in 10] loss : 0.12433, accuracy : 0.91619\n",
      "  [epochs 6 in 10] loss : 0.0536, accuracy : 0.92015\t\t [epochs 6 in 10] loss : 0.12425, accuracy : 0.9175\n",
      "  [epochs 7 in 10] loss : 0.05297, accuracy : 0.9214\t\t [epochs 7 in 10] loss : 0.12439, accuracy : 0.9181\n",
      "  [epochs 8 in 10] loss : 0.05241, accuracy : 0.92283\t\t [epochs 8 in 10] loss : 0.12473, accuracy : 0.91821\n",
      "  [epochs 9 in 10] loss : 0.05192, accuracy : 0.92384\t\t [epochs 9 in 10] loss : 0.12526, accuracy : 0.91881\n",
      "  [epochs 10 in 10] loss : 0.05148, accuracy : 0.9247\t\t [epochs 10 in 10] loss : 0.12595, accuracy : 0.91917\n"
     ]
    },
    {
     "data": {
      "image/png": "[encoded data removed]",
      "text/plain": [
       "<Figure size 432x288 with 1 Axes>"
      ]
     },
     "metadata": {
      "needs_background": "light"
     },
     "output_type": "display_data"
    },
    {
     "data": {
      "text/plain": [
       "PyTorchPerceptron(\n",
       "  (func): Sigmoid()\n",
       "  (net): Sequential(\n",
       "    (0): Linear(in_features=784, out_features=10, bias=True)\n",
       "  )\n",
       ")"
      ]
     },
     "execution_count": 15,
     "metadata": {},
     "output_type": "execute_result"
    }
   ],
   "source": [
    "first_null_layered_perceptron = PyTorchPerceptron(layers=[])\n",
    "first_null_layered_perceptron.fit(mnist_train_x, mnist_train_y, mnist_test_x, mnist_test_y) "
   ]
  },
  {
   "cell_type": "markdown",
   "metadata": {},
   "source": [
    "Изменим функцию активации на функцию ReLU, количество внутренних слоев все еще 0"
   ]
  },
  {
   "cell_type": "code",
   "execution_count": 16,
   "metadata": {},
   "outputs": [
    {
     "name": "stdout",
     "output_type": "stream",
     "text": [
      "Создание сети :\n",
      "  Количество скрытых слоев     : 0\n",
      "  Количество входных нейронов  : 784\n",
      "  Koличество выходных нейронов : 10\n",
      "  Широты скрытых слоев         : []\n",
      "Обучение сети:\n",
      "|training|\t\t\t\t\t\t\t|validation|\n",
      "  [epochs 1 in 10] loss : 0.06692, accuracy : 0.81729\t\t [epochs 1 in 10] loss : 0.12871, accuracy : 0.81583\n",
      "  [epochs 2 in 10] loss : 0.05812, accuracy : 0.84315\t\t [epochs 2 in 10] loss : 0.12571, accuracy : 0.8425\n",
      "  [epochs 3 in 10] loss : 0.05573, accuracy : 0.85304\t\t [epochs 3 in 10] loss : 0.12474, accuracy : 0.85071\n",
      "  [epochs 4 in 10] loss : 0.05452, accuracy : 0.85807\t\t [epochs 4 in 10] loss : 0.1242, accuracy : 0.85417\n",
      "  [epochs 5 in 10] loss : 0.05367, accuracy : 0.86131\t\t [epochs 5 in 10] loss : 0.12391, accuracy : 0.85738\n",
      "  [epochs 6 in 10] loss : 0.05299, accuracy : 0.86473\t\t [epochs 6 in 10] loss : 0.12385, accuracy : 0.85929\n",
      "  [epochs 7 in 10] loss : 0.05241, accuracy : 0.86693\t\t [epochs 7 in 10] loss : 0.12401, accuracy : 0.86119\n",
      "  [epochs 8 in 10] loss : 0.0519, accuracy : 0.86836\t\t [epochs 8 in 10] loss : 0.12437, accuracy : 0.86226\n",
      "  [epochs 9 in 10] loss : 0.05144, accuracy : 0.86958\t\t [epochs 9 in 10] loss : 0.12492, accuracy : 0.86429\n",
      "  [epochs 10 in 10] loss : 0.05103, accuracy : 0.87077\t\t [epochs 10 in 10] loss : 0.12563, accuracy : 0.86536\n"
     ]
    },
    {
     "data": {
      "image/png": "[encoded data removed]",
      "text/plain": [
       "<Figure size 432x288 with 1 Axes>"
      ]
     },
     "metadata": {
      "needs_background": "light"
     },
     "output_type": "display_data"
    },
    {
     "data": {
      "text/plain": [
       "PyTorchPerceptron(\n",
       "  (func): ReLU()\n",
       "  (net): Sequential(\n",
       "    (0): Linear(in_features=784, out_features=10, bias=True)\n",
       "  )\n",
       ")"
      ]
     },
     "execution_count": 16,
     "metadata": {},
     "output_type": "execute_result"
    }
   ],
   "source": [
    "second_null_layered_perceptron = PyTorchPerceptron(layers=[], func=torch.nn.ReLU())\n",
    "second_null_layered_perceptron.fit(mnist_train_x, mnist_train_y, mnist_test_x, mnist_test_y)"
   ]
  },
  {
   "cell_type": "markdown",
   "metadata": {},
   "source": [
    "Изменим функцию активации с функции ReLU на Tanh, количество внутренних слоев по-прежнему 0"
   ]
  },
  {
   "cell_type": "code",
   "execution_count": 17,
   "metadata": {},
   "outputs": [
    {
     "name": "stdout",
     "output_type": "stream",
     "text": [
      "Создание сети :\n",
      "  Количество скрытых слоев     : 0\n",
      "  Количество входных нейронов  : 784\n",
      "  Koличество выходных нейронов : 10\n",
      "  Широты скрытых слоев         : []\n",
      "Обучение сети:\n",
      "|training|\t\t\t\t\t\t\t|validation|\n",
      "  [epochs 1 in 10] loss : 0.0678, accuracy : 0.89604\t\t [epochs 1 in 10] loss : 0.12935, accuracy : 0.89917\n",
      "  [epochs 2 in 10] loss : 0.05865, accuracy : 0.90789\t\t [epochs 2 in 10] loss : 0.12648, accuracy : 0.91\n",
      "  [epochs 3 in 10] loss : 0.05621, accuracy : 0.9125\t\t [epochs 3 in 10] loss : 0.12554, accuracy : 0.91357\n",
      "  [epochs 4 in 10] loss : 0.05499, accuracy : 0.91568\t\t [epochs 4 in 10] loss : 0.12501, accuracy : 0.91548\n",
      "  [epochs 5 in 10] loss : 0.05413, accuracy : 0.91845\t\t [epochs 5 in 10] loss : 0.12473, accuracy : 0.91619\n",
      "  [epochs 6 in 10] loss : 0.05345, accuracy : 0.92009\t\t [epochs 6 in 10] loss : 0.12469, accuracy : 0.91738\n",
      "  [epochs 7 in 10] loss : 0.05286, accuracy : 0.92173\t\t [epochs 7 in 10] loss : 0.12485, accuracy : 0.91833\n",
      "  [epochs 8 in 10] loss : 0.05234, accuracy : 0.9231\t\t [epochs 8 in 10] loss : 0.12522, accuracy : 0.91869\n",
      "  [epochs 9 in 10] loss : 0.05188, accuracy : 0.92393\t\t [epochs 9 in 10] loss : 0.12578, accuracy : 0.91905\n",
      "  [epochs 10 in 10] loss : 0.05146, accuracy : 0.9247\t\t [epochs 10 in 10] loss : 0.1265, accuracy : 0.91952\n"
     ]
    },
    {
     "data": {
      "image/png": "[encoded data removed]",
      "text/plain": [
       "<Figure size 432x288 with 1 Axes>"
      ]
     },
     "metadata": {
      "needs_background": "light"
     },
     "output_type": "display_data"
    },
    {
     "data": {
      "text/plain": [
       "PyTorchPerceptron(\n",
       "  (func): Tanh()\n",
       "  (net): Sequential(\n",
       "    (0): Linear(in_features=784, out_features=10, bias=True)\n",
       "  )\n",
       ")"
      ]
     },
     "execution_count": 17,
     "metadata": {},
     "output_type": "execute_result"
    }
   ],
   "source": [
    "third_null_layered_perceptron = PyTorchPerceptron(layers=[], func=torch.nn.Tanh())\n",
    "third_null_layered_perceptron.fit(mnist_train_x, mnist_train_y, mnist_test_x, mnist_test_y)"
   ]
  },
  {
   "cell_type": "markdown",
   "metadata": {},
   "source": [
    "## Двуслойные персептроны"
   ]
  },
  {
   "cell_type": "markdown",
   "metadata": {},
   "source": [
    "Снова функция активации у нас Tanh, но количество внутренних слоев уже равняется 1, широты : 30"
   ]
  },
  {
   "cell_type": "code",
   "execution_count": 18,
   "metadata": {},
   "outputs": [
    {
     "name": "stdout",
     "output_type": "stream",
     "text": [
      "Создание сети :\n",
      "  Количество скрытых слоев     : 1\n",
      "  Количество входных нейронов  : 784\n",
      "  Koличество выходных нейронов : 10\n",
      "  Широты скрытых слоев         : [30]\n",
      "Обучение сети:\n",
      "|training|\t\t\t\t\t\t\t|validation|\n",
      "  [epochs 1 in 10] loss : 0.06837, accuracy : 0.91554\t\t [epochs 1 in 10] loss : 0.0961, accuracy : 0.91274\n",
      "  [epochs 2 in 10] loss : 0.05266, accuracy : 0.93369\t\t [epochs 2 in 10] loss : 0.09239, accuracy : 0.92607\n",
      "  [epochs 3 in 10] loss : 0.04803, accuracy : 0.94369\t\t [epochs 3 in 10] loss : 0.09346, accuracy : 0.9306\n",
      "  [epochs 4 in 10] loss : 0.04598, accuracy : 0.94917\t\t [epochs 4 in 10] loss : 0.09136, accuracy : 0.93512\n",
      "  [epochs 5 in 10] loss : 0.04591, accuracy : 0.95342\t\t [epochs 5 in 10] loss : 0.0903, accuracy : 0.9369\n",
      "  [epochs 6 in 10] loss : 0.04584, accuracy : 0.95688\t\t [epochs 6 in 10] loss : 0.08926, accuracy : 0.9394\n",
      "  [epochs 7 in 10] loss : 0.04614, accuracy : 0.95991\t\t [epochs 7 in 10] loss : 0.09233, accuracy : 0.94\n",
      "  [epochs 8 in 10] loss : 0.04506, accuracy : 0.96232\t\t [epochs 8 in 10] loss : 0.09904, accuracy : 0.94119\n",
      "  [epochs 9 in 10] loss : 0.04326, accuracy : 0.96432\t\t [epochs 9 in 10] loss : 0.10776, accuracy : 0.94155\n",
      "  [epochs 10 in 10] loss : 0.04291, accuracy : 0.9661\t\t [epochs 10 in 10] loss : 0.11526, accuracy : 0.9425\n"
     ]
    },
    {
     "data": {
      "image/png": "[encoded data removed]",
      "text/plain": [
       "<Figure size 432x288 with 1 Axes>"
      ]
     },
     "metadata": {
      "needs_background": "light"
     },
     "output_type": "display_data"
    },
    {
     "data": {
      "text/plain": [
       "PyTorchPerceptron(\n",
       "  (func): Tanh()\n",
       "  (net): Sequential(\n",
       "    (0): Linear(in_features=784, out_features=30, bias=True)\n",
       "    (1): Tanh()\n",
       "    (2): Linear(in_features=30, out_features=10, bias=True)\n",
       "  )\n",
       ")"
      ]
     },
     "execution_count": 18,
     "metadata": {},
     "output_type": "execute_result"
    }
   ],
   "source": [
    "second_one_layred_perceptron = PyTorchPerceptron(layers=[30], func=torch.nn.Tanh())\n",
    "second_one_layred_perceptron.fit(mnist_train_x, mnist_train_y, mnist_test_x, mnist_test_y)"
   ]
  },
  {
   "cell_type": "markdown",
   "metadata": {},
   "source": [
    "Берём функцию активации Sigmoid, и сеть с тем же количеством скрытых слоев и нейронов в нем "
   ]
  },
  {
   "cell_type": "code",
   "execution_count": 19,
   "metadata": {},
   "outputs": [
    {
     "name": "stdout",
     "output_type": "stream",
     "text": [
      "Создание сети :\n",
      "  Количество скрытых слоев     : 1\n",
      "  Количество входных нейронов  : 784\n",
      "  Koличество выходных нейронов : 10\n",
      "  Широты скрытых слоев         : [30]\n",
      "Обучение сети:\n",
      "|training|\t\t\t\t\t\t\t|validation|\n",
      "  [epochs 1 in 10] loss : 0.0843, accuracy : 0.89735\t\t [epochs 1 in 10] loss : 0.11815, accuracy : 0.89917\n",
      "  [epochs 2 in 10] loss : 0.05261, accuracy : 0.91866\t\t [epochs 2 in 10] loss : 0.10294, accuracy : 0.9156\n",
      "  [epochs 3 in 10] loss : 0.04446, accuracy : 0.92848\t\t [epochs 3 in 10] loss : 0.10208, accuracy : 0.925\n",
      "  [epochs 4 in 10] loss : 0.04018, accuracy : 0.93747\t\t [epochs 4 in 10] loss : 0.101, accuracy : 0.93036\n",
      "  [epochs 5 in 10] loss : 0.03742, accuracy : 0.94399\t\t [epochs 5 in 10] loss : 0.09836, accuracy : 0.93369\n",
      "  [epochs 6 in 10] loss : 0.03574, accuracy : 0.9486\t\t [epochs 6 in 10] loss : 0.09529, accuracy : 0.93702\n",
      "  [epochs 7 in 10] loss : 0.03471, accuracy : 0.95217\t\t [epochs 7 in 10] loss : 0.09178, accuracy : 0.94024\n",
      "  [epochs 8 in 10] loss : 0.03385, accuracy : 0.95521\t\t [epochs 8 in 10] loss : 0.0885, accuracy : 0.94274\n",
      "  [epochs 9 in 10] loss : 0.0328, accuracy : 0.95824\t\t [epochs 9 in 10] loss : 0.08589, accuracy : 0.94429\n",
      "  [epochs 10 in 10] loss : 0.03155, accuracy : 0.96045\t\t [epochs 10 in 10] loss : 0.08377, accuracy : 0.94643\n"
     ]
    },
    {
     "data": {
      "image/png": "[encoded data removed]",
      "text/plain": [
       "<Figure size 432x288 with 1 Axes>"
      ]
     },
     "metadata": {
      "needs_background": "light"
     },
     "output_type": "display_data"
    },
    {
     "data": {
      "text/plain": [
       "PyTorchPerceptron(\n",
       "  (func): Sigmoid()\n",
       "  (net): Sequential(\n",
       "    (0): Linear(in_features=784, out_features=30, bias=True)\n",
       "    (1): Sigmoid()\n",
       "    (2): Linear(in_features=30, out_features=10, bias=True)\n",
       "  )\n",
       ")"
      ]
     },
     "execution_count": 19,
     "metadata": {},
     "output_type": "execute_result"
    }
   ],
   "source": [
    "third_one_layred_perceptron = PyTorchPerceptron(layers=[30])\n",
    "third_one_layred_perceptron.fit(mnist_train_x, mnist_train_y, mnist_test_x, mnist_test_y)"
   ]
  },
  {
   "cell_type": "markdown",
   "metadata": {},
   "source": [
    "## Трехслойные персептроны\n",
    "\n",
    "Функция активации Tanh, количество внутренних слоев 2, широты : 30, 20"
   ]
  },
  {
   "cell_type": "code",
   "execution_count": 20,
   "metadata": {},
   "outputs": [
    {
     "name": "stdout",
     "output_type": "stream",
     "text": [
      "Создание сети :\n",
      "  Количество скрытых слоев     : 2\n",
      "  Количество входных нейронов  : 784\n",
      "  Koличество выходных нейронов : 10\n",
      "  Широты скрытых слоев         : [30, 20]\n",
      "Обучение сети:\n",
      "|training|\t\t\t\t\t\t\t|validation|\n",
      "  [epochs 1 in 10] loss : 0.07576, accuracy : 0.91571\t\t [epochs 1 in 10] loss : 0.09588, accuracy : 0.90976\n",
      "  [epochs 2 in 10] loss : 0.04754, accuracy : 0.94351\t\t [epochs 2 in 10] loss : 0.07193, accuracy : 0.93226\n",
      "  [epochs 3 in 10] loss : 0.03, accuracy : 0.95494\t\t [epochs 3 in 10] loss : 0.05923, accuracy : 0.94\n",
      "  [epochs 4 in 10] loss : 0.019, accuracy : 0.96125\t\t [epochs 4 in 10] loss : 0.0617, accuracy : 0.94345\n",
      "  [epochs 5 in 10] loss : 0.01407, accuracy : 0.9661\t\t [epochs 5 in 10] loss : 0.06327, accuracy : 0.94655\n",
      "  [epochs 6 in 10] loss : 0.01182, accuracy : 0.96935\t\t [epochs 6 in 10] loss : 0.05741, accuracy : 0.94833\n",
      "  [epochs 7 in 10] loss : 0.01115, accuracy : 0.97336\t\t [epochs 7 in 10] loss : 0.05682, accuracy : 0.9494\n",
      "  [epochs 8 in 10] loss : 0.01172, accuracy : 0.97548\t\t [epochs 8 in 10] loss : 0.05998, accuracy : 0.95071\n",
      "  [epochs 9 in 10] loss : 0.01091, accuracy : 0.97833\t\t [epochs 9 in 10] loss : 0.05808, accuracy : 0.95107\n",
      "  [epochs 10 in 10] loss : 0.00924, accuracy : 0.97982\t\t [epochs 10 in 10] loss : 0.0655, accuracy : 0.95119\n"
     ]
    },
    {
     "data": {
      "image/png": "[encoded data removed]",
      "text/plain": [
       "<Figure size 432x288 with 1 Axes>"
      ]
     },
     "metadata": {
      "needs_background": "light"
     },
     "output_type": "display_data"
    },
    {
     "data": {
      "text/plain": [
       "PyTorchPerceptron(\n",
       "  (func): Tanh()\n",
       "  (net): Sequential(\n",
       "    (0): Linear(in_features=784, out_features=30, bias=True)\n",
       "    (1): Tanh()\n",
       "    (2): Linear(in_features=30, out_features=20, bias=True)\n",
       "    (3): Tanh()\n",
       "    (4): Linear(in_features=20, out_features=10, bias=True)\n",
       "  )\n",
       ")"
      ]
     },
     "execution_count": 20,
     "metadata": {},
     "output_type": "execute_result"
    }
   ],
   "source": [
    "first_double_layred_perceptron = PyTorchPerceptron(layers=[30, 20], func=torch.nn.Tanh())\n",
    "first_double_layred_perceptron.fit(mnist_train_x, mnist_train_y, mnist_test_x, mnist_test_y)"
   ]
  },
  {
   "cell_type": "markdown",
   "metadata": {},
   "source": [
    "Функция активации опять Sigmoid, количество внутренних слоев 2, широты : 20, 15"
   ]
  },
  {
   "cell_type": "code",
   "execution_count": 21,
   "metadata": {},
   "outputs": [
    {
     "name": "stdout",
     "output_type": "stream",
     "text": [
      "Создание сети :\n",
      "  Количество скрытых слоев     : 2\n",
      "  Количество входных нейронов  : 784\n",
      "  Koличество выходных нейронов : 10\n",
      "  Широты скрытых слоев         : [20, 15]\n",
      "Обучение сети:\n",
      "|training|\t\t\t\t\t\t\t|validation|\n",
      "  [epochs 1 in 10] loss : 0.19621, accuracy : 0.66253\t\t [epochs 1 in 10] loss : 0.2259, accuracy : 0.6544\n",
      "  [epochs 2 in 10] loss : 0.11564, accuracy : 0.86929\t\t [epochs 2 in 10] loss : 0.13938, accuracy : 0.86536\n",
      "  [epochs 3 in 10] loss : 0.07074, accuracy : 0.9069\t\t [epochs 3 in 10] loss : 0.0907, accuracy : 0.90095\n",
      "  [epochs 4 in 10] loss : 0.05666, accuracy : 0.92286\t\t [epochs 4 in 10] loss : 0.0676, accuracy : 0.91702\n",
      "  [epochs 5 in 10] loss : 0.04883, accuracy : 0.93324\t\t [epochs 5 in 10] loss : 0.05925, accuracy : 0.92476\n",
      "  [epochs 6 in 10] loss : 0.04377, accuracy : 0.94006\t\t [epochs 6 in 10] loss : 0.05666, accuracy : 0.93095\n",
      "  [epochs 7 in 10] loss : 0.03887, accuracy : 0.94568\t\t [epochs 7 in 10] loss : 0.05429, accuracy : 0.93381\n",
      "  [epochs 8 in 10] loss : 0.03332, accuracy : 0.94964\t\t [epochs 8 in 10] loss : 0.05093, accuracy : 0.93619\n",
      "  [epochs 9 in 10] loss : 0.02773, accuracy : 0.95277\t\t [epochs 9 in 10] loss : 0.04617, accuracy : 0.93857\n",
      "  [epochs 10 in 10] loss : 0.02303, accuracy : 0.95527\t\t [epochs 10 in 10] loss : 0.04119, accuracy : 0.93952\n"
     ]
    },
    {
     "data": {
      "image/png": "[encoded data removed]",
      "text/plain": [
       "<Figure size 432x288 with 1 Axes>"
      ]
     },
     "metadata": {
      "needs_background": "light"
     },
     "output_type": "display_data"
    },
    {
     "data": {
      "text/plain": [
       "PyTorchPerceptron(\n",
       "  (func): Sigmoid()\n",
       "  (net): Sequential(\n",
       "    (0): Linear(in_features=784, out_features=20, bias=True)\n",
       "    (1): Sigmoid()\n",
       "    (2): Linear(in_features=20, out_features=15, bias=True)\n",
       "    (3): Sigmoid()\n",
       "    (4): Linear(in_features=15, out_features=10, bias=True)\n",
       "  )\n",
       ")"
      ]
     },
     "execution_count": 21,
     "metadata": {},
     "output_type": "execute_result"
    }
   ],
   "source": [
    "second_double_layred_perceptron = PyTorchPerceptron(layers=[20, 15])\n",
    "second_double_layred_perceptron.fit(mnist_train_x, mnist_train_y, mnist_test_x, mnist_test_y)"
   ]
  },
  {
   "cell_type": "markdown",
   "metadata": {},
   "source": [
    "А теперь возьмём функцию активации Softsign, количество внутренних слоев снова 2, широты : 20, 15"
   ]
  },
  {
   "cell_type": "code",
   "execution_count": 22,
   "metadata": {},
   "outputs": [
    {
     "name": "stdout",
     "output_type": "stream",
     "text": [
      "Создание сети :\n",
      "  Количество скрытых слоев     : 2\n",
      "  Количество входных нейронов  : 784\n",
      "  Koличество выходных нейронов : 10\n",
      "  Широты скрытых слоев         : [20, 15]\n",
      "Обучение сети:\n",
      "|training|\t\t\t\t\t\t\t|validation|\n",
      "  [epochs 1 in 10] loss : 0.2158, accuracy : 0.70113\t\t [epochs 1 in 10] loss : 0.22344, accuracy : 0.70488\n",
      "  [epochs 2 in 10] loss : 0.08068, accuracy : 0.89342\t\t [epochs 2 in 10] loss : 0.11708, accuracy : 0.88536\n",
      "  [epochs 3 in 10] loss : 0.05882, accuracy : 0.92185\t\t [epochs 3 in 10] loss : 0.08528, accuracy : 0.91155\n",
      "  [epochs 4 in 10] loss : 0.04481, accuracy : 0.93381\t\t [epochs 4 in 10] loss : 0.0545, accuracy : 0.9225\n",
      "  [epochs 5 in 10] loss : 0.02777, accuracy : 0.94095\t\t [epochs 5 in 10] loss : 0.06456, accuracy : 0.92857\n",
      "  [epochs 6 in 10] loss : 0.02318, accuracy : 0.94729\t\t [epochs 6 in 10] loss : 0.05667, accuracy : 0.93286\n",
      "  [epochs 7 in 10] loss : 0.02396, accuracy : 0.95113\t\t [epochs 7 in 10] loss : 0.05264, accuracy : 0.93536\n",
      "  [epochs 8 in 10] loss : 0.02236, accuracy : 0.95429\t\t [epochs 8 in 10] loss : 0.04428, accuracy : 0.93536\n",
      "  [epochs 9 in 10] loss : 0.02026, accuracy : 0.95503\t\t [epochs 9 in 10] loss : 0.0486, accuracy : 0.93405\n",
      "  [epochs 10 in 10] loss : 0.01861, accuracy : 0.95762\t\t [epochs 10 in 10] loss : 0.06003, accuracy : 0.93548\n"
     ]
    },
    {
     "data": {
      "image/png": "[encoded data removed]",
      "text/plain": [
       "<Figure size 432x288 with 1 Axes>"
      ]
     },
     "metadata": {
      "needs_background": "light"
     },
     "output_type": "display_data"
    },
    {
     "data": {
      "text/plain": [
       "PyTorchPerceptron(\n",
       "  (func): Softsign()\n",
       "  (net): Sequential(\n",
       "    (0): Linear(in_features=784, out_features=20, bias=True)\n",
       "    (1): Softsign()\n",
       "    (2): Linear(in_features=20, out_features=15, bias=True)\n",
       "    (3): Softsign()\n",
       "    (4): Linear(in_features=15, out_features=10, bias=True)\n",
       "  )\n",
       ")"
      ]
     },
     "execution_count": 22,
     "metadata": {},
     "output_type": "execute_result"
    }
   ],
   "source": [
    "fourth_double_layred_perceptron = PyTorchPerceptron(layers=[20, 15], func=torch.nn.Softsign())\n",
    "fourth_double_layred_perceptron.fit(mnist_train_x, mnist_train_y, mnist_test_x, mnist_test_y)"
   ]
  },
  {
   "cell_type": "markdown",
   "metadata": {},
   "source": [
    "## Тестирование FashionMNIST\n",
    "### Однослойные персептроны\n",
    "Функция активации по-прежнему Softsign, количество внутренних слоев 0"
   ]
  },
  {
   "cell_type": "code",
   "execution_count": 23,
   "metadata": {},
   "outputs": [
    {
     "name": "stdout",
     "output_type": "stream",
     "text": [
      "Создание сети :\n",
      "  Количество скрытых слоев     : 0\n",
      "  Количество входных нейронов  : 784\n",
      "  Koличество выходных нейронов : 10\n",
      "  Широты скрытых слоев         : []\n",
      "Обучение сети:\n",
      "|training|\t\t\t\t\t\t\t|validation|\n",
      "  [epochs 1 in 20] loss : 0.09116, accuracy : 0.8296\t\t [epochs 1 in 20] loss : 0.06819, accuracy : 0.8175\n",
      "  [epochs 2 in 20] loss : 0.08335, accuracy : 0.84168\t\t [epochs 2 in 20] loss : 0.06208, accuracy : 0.8285\n",
      "  [epochs 3 in 20] loss : 0.07947, accuracy : 0.84735\t\t [epochs 3 in 20] loss : 0.0599, accuracy : 0.8325\n",
      "  [epochs 4 in 20] loss : 0.07707, accuracy : 0.85043\t\t [epochs 4 in 20] loss : 0.05895, accuracy : 0.8344\n",
      "  [epochs 5 in 20] loss : 0.07542, accuracy : 0.8525\t\t [epochs 5 in 20] loss : 0.05853, accuracy : 0.8358\n",
      "  [epochs 6 in 20] loss : 0.07419, accuracy : 0.85402\t\t [epochs 6 in 20] loss : 0.05838, accuracy : 0.8366\n",
      "  [epochs 7 in 20] loss : 0.07323, accuracy : 0.85545\t\t [epochs 7 in 20] loss : 0.05836, accuracy : 0.8367\n",
      "  [epochs 8 in 20] loss : 0.07244, accuracy : 0.85655\t\t [epochs 8 in 20] loss : 0.05843, accuracy : 0.8369\n",
      "  [epochs 9 in 20] loss : 0.07178, accuracy : 0.85738\t\t [epochs 9 in 20] loss : 0.05854, accuracy : 0.8373\n",
      "  [epochs 10 in 20] loss : 0.07121, accuracy : 0.85825\t\t [epochs 10 in 20] loss : 0.05867, accuracy : 0.8368\n",
      "  [epochs 11 in 20] loss : 0.07072, accuracy : 0.85885\t\t [epochs 11 in 20] loss : 0.05881, accuracy : 0.8376\n",
      "  [epochs 12 in 20] loss : 0.07029, accuracy : 0.85957\t\t [epochs 12 in 20] loss : 0.05896, accuracy : 0.8379\n",
      "  [epochs 13 in 20] loss : 0.06991, accuracy : 0.86007\t\t [epochs 13 in 20] loss : 0.05911, accuracy : 0.8379\n",
      "  [epochs 14 in 20] loss : 0.06957, accuracy : 0.86052\t\t [epochs 14 in 20] loss : 0.05925, accuracy : 0.8376\n",
      "  [epochs 15 in 20] loss : 0.06927, accuracy : 0.86102\t\t [epochs 15 in 20] loss : 0.05939, accuracy : 0.8377\n",
      "  [epochs 16 in 20] loss : 0.06899, accuracy : 0.86133\t\t [epochs 16 in 20] loss : 0.05952, accuracy : 0.8384\n",
      "  [epochs 17 in 20] loss : 0.06874, accuracy : 0.86175\t\t [epochs 17 in 20] loss : 0.05965, accuracy : 0.839\n",
      "  [epochs 18 in 20] loss : 0.06851, accuracy : 0.86207\t\t [epochs 18 in 20] loss : 0.05978, accuracy : 0.839\n",
      "  [epochs 19 in 20] loss : 0.0683, accuracy : 0.8621\t\t [epochs 19 in 20] loss : 0.0599, accuracy : 0.8393\n",
      "  [epochs 20 in 20] loss : 0.06811, accuracy : 0.86253\t\t [epochs 20 in 20] loss : 0.06001, accuracy : 0.8391\n"
     ]
    },
    {
     "data": {
      "image/png": "[encoded data removed]",
      "text/plain": [
       "<Figure size 432x288 with 1 Axes>"
      ]
     },
     "metadata": {
      "needs_background": "light"
     },
     "output_type": "display_data"
    },
    {
     "data": {
      "text/plain": [
       "PyTorchPerceptron(\n",
       "  (func): Softsign()\n",
       "  (net): Sequential(\n",
       "    (0): Linear(in_features=784, out_features=10, bias=True)\n",
       "  )\n",
       ")"
      ]
     },
     "execution_count": 23,
     "metadata": {},
     "output_type": "execute_result"
    }
   ],
   "source": [
    "first_null_layred_fm_perceptron = PyTorchPerceptron(layers=[], func=torch.nn.Softsign(), epochs=20)\n",
    "first_null_layred_fm_perceptron.fit(fashion_mnist_train_x, fashion_mnist_train_y, fashion_mnist_test_x, fashion_mnist_test_y)"
   ]
  },
  {
   "cell_type": "markdown",
   "metadata": {},
   "source": [
    "Изменим функцию активации на Sigmoid, количество внутренних слоев 0"
   ]
  },
  {
   "cell_type": "code",
   "execution_count": 24,
   "metadata": {},
   "outputs": [
    {
     "name": "stdout",
     "output_type": "stream",
     "text": [
      "Создание сети :\n",
      "  Количество скрытых слоев     : 0\n",
      "  Количество входных нейронов  : 784\n",
      "  Koличество выходных нейронов : 10\n",
      "  Широты скрытых слоев         : []\n",
      "Обучение сети:\n",
      "|training|\t\t\t\t\t\t\t|validation|\n",
      "  [epochs 1 in 20] loss : 0.09138, accuracy : 0.82983\t\t [epochs 1 in 20] loss : 0.06789, accuracy : 0.8174\n",
      "  [epochs 2 in 20] loss : 0.08345, accuracy : 0.84187\t\t [epochs 2 in 20] loss : 0.06165, accuracy : 0.8279\n",
      "  [epochs 3 in 20] loss : 0.07953, accuracy : 0.84773\t\t [epochs 3 in 20] loss : 0.05949, accuracy : 0.8326\n",
      "  [epochs 4 in 20] loss : 0.07713, accuracy : 0.85052\t\t [epochs 4 in 20] loss : 0.05859, accuracy : 0.8348\n",
      "  [epochs 5 in 20] loss : 0.07547, accuracy : 0.85247\t\t [epochs 5 in 20] loss : 0.05823, accuracy : 0.8355\n",
      "  [epochs 6 in 20] loss : 0.07425, accuracy : 0.85408\t\t [epochs 6 in 20] loss : 0.05814, accuracy : 0.8369\n",
      "  [epochs 7 in 20] loss : 0.07329, accuracy : 0.85567\t\t [epochs 7 in 20] loss : 0.05818, accuracy : 0.8375\n",
      "  [epochs 8 in 20] loss : 0.0725, accuracy : 0.85673\t\t [epochs 8 in 20] loss : 0.05829, accuracy : 0.837\n",
      "  [epochs 9 in 20] loss : 0.07185, accuracy : 0.85747\t\t [epochs 9 in 20] loss : 0.05844, accuracy : 0.8372\n",
      "  [epochs 10 in 20] loss : 0.07128, accuracy : 0.85842\t\t [epochs 10 in 20] loss : 0.0586, accuracy : 0.837\n",
      "  [epochs 11 in 20] loss : 0.0708, accuracy : 0.85882\t\t [epochs 11 in 20] loss : 0.05877, accuracy : 0.8371\n",
      "  [epochs 12 in 20] loss : 0.07037, accuracy : 0.85943\t\t [epochs 12 in 20] loss : 0.05894, accuracy : 0.8375\n",
      "  [epochs 13 in 20] loss : 0.06999, accuracy : 0.86007\t\t [epochs 13 in 20] loss : 0.0591, accuracy : 0.8376\n",
      "  [epochs 14 in 20] loss : 0.06965, accuracy : 0.86062\t\t [epochs 14 in 20] loss : 0.05926, accuracy : 0.8377\n",
      "  [epochs 15 in 20] loss : 0.06935, accuracy : 0.86105\t\t [epochs 15 in 20] loss : 0.05941, accuracy : 0.8381\n",
      "  [epochs 16 in 20] loss : 0.06907, accuracy : 0.8615\t\t [epochs 16 in 20] loss : 0.05956, accuracy : 0.8388\n",
      "  [epochs 17 in 20] loss : 0.06882, accuracy : 0.86183\t\t [epochs 17 in 20] loss : 0.05969, accuracy : 0.8387\n",
      "  [epochs 18 in 20] loss : 0.0686, accuracy : 0.86225\t\t [epochs 18 in 20] loss : 0.05982, accuracy : 0.8388\n",
      "  [epochs 19 in 20] loss : 0.06839, accuracy : 0.86245\t\t [epochs 19 in 20] loss : 0.05995, accuracy : 0.8387\n",
      "  [epochs 20 in 20] loss : 0.06819, accuracy : 0.86268\t\t [epochs 20 in 20] loss : 0.06007, accuracy : 0.8387\n"
     ]
    },
    {
     "data": {
      "image/png": "[encoded data removed]",
      "text/plain": [
       "<Figure size 432x288 with 1 Axes>"
      ]
     },
     "metadata": {
      "needs_background": "light"
     },
     "output_type": "display_data"
    },
    {
     "data": {
      "text/plain": [
       "PyTorchPerceptron(\n",
       "  (func): Sigmoid()\n",
       "  (net): Sequential(\n",
       "    (0): Linear(in_features=784, out_features=10, bias=True)\n",
       "  )\n",
       ")"
      ]
     },
     "execution_count": 24,
     "metadata": {},
     "output_type": "execute_result"
    }
   ],
   "source": [
    "second_null_layred_fm_perceptron = PyTorchPerceptron(layers=[], epochs=20)\n",
    "second_null_layred_fm_perceptron.fit(fashion_mnist_train_x, fashion_mnist_train_y, fashion_mnist_test_x, fashion_mnist_test_y)"
   ]
  },
  {
   "cell_type": "markdown",
   "metadata": {},
   "source": [
    "Функция активации теперь Tanh, количество внутренних слоев : 0"
   ]
  },
  {
   "cell_type": "code",
   "execution_count": 25,
   "metadata": {},
   "outputs": [
    {
     "name": "stdout",
     "output_type": "stream",
     "text": [
      "Создание сети :\n",
      "  Количество скрытых слоев     : 0\n",
      "  Количество входных нейронов  : 784\n",
      "  Koличество выходных нейронов : 10\n",
      "  Широты скрытых слоев         : []\n",
      "Обучение сети:\n",
      "|training|\t\t\t\t\t\t\t|validation|\n",
      "  [epochs 1 in 10] loss : 0.09123, accuracy : 0.8296\t\t [epochs 1 in 10] loss : 0.06483, accuracy : 0.8162\n",
      "  [epochs 2 in 10] loss : 0.08327, accuracy : 0.84165\t\t [epochs 2 in 10] loss : 0.05922, accuracy : 0.8282\n",
      "  [epochs 3 in 10] loss : 0.07932, accuracy : 0.84757\t\t [epochs 3 in 10] loss : 0.05734, accuracy : 0.8324\n",
      "  [epochs 4 in 10] loss : 0.0769, accuracy : 0.85048\t\t [epochs 4 in 10] loss : 0.05661, accuracy : 0.8342\n",
      "  [epochs 5 in 10] loss : 0.07523, accuracy : 0.85233\t\t [epochs 5 in 10] loss : 0.05637, accuracy : 0.8353\n",
      "  [epochs 6 in 10] loss : 0.074, accuracy : 0.85358\t\t [epochs 6 in 10] loss : 0.05637, accuracy : 0.8367\n",
      "  [epochs 7 in 10] loss : 0.07303, accuracy : 0.85552\t\t [epochs 7 in 10] loss : 0.05649, accuracy : 0.8368\n",
      "  [epochs 8 in 10] loss : 0.07225, accuracy : 0.85663\t\t [epochs 8 in 10] loss : 0.05667, accuracy : 0.837\n",
      "  [epochs 9 in 10] loss : 0.0716, accuracy : 0.85757\t\t [epochs 9 in 10] loss : 0.05688, accuracy : 0.8369\n",
      "  [epochs 10 in 10] loss : 0.07105, accuracy : 0.85813\t\t [epochs 10 in 10] loss : 0.05711, accuracy : 0.8374\n"
     ]
    },
    {
     "data": {
      "image/png": "[encoded data removed]",
      "text/plain": [
       "<Figure size 432x288 with 1 Axes>"
      ]
     },
     "metadata": {
      "needs_background": "light"
     },
     "output_type": "display_data"
    },
    {
     "data": {
      "text/plain": [
       "PyTorchPerceptron(\n",
       "  (func): Tanh()\n",
       "  (net): Sequential(\n",
       "    (0): Linear(in_features=784, out_features=10, bias=True)\n",
       "  )\n",
       ")"
      ]
     },
     "execution_count": 25,
     "metadata": {},
     "output_type": "execute_result"
    }
   ],
   "source": [
    "second_null_layred_fm_perceptron = PyTorchPerceptron(layers=[], func=torch.nn.Tanh())\n",
    "second_null_layred_fm_perceptron.fit(fashion_mnist_train_x, fashion_mnist_train_y, fashion_mnist_test_x, fashion_mnist_test_y)"
   ]
  },
  {
   "cell_type": "markdown",
   "metadata": {},
   "source": [
    "## Двуслойные персептроны\n",
    "Функция активации Sigmoid, количество внутренних слоев : 1, широты : 30"
   ]
  },
  {
   "cell_type": "code",
   "execution_count": 26,
   "metadata": {},
   "outputs": [
    {
     "name": "stdout",
     "output_type": "stream",
     "text": [
      "Создание сети :\n",
      "  Количество скрытых слоев     : 1\n",
      "  Количество входных нейронов  : 784\n",
      "  Koличество выходных нейронов : 10\n",
      "  Широты скрытых слоев         : [30]\n",
      "Обучение сети:\n",
      "|training|\t\t\t\t\t\t\t|validation|\n",
      "  [epochs 1 in 20] loss : 0.07554, accuracy : 0.8299\t\t [epochs 1 in 20] loss : 0.05545, accuracy : 0.8195\n",
      "  [epochs 2 in 20] loss : 0.05921, accuracy : 0.85208\t\t [epochs 2 in 20] loss : 0.04737, accuracy : 0.8411\n",
      "  [epochs 3 in 20] loss : 0.05043, accuracy : 0.86313\t\t [epochs 3 in 20] loss : 0.04393, accuracy : 0.8481\n",
      "  [epochs 4 in 20] loss : 0.04453, accuracy : 0.8693\t\t [epochs 4 in 20] loss : 0.04068, accuracy : 0.8529\n",
      "  [epochs 5 in 20] loss : 0.04049, accuracy : 0.87435\t\t [epochs 5 in 20] loss : 0.03831, accuracy : 0.8563\n",
      "  [epochs 6 in 20] loss : 0.03893, accuracy : 0.87797\t\t [epochs 6 in 20] loss : 0.03755, accuracy : 0.8586\n",
      "  [epochs 7 in 20] loss : 0.03617, accuracy : 0.88125\t\t [epochs 7 in 20] loss : 0.03654, accuracy : 0.8612\n",
      "  [epochs 8 in 20] loss : 0.03319, accuracy : 0.88382\t\t [epochs 8 in 20] loss : 0.03531, accuracy : 0.863\n",
      "  [epochs 9 in 20] loss : 0.03054, accuracy : 0.88563\t\t [epochs 9 in 20] loss : 0.03412, accuracy : 0.8629\n",
      "  [epochs 10 in 20] loss : 0.02853, accuracy : 0.88775\t\t [epochs 10 in 20] loss : 0.03329, accuracy : 0.8643\n",
      "  [epochs 11 in 20] loss : 0.02705, accuracy : 0.88948\t\t [epochs 11 in 20] loss : 0.03284, accuracy : 0.8651\n",
      "  [epochs 12 in 20] loss : 0.02601, accuracy : 0.8909\t\t [epochs 12 in 20] loss : 0.03271, accuracy : 0.8654\n",
      "  [epochs 13 in 20] loss : 0.02527, accuracy : 0.89202\t\t [epochs 13 in 20] loss : 0.03284, accuracy : 0.8663\n",
      "  [epochs 14 in 20] loss : 0.02469, accuracy : 0.89348\t\t [epochs 14 in 20] loss : 0.03312, accuracy : 0.867\n",
      "  [epochs 15 in 20] loss : 0.02415, accuracy : 0.8946\t\t [epochs 15 in 20] loss : 0.03349, accuracy : 0.8679\n",
      "  [epochs 16 in 20] loss : 0.02361, accuracy : 0.89568\t\t [epochs 16 in 20] loss : 0.03383, accuracy : 0.8681\n",
      "  [epochs 17 in 20] loss : 0.02306, accuracy : 0.89697\t\t [epochs 17 in 20] loss : 0.03406, accuracy : 0.8683\n",
      "  [epochs 18 in 20] loss : 0.02253, accuracy : 0.89798\t\t [epochs 18 in 20] loss : 0.0342, accuracy : 0.869\n",
      "  [epochs 19 in 20] loss : 0.02201, accuracy : 0.89885\t\t [epochs 19 in 20] loss : 0.03434, accuracy : 0.8689\n",
      "  [epochs 20 in 20] loss : 0.02147, accuracy : 0.89998\t\t [epochs 20 in 20] loss : 0.03454, accuracy : 0.869\n"
     ]
    },
    {
     "data": {
      "image/png": "[encoded data removed]",
      "text/plain": [
       "<Figure size 432x288 with 1 Axes>"
      ]
     },
     "metadata": {
      "needs_background": "light"
     },
     "output_type": "display_data"
    },
    {
     "data": {
      "text/plain": [
       "PyTorchPerceptron(\n",
       "  (func): Sigmoid()\n",
       "  (net): Sequential(\n",
       "    (0): Linear(in_features=784, out_features=30, bias=True)\n",
       "    (1): Sigmoid()\n",
       "    (2): Linear(in_features=30, out_features=10, bias=True)\n",
       "  )\n",
       ")"
      ]
     },
     "execution_count": 26,
     "metadata": {},
     "output_type": "execute_result"
    }
   ],
   "source": [
    "first_one_layred_fm_perceptron = PyTorchPerceptron(layers=[30], epochs=20)\n",
    "first_one_layred_fm_perceptron.fit(fashion_mnist_train_x, fashion_mnist_train_y, fashion_mnist_test_x, fashion_mnist_test_y)"
   ]
  },
  {
   "cell_type": "markdown",
   "metadata": {},
   "source": [
    "Функция активации Sigmoid, количество внутренних слоев : 1, широты : 50"
   ]
  },
  {
   "cell_type": "code",
   "execution_count": 27,
   "metadata": {},
   "outputs": [
    {
     "name": "stdout",
     "output_type": "stream",
     "text": [
      "Создание сети :\n",
      "  Количество скрытых слоев     : 1\n",
      "  Количество входных нейронов  : 784\n",
      "  Koличество выходных нейронов : 10\n",
      "  Широты скрытых слоев         : [50]\n",
      "Обучение сети:\n",
      "|training|\t\t\t\t\t\t\t|validation|\n",
      "  [epochs 1 in 20] loss : 0.06871, accuracy : 0.84183\t\t [epochs 1 in 20] loss : 0.04932, accuracy : 0.8309\n",
      "  [epochs 2 in 20] loss : 0.05162, accuracy : 0.8628\t\t [epochs 2 in 20] loss : 0.0458, accuracy : 0.8493\n",
      "  [epochs 3 in 20] loss : 0.04273, accuracy : 0.87278\t\t [epochs 3 in 20] loss : 0.04508, accuracy : 0.8574\n",
      "  [epochs 4 in 20] loss : 0.03558, accuracy : 0.87993\t\t [epochs 4 in 20] loss : 0.04451, accuracy : 0.861\n",
      "  [epochs 5 in 20] loss : 0.03217, accuracy : 0.88378\t\t [epochs 5 in 20] loss : 0.04433, accuracy : 0.8656\n",
      "  [epochs 6 in 20] loss : 0.03044, accuracy : 0.88705\t\t [epochs 6 in 20] loss : 0.04418, accuracy : 0.8675\n",
      "  [epochs 7 in 20] loss : 0.02909, accuracy : 0.89065\t\t [epochs 7 in 20] loss : 0.04415, accuracy : 0.8689\n",
      "  [epochs 8 in 20] loss : 0.02754, accuracy : 0.89342\t\t [epochs 8 in 20] loss : 0.04412, accuracy : 0.8705\n",
      "  [epochs 9 in 20] loss : 0.02584, accuracy : 0.89618\t\t [epochs 9 in 20] loss : 0.044, accuracy : 0.8714\n",
      "  [epochs 10 in 20] loss : 0.02418, accuracy : 0.8983\t\t [epochs 10 in 20] loss : 0.04342, accuracy : 0.8722\n",
      "  [epochs 11 in 20] loss : 0.02265, accuracy : 0.90088\t\t [epochs 11 in 20] loss : 0.04242, accuracy : 0.8735\n",
      "  [epochs 12 in 20] loss : 0.02136, accuracy : 0.90255\t\t [epochs 12 in 20] loss : 0.04129, accuracy : 0.874\n",
      "  [epochs 13 in 20] loss : 0.02031, accuracy : 0.90372\t\t [epochs 13 in 20] loss : 0.04006, accuracy : 0.8749\n",
      "  [epochs 14 in 20] loss : 0.01933, accuracy : 0.90502\t\t [epochs 14 in 20] loss : 0.03873, accuracy : 0.8754\n",
      "  [epochs 15 in 20] loss : 0.0184, accuracy : 0.90657\t\t [epochs 15 in 20] loss : 0.03741, accuracy : 0.8762\n",
      "  [epochs 16 in 20] loss : 0.01753, accuracy : 0.90773\t\t [epochs 16 in 20] loss : 0.0361, accuracy : 0.8768\n",
      "  [epochs 17 in 20] loss : 0.01675, accuracy : 0.90848\t\t [epochs 17 in 20] loss : 0.03479, accuracy : 0.876\n",
      "  [epochs 18 in 20] loss : 0.01607, accuracy : 0.9096\t\t [epochs 18 in 20] loss : 0.03353, accuracy : 0.8766\n",
      "  [epochs 19 in 20] loss : 0.01546, accuracy : 0.91053\t\t [epochs 19 in 20] loss : 0.03234, accuracy : 0.8764\n",
      "  [epochs 20 in 20] loss : 0.0149, accuracy : 0.91143\t\t [epochs 20 in 20] loss : 0.03107, accuracy : 0.8765\n"
     ]
    },
    {
     "data": {
      "image/png": "[encoded data removed]",
      "text/plain": [
       "<Figure size 432x288 with 1 Axes>"
      ]
     },
     "metadata": {
      "needs_background": "light"
     },
     "output_type": "display_data"
    },
    {
     "data": {
      "text/plain": [
       "PyTorchPerceptron(\n",
       "  (func): Sigmoid()\n",
       "  (net): Sequential(\n",
       "    (0): Linear(in_features=784, out_features=50, bias=True)\n",
       "    (1): Sigmoid()\n",
       "    (2): Linear(in_features=50, out_features=10, bias=True)\n",
       "  )\n",
       ")"
      ]
     },
     "execution_count": 27,
     "metadata": {},
     "output_type": "execute_result"
    }
   ],
   "source": [
    "second_one_layred_fm_perceptron = PyTorchPerceptron(layers=[50], epochs=20)\n",
    "second_one_layred_fm_perceptron.fit(fashion_mnist_train_x, fashion_mnist_train_y, fashion_mnist_test_x, fashion_mnist_test_y)\n"
   ]
  },
  {
   "cell_type": "markdown",
   "metadata": {},
   "source": [
    "Функция активации ReLU, количество внутренних слоев : 1, широты : 100"
   ]
  },
  {
   "cell_type": "code",
   "execution_count": 28,
   "metadata": {},
   "outputs": [
    {
     "name": "stdout",
     "output_type": "stream",
     "text": [
      "Создание сети :\n",
      "  Количество скрытых слоев     : 1\n",
      "  Количество входных нейронов  : 784\n",
      "  Koличество выходных нейронов : 10\n",
      "  Широты скрытых слоев         : [100]\n",
      "Обучение сети:\n",
      "|training|\t\t\t\t\t\t\t|validation|\n",
      "  [epochs 1 in 20] loss : 0.07029, accuracy : 0.82753\t\t [epochs 1 in 20] loss : 0.05156, accuracy : 0.8177\n",
      "  [epochs 2 in 20] loss : 0.05357, accuracy : 0.84513\t\t [epochs 2 in 20] loss : 0.04906, accuracy : 0.8331\n",
      "  [epochs 3 in 20] loss : 0.04387, accuracy : 0.85805\t\t [epochs 3 in 20] loss : 0.04434, accuracy : 0.8379\n",
      "  [epochs 4 in 20] loss : 0.0399, accuracy : 0.86988\t\t [epochs 4 in 20] loss : 0.04554, accuracy : 0.8491\n",
      "  [epochs 5 in 20] loss : 0.03586, accuracy : 0.87378\t\t [epochs 5 in 20] loss : 0.04471, accuracy : 0.8534\n",
      "  [epochs 6 in 20] loss : 0.02821, accuracy : 0.87965\t\t [epochs 6 in 20] loss : 0.04356, accuracy : 0.8561\n",
      "  [epochs 7 in 20] loss : 0.03028, accuracy : 0.8804\t\t [epochs 7 in 20] loss : 0.0473, accuracy : 0.855\n",
      "  [epochs 8 in 20] loss : 0.02844, accuracy : 0.88377\t\t [epochs 8 in 20] loss : 0.04408, accuracy : 0.8601\n",
      "  [epochs 9 in 20] loss : 0.03071, accuracy : 0.8912\t\t [epochs 9 in 20] loss : 0.04266, accuracy : 0.8638\n",
      "  [epochs 10 in 20] loss : 0.03052, accuracy : 0.88747\t\t [epochs 10 in 20] loss : 0.04432, accuracy : 0.861\n",
      "  [epochs 11 in 20] loss : 0.02997, accuracy : 0.88917\t\t [epochs 11 in 20] loss : 0.04359, accuracy : 0.8595\n",
      "  [epochs 12 in 20] loss : 0.02919, accuracy : 0.89008\t\t [epochs 12 in 20] loss : 0.04234, accuracy : 0.8594\n",
      "  [epochs 13 in 20] loss : 0.027, accuracy : 0.89113\t\t [epochs 13 in 20] loss : 0.04288, accuracy : 0.86\n",
      "  [epochs 14 in 20] loss : 0.02829, accuracy : 0.8965\t\t [epochs 14 in 20] loss : 0.04119, accuracy : 0.8629\n",
      "  [epochs 15 in 20] loss : 0.02763, accuracy : 0.89832\t\t [epochs 15 in 20] loss : 0.03996, accuracy : 0.8626\n",
      "  [epochs 16 in 20] loss : 0.02238, accuracy : 0.89527\t\t [epochs 16 in 20] loss : 0.03888, accuracy : 0.8609\n",
      "  [epochs 17 in 20] loss : 0.02099, accuracy : 0.8989\t\t [epochs 17 in 20] loss : 0.03501, accuracy : 0.8618\n",
      "  [epochs 18 in 20] loss : 0.01631, accuracy : 0.90048\t\t [epochs 18 in 20] loss : 0.04029, accuracy : 0.863\n",
      "  [epochs 19 in 20] loss : 0.01838, accuracy : 0.90053\t\t [epochs 19 in 20] loss : 0.04099, accuracy : 0.862\n",
      "  [epochs 20 in 20] loss : 0.0155, accuracy : 0.90127\t\t [epochs 20 in 20] loss : 0.04033, accuracy : 0.862\n"
     ]
    },
    {
     "data": {
      "image/png": "[encoded data removed]",
      "text/plain": [
       "<Figure size 432x288 with 1 Axes>"
      ]
     },
     "metadata": {
      "needs_background": "light"
     },
     "output_type": "display_data"
    },
    {
     "data": {
      "text/plain": [
       "PyTorchPerceptron(\n",
       "  (func): ReLU()\n",
       "  (net): Sequential(\n",
       "    (0): Linear(in_features=784, out_features=100, bias=True)\n",
       "    (1): ReLU()\n",
       "    (2): Linear(in_features=100, out_features=10, bias=True)\n",
       "  )\n",
       ")"
      ]
     },
     "execution_count": 28,
     "metadata": {},
     "output_type": "execute_result"
    }
   ],
   "source": [
    "third_one_layred_fm_perceptron = PyTorchPerceptron(layers=[100], epochs=20, func=torch.nn.ReLU())\n",
    "third_one_layred_fm_perceptron.fit(fashion_mnist_train_x, fashion_mnist_train_y, fashion_mnist_test_x, fashion_mnist_test_y)\n"
   ]
  },
  {
   "cell_type": "markdown",
   "metadata": {},
   "source": [
    "### Тестирование CIFAR-10\n",
    "\n",
    "Функция активации Tanh, количество внутренних слоев : 2, широты : 324, 100"
   ]
  },
  {
   "cell_type": "code",
   "execution_count": 29,
   "metadata": {},
   "outputs": [
    {
     "name": "stdout",
     "output_type": "stream",
     "text": [
      "Создание сети :\n",
      "  Количество скрытых слоев     : 2\n",
      "  Количество входных нейронов  : 1024\n",
      "  Koличество выходных нейронов : 10\n",
      "  Широты скрытых слоев         : [324, 100]\n",
      "Обучение сети:\n",
      "|training|\t\t\t\t\t\t\t|validation|\n",
      "  [epochs 1 in 50] loss : 0.31356, accuracy : 0.1274\t\t [epochs 1 in 50] loss : 0.3027, accuracy : 0.237\n",
      "  [epochs 2 in 50] loss : 0.31188, accuracy : 0.13674\t\t [epochs 2 in 50] loss : 0.28632, accuracy : 0.2821\n",
      "  [epochs 3 in 50] loss : 0.31455, accuracy : 0.14276\t\t [epochs 3 in 50] loss : 0.27946, accuracy : 0.3077\n",
      "  [epochs 4 in 50] loss : 0.31799, accuracy : 0.14792\t\t [epochs 4 in 50] loss : 0.27165, accuracy : 0.3296\n",
      "  [epochs 5 in 50] loss : 0.3188, accuracy : 0.14998\t\t [epochs 5 in 50] loss : 0.26389, accuracy : 0.3499\n",
      "  [epochs 6 in 50] loss : 0.31648, accuracy : 0.15304\t\t [epochs 6 in 50] loss : 0.25841, accuracy : 0.3618\n",
      "  [epochs 7 in 50] loss : 0.31643, accuracy : 0.15502\t\t [epochs 7 in 50] loss : 0.25572, accuracy : 0.3703\n",
      "  [epochs 8 in 50] loss : 0.31485, accuracy : 0.15854\t\t [epochs 8 in 50] loss : 0.25411, accuracy : 0.3759\n",
      "  [epochs 9 in 50] loss : 0.313, accuracy : 0.16054\t\t [epochs 9 in 50] loss : 0.25153, accuracy : 0.3832\n",
      "  [epochs 10 in 50] loss : 0.31103, accuracy : 0.16178\t\t [epochs 10 in 50] loss : 0.25108, accuracy : 0.3908\n",
      "  [epochs 11 in 50] loss : 0.30933, accuracy : 0.16374\t\t [epochs 11 in 50] loss : 0.2498, accuracy : 0.396\n",
      "  [epochs 12 in 50] loss : 0.30752, accuracy : 0.16562\t\t [epochs 12 in 50] loss : 0.249, accuracy : 0.4\n",
      "  [epochs 13 in 50] loss : 0.30575, accuracy : 0.16646\t\t [epochs 13 in 50] loss : 0.24863, accuracy : 0.4032\n",
      "  [epochs 14 in 50] loss : 0.3034, accuracy : 0.16728\t\t [epochs 14 in 50] loss : 0.24779, accuracy : 0.4057\n",
      "  [epochs 15 in 50] loss : 0.30172, accuracy : 0.16816\t\t [epochs 15 in 50] loss : 0.24776, accuracy : 0.4097\n",
      "  [epochs 16 in 50] loss : 0.29989, accuracy : 0.16966\t\t [epochs 16 in 50] loss : 0.24777, accuracy : 0.413\n",
      "  [epochs 17 in 50] loss : 0.29958, accuracy : 0.17054\t\t [epochs 17 in 50] loss : 0.24724, accuracy : 0.4148\n",
      "  [epochs 18 in 50] loss : 0.29877, accuracy : 0.1712\t\t [epochs 18 in 50] loss : 0.24626, accuracy : 0.4168\n",
      "  [epochs 19 in 50] loss : 0.29767, accuracy : 0.1722\t\t [epochs 19 in 50] loss : 0.24571, accuracy : 0.419\n",
      "  [epochs 20 in 50] loss : 0.29649, accuracy : 0.17256\t\t [epochs 20 in 50] loss : 0.24546, accuracy : 0.4212\n",
      "  [epochs 21 in 50] loss : 0.29608, accuracy : 0.17344\t\t [epochs 21 in 50] loss : 0.24446, accuracy : 0.4234\n",
      "  [epochs 22 in 50] loss : 0.29464, accuracy : 0.17394\t\t [epochs 22 in 50] loss : 0.24434, accuracy : 0.4255\n",
      "  [epochs 23 in 50] loss : 0.29365, accuracy : 0.17472\t\t [epochs 23 in 50] loss : 0.24304, accuracy : 0.4278\n",
      "  [epochs 24 in 50] loss : 0.29277, accuracy : 0.17514\t\t [epochs 24 in 50] loss : 0.24242, accuracy : 0.4292\n",
      "  [epochs 25 in 50] loss : 0.29157, accuracy : 0.17598\t\t [epochs 25 in 50] loss : 0.24033, accuracy : 0.4314\n",
      "  [epochs 26 in 50] loss : 0.29067, accuracy : 0.1771\t\t [epochs 26 in 50] loss : 0.23857, accuracy : 0.4329\n",
      "  [epochs 27 in 50] loss : 0.28977, accuracy : 0.1777\t\t [epochs 27 in 50] loss : 0.23723, accuracy : 0.4347\n",
      "  [epochs 28 in 50] loss : 0.28716, accuracy : 0.17884\t\t [epochs 28 in 50] loss : 0.23556, accuracy : 0.4373\n",
      "  [epochs 29 in 50] loss : 0.28522, accuracy : 0.17974\t\t [epochs 29 in 50] loss : 0.23455, accuracy : 0.4392\n",
      "  [epochs 30 in 50] loss : 0.28466, accuracy : 0.18036\t\t [epochs 30 in 50] loss : 0.23267, accuracy : 0.4392\n",
      "  [epochs 31 in 50] loss : 0.28413, accuracy : 0.18186\t\t [epochs 31 in 50] loss : 0.23138, accuracy : 0.4415\n",
      "  [epochs 32 in 50] loss : 0.28342, accuracy : 0.1827\t\t [epochs 32 in 50] loss : 0.22991, accuracy : 0.4441\n",
      "  [epochs 33 in 50] loss : 0.28026, accuracy : 0.18372\t\t [epochs 33 in 50] loss : 0.2297, accuracy : 0.4446\n",
      "  [epochs 34 in 50] loss : 0.28115, accuracy : 0.1841\t\t [epochs 34 in 50] loss : 0.22936, accuracy : 0.4463\n",
      "  [epochs 35 in 50] loss : 0.27741, accuracy : 0.18512\t\t [epochs 35 in 50] loss : 0.22882, accuracy : 0.4466\n",
      "  [epochs 36 in 50] loss : 0.27661, accuracy : 0.186\t\t [epochs 36 in 50] loss : 0.2293, accuracy : 0.4485\n",
      "  [epochs 37 in 50] loss : 0.27468, accuracy : 0.18658\t\t [epochs 37 in 50] loss : 0.22996, accuracy : 0.4507\n",
      "  [epochs 38 in 50] loss : 0.2732, accuracy : 0.18768\t\t [epochs 38 in 50] loss : 0.23076, accuracy : 0.4506\n",
      "  [epochs 39 in 50] loss : 0.27158, accuracy : 0.1885\t\t [epochs 39 in 50] loss : 0.23136, accuracy : 0.4512\n",
      "  [epochs 40 in 50] loss : 0.2711, accuracy : 0.18902\t\t [epochs 40 in 50] loss : 0.23199, accuracy : 0.4523\n",
      "  [epochs 41 in 50] loss : 0.27102, accuracy : 0.19064\t\t [epochs 41 in 50] loss : 0.23407, accuracy : 0.4537\n",
      "  [epochs 42 in 50] loss : 0.26725, accuracy : 0.19184\t\t [epochs 42 in 50] loss : 0.23546, accuracy : 0.4547\n",
      "  [epochs 43 in 50] loss : 0.26804, accuracy : 0.19194\t\t [epochs 43 in 50] loss : 0.23854, accuracy : 0.4541\n",
      "  [epochs 44 in 50] loss : 0.26802, accuracy : 0.19218\t\t [epochs 44 in 50] loss : 0.24225, accuracy : 0.4532\n",
      "  [epochs 45 in 50] loss : 0.26613, accuracy : 0.19312\t\t [epochs 45 in 50] loss : 0.24253, accuracy : 0.4544\n",
      "  [epochs 46 in 50] loss : 0.26453, accuracy : 0.19484\t\t [epochs 46 in 50] loss : 0.24385, accuracy : 0.4559\n",
      "  [epochs 47 in 50] loss : 0.26266, accuracy : 0.1954\t\t [epochs 47 in 50] loss : 0.24463, accuracy : 0.4563\n",
      "  [epochs 48 in 50] loss : 0.26189, accuracy : 0.19644\t\t [epochs 48 in 50] loss : 0.24532, accuracy : 0.4556\n",
      "  [epochs 49 in 50] loss : 0.26035, accuracy : 0.19712\t\t [epochs 49 in 50] loss : 0.24582, accuracy : 0.4567\n",
      "  [epochs 50 in 50] loss : 0.25921, accuracy : 0.19748\t\t [epochs 50 in 50] loss : 0.24586, accuracy : 0.457\n"
     ]
    },
    {
     "data": {
      "image/png": "[encoded data removed]",
      "text/plain": [
       "<Figure size 432x288 with 1 Axes>"
      ]
     },
     "metadata": {
      "needs_background": "light"
     },
     "output_type": "display_data"
    },
    {
     "data": {
      "text/plain": [
       "PyTorchPerceptron(\n",
       "  (func): Tanh()\n",
       "  (net): Sequential(\n",
       "    (0): Linear(in_features=1024, out_features=324, bias=True)\n",
       "    (1): Tanh()\n",
       "    (2): Linear(in_features=324, out_features=100, bias=True)\n",
       "    (3): Tanh()\n",
       "    (4): Linear(in_features=100, out_features=10, bias=True)\n",
       "  )\n",
       ")"
      ]
     },
     "execution_count": 29,
     "metadata": {},
     "output_type": "execute_result"
    }
   ],
   "source": [
    "first_null_cf_perceptron = PyTorchPerceptron(layers=[324, 100], learning_rate=0.0001, epochs=50, func=torch.nn.Tanh())\n",
    "first_null_cf_perceptron.fit(cifar_train_x, cifar_train_y, cifar_test_x, cifar_test_y)"
   ]
  },
  {
   "cell_type": "code",
   "execution_count": 30,
   "metadata": {},
   "outputs": [
    {
     "name": "stdout",
     "output_type": "stream",
     "text": [
      "Confusion matrix :\n",
      "[[420  13  82  26  46  20   4  30  47  15]\n",
      " [ 47 580  35  40  24  37  28  28  60 183]\n",
      " [ 35   8 216  36 103  38  43  32   5   5]\n",
      " [ 33  28 139 366  90 258 134  91  36  31]\n",
      " [ 20  11 109  25 308  42  78  53   7   6]\n",
      " [ 21  14  94 195  74 325  64  62  18  10]\n",
      " [ 26  18 150 109 140  96 546  47  13  31]\n",
      " [ 42  33  91  64 121  94  34 509  19  37]\n",
      " [274  97  48  47  55  47  21  39 718 100]\n",
      " [ 82 198  36  92  39  43  48 109  77 582]]\n"
     ]
    }
   ],
   "source": [
    "print(\"Confusion matrix :\")\n",
    "print(first_null_cf_perceptron.confusion_matrix(cifar_test_x, cifar_test_y))"
   ]
  },
  {
   "cell_type": "markdown",
   "metadata": {},
   "source": [
    "Функция активации Tanh, количество внутренних слоев : 0"
   ]
  },
  {
   "cell_type": "code",
   "execution_count": 31,
   "metadata": {},
   "outputs": [
    {
     "name": "stdout",
     "output_type": "stream",
     "text": [
      "Создание сети :\n",
      "  Количество скрытых слоев     : 0\n",
      "  Количество входных нейронов  : 1024\n",
      "  Koличество выходных нейронов : 10\n",
      "  Широты скрытых слоев         : []\n",
      "Обучение сети:\n",
      "|training|\t\t\t\t\t\t\t|validation|\n",
      "  [epochs 1 in 50] loss : 0.32932, accuracy : 0.13024\t\t [epochs 1 in 50] loss : 0.29895, accuracy : 0.2421\n",
      "  [epochs 2 in 50] loss : 0.3287, accuracy : 0.13726\t\t [epochs 2 in 50] loss : 0.2958, accuracy : 0.2607\n",
      "  [epochs 3 in 50] loss : 0.32836, accuracy : 0.1395\t\t [epochs 3 in 50] loss : 0.29443, accuracy : 0.2719\n",
      "  [epochs 4 in 50] loss : 0.32804, accuracy : 0.14122\t\t [epochs 4 in 50] loss : 0.29353, accuracy : 0.2779\n",
      "  [epochs 5 in 50] loss : 0.32775, accuracy : 0.14216\t\t [epochs 5 in 50] loss : 0.29284, accuracy : 0.2812\n",
      "  [epochs 6 in 50] loss : 0.32747, accuracy : 0.14308\t\t [epochs 6 in 50] loss : 0.29227, accuracy : 0.2845\n",
      "  [epochs 7 in 50] loss : 0.32721, accuracy : 0.144\t\t [epochs 7 in 50] loss : 0.29177, accuracy : 0.2872\n",
      "  [epochs 8 in 50] loss : 0.32696, accuracy : 0.14482\t\t [epochs 8 in 50] loss : 0.29134, accuracy : 0.2887\n",
      "  [epochs 9 in 50] loss : 0.32671, accuracy : 0.14548\t\t [epochs 9 in 50] loss : 0.29094, accuracy : 0.2903\n",
      "  [epochs 10 in 50] loss : 0.32648, accuracy : 0.14594\t\t [epochs 10 in 50] loss : 0.29057, accuracy : 0.2916\n",
      "  [epochs 11 in 50] loss : 0.32625, accuracy : 0.14672\t\t [epochs 11 in 50] loss : 0.29023, accuracy : 0.2917\n",
      "  [epochs 12 in 50] loss : 0.32603, accuracy : 0.14798\t\t [epochs 12 in 50] loss : 0.2899, accuracy : 0.2917\n",
      "  [epochs 13 in 50] loss : 0.32582, accuracy : 0.14848\t\t [epochs 13 in 50] loss : 0.28959, accuracy : 0.2926\n",
      "  [epochs 14 in 50] loss : 0.32561, accuracy : 0.1488\t\t [epochs 14 in 50] loss : 0.28929, accuracy : 0.2934\n",
      "  [epochs 15 in 50] loss : 0.32541, accuracy : 0.14958\t\t [epochs 15 in 50] loss : 0.289, accuracy : 0.2951\n",
      "  [epochs 16 in 50] loss : 0.32521, accuracy : 0.14988\t\t [epochs 16 in 50] loss : 0.28872, accuracy : 0.2949\n",
      "  [epochs 17 in 50] loss : 0.32502, accuracy : 0.14998\t\t [epochs 17 in 50] loss : 0.28845, accuracy : 0.297\n",
      "  [epochs 18 in 50] loss : 0.32483, accuracy : 0.1506\t\t [epochs 18 in 50] loss : 0.28818, accuracy : 0.2982\n",
      "  [epochs 19 in 50] loss : 0.32465, accuracy : 0.151\t\t [epochs 19 in 50] loss : 0.28793, accuracy : 0.299\n",
      "  [epochs 20 in 50] loss : 0.32447, accuracy : 0.15146\t\t [epochs 20 in 50] loss : 0.28768, accuracy : 0.2989\n",
      "  [epochs 21 in 50] loss : 0.32429, accuracy : 0.15168\t\t [epochs 21 in 50] loss : 0.28744, accuracy : 0.2997\n",
      "  [epochs 22 in 50] loss : 0.32412, accuracy : 0.152\t\t [epochs 22 in 50] loss : 0.28721, accuracy : 0.3001\n",
      "  [epochs 23 in 50] loss : 0.32396, accuracy : 0.15224\t\t [epochs 23 in 50] loss : 0.28698, accuracy : 0.2996\n",
      "  [epochs 24 in 50] loss : 0.3238, accuracy : 0.15252\t\t [epochs 24 in 50] loss : 0.28676, accuracy : 0.2998\n",
      "  [epochs 25 in 50] loss : 0.32364, accuracy : 0.15302\t\t [epochs 25 in 50] loss : 0.28655, accuracy : 0.2996\n",
      "  [epochs 26 in 50] loss : 0.32349, accuracy : 0.15328\t\t [epochs 26 in 50] loss : 0.28634, accuracy : 0.3005\n",
      "  [epochs 27 in 50] loss : 0.32334, accuracy : 0.15334\t\t [epochs 27 in 50] loss : 0.28613, accuracy : 0.3007\n",
      "  [epochs 28 in 50] loss : 0.32319, accuracy : 0.15396\t\t [epochs 28 in 50] loss : 0.28594, accuracy : 0.3012\n",
      "  [epochs 29 in 50] loss : 0.32305, accuracy : 0.15426\t\t [epochs 29 in 50] loss : 0.28574, accuracy : 0.302\n",
      "  [epochs 30 in 50] loss : 0.32291, accuracy : 0.1543\t\t [epochs 30 in 50] loss : 0.28556, accuracy : 0.3022\n",
      "  [epochs 31 in 50] loss : 0.32278, accuracy : 0.15454\t\t [epochs 31 in 50] loss : 0.28538, accuracy : 0.302\n",
      "  [epochs 32 in 50] loss : 0.32264, accuracy : 0.1548\t\t [epochs 32 in 50] loss : 0.2852, accuracy : 0.3024\n",
      "  [epochs 33 in 50] loss : 0.32252, accuracy : 0.15514\t\t [epochs 33 in 50] loss : 0.28503, accuracy : 0.3029\n",
      "  [epochs 34 in 50] loss : 0.32239, accuracy : 0.15532\t\t [epochs 34 in 50] loss : 0.28486, accuracy : 0.3028\n",
      "  [epochs 35 in 50] loss : 0.32227, accuracy : 0.15584\t\t [epochs 35 in 50] loss : 0.2847, accuracy : 0.303\n",
      "  [epochs 36 in 50] loss : 0.32215, accuracy : 0.15596\t\t [epochs 36 in 50] loss : 0.28454, accuracy : 0.3024\n",
      "  [epochs 37 in 50] loss : 0.32203, accuracy : 0.15602\t\t [epochs 37 in 50] loss : 0.28438, accuracy : 0.3027\n",
      "  [epochs 38 in 50] loss : 0.32192, accuracy : 0.15614\t\t [epochs 38 in 50] loss : 0.28423, accuracy : 0.303\n",
      "  [epochs 39 in 50] loss : 0.32181, accuracy : 0.15628\t\t [epochs 39 in 50] loss : 0.28409, accuracy : 0.3038\n",
      "  [epochs 40 in 50] loss : 0.3217, accuracy : 0.15652\t\t [epochs 40 in 50] loss : 0.28395, accuracy : 0.3038\n",
      "  [epochs 41 in 50] loss : 0.32159, accuracy : 0.157\t\t [epochs 41 in 50] loss : 0.28381, accuracy : 0.3038\n",
      "  [epochs 42 in 50] loss : 0.32148, accuracy : 0.15712\t\t [epochs 42 in 50] loss : 0.28368, accuracy : 0.3038\n",
      "  [epochs 43 in 50] loss : 0.32138, accuracy : 0.15702\t\t [epochs 43 in 50] loss : 0.28354, accuracy : 0.3038\n",
      "  [epochs 44 in 50] loss : 0.32128, accuracy : 0.15748\t\t [epochs 44 in 50] loss : 0.28342, accuracy : 0.304\n",
      "  [epochs 45 in 50] loss : 0.32119, accuracy : 0.15778\t\t [epochs 45 in 50] loss : 0.28329, accuracy : 0.3045\n",
      "  [epochs 46 in 50] loss : 0.32109, accuracy : 0.15778\t\t [epochs 46 in 50] loss : 0.28317, accuracy : 0.3049\n",
      "  [epochs 47 in 50] loss : 0.321, accuracy : 0.15772\t\t [epochs 47 in 50] loss : 0.28306, accuracy : 0.3049\n",
      "  [epochs 48 in 50] loss : 0.3209, accuracy : 0.15784\t\t [epochs 48 in 50] loss : 0.28294, accuracy : 0.3047\n",
      "  [epochs 49 in 50] loss : 0.32081, accuracy : 0.1581\t\t [epochs 49 in 50] loss : 0.28283, accuracy : 0.3048\n",
      "  [epochs 50 in 50] loss : 0.32073, accuracy : 0.15824\t\t [epochs 50 in 50] loss : 0.28273, accuracy : 0.3045\n"
     ]
    },
    {
     "data": {
      "image/png": "[encoded data removed]",
      "text/plain": [
       "<Figure size 432x288 with 1 Axes>"
      ]
     },
     "metadata": {
      "needs_background": "light"
     },
     "output_type": "display_data"
    },
    {
     "data": {
      "text/plain": [
       "PyTorchPerceptron(\n",
       "  (func): Tanh()\n",
       "  (net): Sequential(\n",
       "    (0): Linear(in_features=1024, out_features=10, bias=True)\n",
       "  )\n",
       ")"
      ]
     },
     "execution_count": 31,
     "metadata": {},
     "output_type": "execute_result"
    }
   ],
   "source": [
    "second_null_cf_perceptron = PyTorchPerceptron(layers=[], learning_rate=0.0001, epochs=50, func=torch.nn.Tanh())\n",
    "second_null_cf_perceptron.fit(cifar_train_x, cifar_train_y, cifar_test_x, cifar_test_y)"
   ]
  },
  {
   "cell_type": "code",
   "execution_count": 32,
   "metadata": {},
   "outputs": [
    {
     "name": "stdout",
     "output_type": "stream",
     "text": [
      "Confusion matrix :\n",
      "[[247  25  74  27  47  18  14  34  43  38]\n",
      " [ 53 399  58  72  52  49  79  56  77 143]\n",
      " [  2   2  14   8  12   3   7   4   0   1]\n",
      " [140  92 270 354 281 283 340 167  74  61]\n",
      " [  1   0  16   4  44   6  12  14   0   1]\n",
      " [ 44  63 159 272 150 368 164 141  53  39]\n",
      " [ 12  21  94  35 125  29 216  22   2  24]\n",
      " [ 48  45 112  54 157  96  60 316   9  38]\n",
      " [387 208 164  98  95 106  66 108 664 232]\n",
      " [ 66 145  39  76  37  42  42 138  78 423]]\n"
     ]
    }
   ],
   "source": [
    "print(\"Confusion matrix :\")\n",
    "print(second_null_cf_perceptron.confusion_matrix(cifar_test_x, cifar_test_y))"
   ]
  },
  {
   "cell_type": "markdown",
   "metadata": {},
   "source": [
    "### Итоги тестирования\n",
    "\n",
    "Итоговая таблица тестрования нейросетей различной конфигурации для различных датасетов. \n",
    "\n",
    "| Кол-во слоев | Широты | Фун-я активации | Скорость обучения | Кол-во эпох | Тестовая точность (%) | Датасет |\n",
    "|:-:|:-:|:-:|:-:|:-:|:-:|:-:|\n",
    "| 1| 784| ReLU| 0.001| 10| 91| MNIST |\n",
    "| 1| 784|Tanh| 0.001| 10| 91| MNIST |\n",
    "| 1| 784| Sigmoid| 0.001| 10| 85| MNIST|\n",
    "| 2| 784-30| Tanh| 0.001| 10| 94| MNIST |\n",
    "| 2| 784-30|Sigmoid| 0.001| 10| 88| MNIST|\n",
    "| 3| 784-30-20| Tanh| 0.001| 10| 95| MNIST |\n",
    "| 3| 784-20-15| Sigmoid| 0.001| 10| 93| MNIST |\n",
    "| 3| 784-20-15| Softsign| 0.001| 10| 93| MNIST |\n",
    "| 1| 784 | Softsign| 0.001| 25| 83| FashionMNIST |\n",
    "|1| 784 | Sigmoid | 0.001| 20| 83| FashionMNIST |\n",
    "| 1| 784 | Tanh | 0.001| 10| 83| FashionMNIST |\n",
    "| 2| 784-30 | Sigmoid | 0.001| 20| 87| FashionMNIST |\n",
    "|2| 784-50 | Sigmoid | 0.001| 20| 87| FashionMNIST|\n",
    "| 2| 784-100 | ReLU | 0.001| 20| 86| FashionMNIST |\n",
    "| 1| 1024 | Tanh | 0.0001| 50| 30| CIFAR-10|\n",
    "| 3| 1024-324-100| Tanh | 0.0001| 50| 45| CIFAR-10|\n",
    "\n",
    "Confusion maxtrix "
   ]
  },
  {
   "cell_type": "code",
   "execution_count": 33,
   "metadata": {},
   "outputs": [
    {
     "name": "stdout",
     "output_type": "stream",
     "text": [
      "Confusion matrix MNIST\n",
      "[[818   0   3   5   1  14   3   4   5   7]\n",
      " [  0 878   8   4   2   2   2   4  10   2]\n",
      " [  3   6 741  33   6   2  19  10  11   3]\n",
      " [  1   1  12 743   1  37   0   4  36  15]\n",
      " [  1   1   9   0 811   9   6   7   2  22]\n",
      " [  3   4   7  16   2 606   8   1  16   8]\n",
      " [  6   2   8   3   4   9 810   1   5   0]\n",
      " [  0   0  10   6   0   2   1 817   3  26]\n",
      " [  4   8  16  16   7  26   5   1 738  11]\n",
      " [  1   1   3   9  33  17   0  27   7 762]]\n",
      "\n",
      "Confusion matrix FashionMNIST\n",
      "[[843   4  17  22   1   0 146   0   3   0]\n",
      " [  0 957   4   7   1   0   3   0   0   0]\n",
      " [ 14   4 788   9  90   0 106   0   6   0]\n",
      " [ 46  26  14 903  39   1  39   0   5   0]\n",
      " [  5   6 117  32 827   0  80   0   2   0]\n",
      " [  1   0   0   0   0 953   0  21   3   5]\n",
      " [ 78   2  56  22  41   0 610   0   4   1]\n",
      " [  0   0   0   0   0  29   0 963   4  45]\n",
      " [ 13   1   4   5   1   1  16   0 973   1]\n",
      " [  0   0   0   0   0  16   0  16   0 948]]\n"
     ]
    }
   ],
   "source": [
    "print('Confusion matrix MNIST')\n",
    "print(third_null_layered_perceptron.confusion_matrix(mnist_test_x, mnist_test_y))\n",
    "print()\n",
    "print('Confusion matrix FashionMNIST')\n",
    "print(second_one_layred_fm_perceptron.confusion_matrix(fashion_mnist_test_x, fashion_mnist_test_y))"
   ]
  },
  {
   "cell_type": "markdown",
   "metadata": {},
   "source": [
    "## Вывод\n",
    "\n",
    "В данной лабораторной работе я реализовал нейросеть с использованием фреймворка для создания нейросетей PyTorch.\n",
    "\n",
    "Далее я решил задачу классификации для датасетов MNIST, FashionMNIST и CIFAR-10 с помощью 1, 2 и 3-слойного персептрона. Закономерности которые удалось установить в ходе решения:\n",
    "* передаточные функции Tanh и ReLU, обычно, обеспечивают точность классификации больше чем функции Sigmoid и Softsign\n",
    "* с увеличением количества нейронов в слоях и количества самих скрытых слоев, улучшается показатель точности классификации,но при этом  увеличивается время обучения нейросети\n",
    "* задача классификации для CIFAR-10 не решается точнее 45% с помощью нейросети данного типа\n",
    "\n",
    "Максимальная точность классификации датасетов нейросетью составила 94% для MNIST и 87% для FashionMNIST соответственно. Данные результаты удовлетворяют условиям поставленным в лабораторной работе, а вот для датасета CIFAR-10 точность не столь высока. Вероятно, стоило бы попробовать свёрточные нейросети, которые могут \"рассмотреть\" более широкую картину."
   ]
  },
  {
   "cell_type": "markdown",
   "metadata": {},
   "source": []
  }
 ],
 "metadata": {
  "kernelspec": {
   "display_name": "Python 3.9.3 64-bit",
   "language": "python",
   "name": "python3"
  },
  "language_info": {
   "codemirror_mode": {
    "name": "ipython",
    "version": 3
   },
   "file_extension": ".py",
   "mimetype": "text/x-python",
   "name": "python",
   "nbconvert_exporter": "python",
   "pygments_lexer": "ipython3",
   "version": "3.9.3"
  },
  "orig_nbformat": 2,
  "vscode": {
   "interpreter": {
    "hash": "01dc7e856fdf68c3a617ee5d2cd87f984bbe44eea8b5f02eb954aef02800fb30"
   }
  }
 },
 "nbformat": 4,
 "nbformat_minor": 2
}
