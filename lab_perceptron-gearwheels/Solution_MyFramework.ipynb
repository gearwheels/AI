{
 "cells": [
  {
   "cell_type": "markdown",
   "metadata": {},
   "source": [
    "## Лабораторная работа по курсу \"Искусственный интеллект\"\n",
    "## Многослойный персептрон\n",
    "\n",
    "| Студент | Тимофеев А. В. |\n",
    "|---------|--------|\n",
    "| Группа  | 7      |\n"
   ]
  },
  {
   "cell_type": "code",
   "execution_count": 1,
   "metadata": {
    "tags": []
   },
   "outputs": [],
   "source": [
    "from matplotlib import gridspec\n",
    "from sklearn.datasets import make_classification\n",
    "import pickle\n",
    "import os\n",
    "import numpy as np \n",
    "import matplotlib.pyplot as plt\n",
    "from sklearn.model_selection import train_test_split\n",
    "import mnist \n",
    "\n",
    "# pick the seed for reproducability - change it to explore the effects of random variations\n",
    "np.random.seed(0)\n",
    "import random"
   ]
  },
  {
   "cell_type": "markdown",
   "metadata": {},
   "source": [
    "## Подготовка датасетов\n",
    "Объявим функции для анализа датасетов"
   ]
  },
  {
   "cell_type": "code",
   "execution_count": 2,
   "metadata": {},
   "outputs": [],
   "source": [
    "def count_of_keys(df):\n",
    "    unique = np.unique(df)\n",
    "    counts = np.zeros(len(unique), dtype=np.int32)\n",
    "    for v in df:\n",
    "        counts[v] += 1\n",
    "    return counts\n",
    "def visualization_of_counts(df):\n",
    "    counts = count_of_keys(df)\n",
    "    plt.ylabel(\"Кол-во элементов в классе\")\n",
    "    plt.xlabel(\"Номер каждого класса\")\n",
    "    plt.bar(np.arange(len(counts)), counts)\n",
    "    plt.xticks(np.arange(len(counts)), [i for i in range(len(counts))])\n",
    "def analyze(labels, features, string :str):\n",
    "    visualization_of_counts(labels)\n",
    "    print(\"Данные для [{}]\".format(string))\n",
    "    print(\"Количество элементов в датасете : {}\".format(len(labels)))\n",
    "    print(\"Количество атрибутов в элементе : {}\".format(len(features[0])))\n",
    "    print(\"Минимальное значение атрибута   : {}\".format(np.min(features)))\n",
    "    print(\"Максимальное значение атрибута  : {}\".format(np.max(features)))\n",
    "    print()"
   ]
  },
  {
   "cell_type": "markdown",
   "metadata": {},
   "source": [
    "## Подготовим датасеты и проанализируем их."
   ]
  },
  {
   "cell_type": "markdown",
   "metadata": {},
   "source": [
    "## MNIST\n",
    "\n",
    "Датасет содержит черно-белые картинки, на которых изображены цифры. "
   ]
  },
  {
   "cell_type": "code",
   "execution_count": 3,
   "metadata": {},
   "outputs": [
    {
     "name": "stdout",
     "output_type": "stream",
     "text": [
      "dict_keys(['Train'])\n"
     ]
    }
   ],
   "source": [
    "with open('mnist.pkl', 'rb') as mnist_pickle:\n",
    "    MNIST = pickle.load(mnist_pickle)\n",
    "print(MNIST.keys())"
   ]
  },
  {
   "cell_type": "code",
   "execution_count": 4,
   "metadata": {},
   "outputs": [
    {
     "name": "stdout",
     "output_type": "stream",
     "text": [
      "dict_keys(['Labels', 'Features'])\n"
     ]
    }
   ],
   "source": [
    "print(MNIST['Train'].keys())"
   ]
  },
  {
   "cell_type": "code",
   "execution_count": 5,
   "metadata": {},
   "outputs": [
    {
     "name": "stdout",
     "output_type": "stream",
     "text": [
      "Данные для [MNIST]\n",
      "Количество элементов в датасете : 42000\n",
      "Количество атрибутов в элементе : 784\n",
      "Минимальное значение атрибута   : 0\n",
      "Максимальное значение атрибута  : 255\n",
      "\n",
      "Данные для [Обучающая выборка из MNIST]\n",
      "Количество элементов в датасете : 33600\n",
      "Количество атрибутов в элементе : 784\n",
      "Минимальное значение атрибута   : 0.0\n",
      "Максимальное значение атрибута  : 1.0\n",
      "\n",
      "Данные для [Тестировочная выборка из MNIST]\n",
      "Количество элементов в датасете : 8400\n",
      "Количество атрибутов в элементе : 784\n",
      "Минимальное значение атрибута   : 0.0\n",
      "Максимальное значение атрибута  : 1.0\n",
      "\n"
     ]
    },
    {
     "data": {
      "image/png": "[encoded data removed]",
      "text/plain": [
       "<Figure size 432x288 with 1 Axes>"
      ]
     },
     "metadata": {
      "needs_background": "light"
     },
     "output_type": "display_data"
    }
   ],
   "source": [
    "def conv_df(df):\n",
    "    return np.array(df).astype(np.float32)/255\n",
    "\n",
    "analyze(MNIST['Train']['Labels'], MNIST['Train']['Features'], \"MNIST\")\n",
    "\n",
    "features = conv_df(MNIST['Train']['Features']) # переведем данные значения в числа с плавающей точкой от 0 до 1.\n",
    "labels = MNIST['Train']['Labels']\n",
    "\n",
    "mnist_train_x, mnist_test_x, mnist_train_y, mnist_test_y = train_test_split(features,labels,test_size=0.2)\n",
    "\n",
    "analyze(mnist_train_y, mnist_train_x, \"Обучающая выборка из MNIST\")\n",
    "analyze(mnist_test_y, mnist_test_x, \"Тестировочная выборка из MNIST\")"
   ]
  },
  {
   "cell_type": "code",
   "execution_count": 6,
   "metadata": {},
   "outputs": [
    {
     "name": "stdout",
     "output_type": "stream",
     "text": [
      "[[0. 0. 0. ... 0. 0. 0.]\n",
      " [0. 0. 0. ... 0. 0. 0.]\n",
      " [0. 0. 0. ... 0. 0. 0.]\n",
      " ...\n",
      " [0. 0. 0. ... 0. 0. 0.]\n",
      " [0. 0. 0. ... 0. 0. 0.]\n",
      " [0. 0. 0. ... 0. 0. 0.]]\n",
      "[1 0 1 ... 7 6 9]\n"
     ]
    }
   ],
   "source": [
    "print(features)\n",
    "print(labels)"
   ]
  },
  {
   "cell_type": "code",
   "execution_count": 7,
   "metadata": {},
   "outputs": [
    {
     "name": "stdout",
     "output_type": "stream",
     "text": [
      "Размер обучающей выборки : 33600\n",
      "Размер тестовой выборки  : 8400\n",
      "Размер датасета MNIST    : 42000\n"
     ]
    }
   ],
   "source": [
    "print(\"Размер обучающей выборки : {}\".format(len(mnist_train_x)))\n",
    "print(\"Размер тестовой выборки  : {}\".format(len(mnist_test_x)))\n",
    "print(\"Размер датасета MNIST    : {}\".format(len(features)))"
   ]
  },
  {
   "cell_type": "markdown",
   "metadata": {},
   "source": [
    "### FashionMNIST"
   ]
  },
  {
   "cell_type": "code",
   "execution_count": 8,
   "metadata": {},
   "outputs": [
    {
     "name": "stdout",
     "output_type": "stream",
     "text": [
      "d:\\education\\education\\AI\\lab_perceptron-gearwheels\\fashion-mnist\\utils\n",
      "d:\\education\\education\\AI\\lab_perceptron-gearwheels\\fashion-mnist\n",
      "d:\\education\\education\\AI\\lab_perceptron-gearwheels\n"
     ]
    }
   ],
   "source": [
    "%cd fashion-mnist/utils\n",
    "import mnist_reader\n",
    "%cd ..\n",
    "fashion_mnist_train_x_raw, fashion_mnist_train_y = mnist_reader.load_mnist('data/fashion', kind='train')\n",
    "fashion_mnist_test_x_raw, fashion_mnist_test_y = mnist_reader.load_mnist('data/fashion', kind='t10k')\n",
    "%cd .."
   ]
  },
  {
   "cell_type": "code",
   "execution_count": 9,
   "metadata": {},
   "outputs": [
    {
     "name": "stdout",
     "output_type": "stream",
     "text": [
      "Данные для [Обучающая выборка из Fashion MNIST]\n",
      "Количество элементов в датасете : 60000\n",
      "Количество атрибутов в элементе : 784\n",
      "Минимальное значение атрибута   : 0\n",
      "Максимальное значение атрибута  : 255\n",
      "\n",
      "Данные для [Тестировочная выборка из Fashion MNIST]\n",
      "Количество элементов в датасете : 10000\n",
      "Количество атрибутов в элементе : 784\n",
      "Минимальное значение атрибута   : 0\n",
      "Максимальное значение атрибута  : 255\n",
      "\n"
     ]
    },
    {
     "data": {
      "image/png": "[encoded data removed]",
      "text/plain": [
       "<Figure size 432x288 with 1 Axes>"
      ]
     },
     "metadata": {
      "needs_background": "light"
     },
     "output_type": "display_data"
    }
   ],
   "source": [
    "analyze(fashion_mnist_train_y, fashion_mnist_train_x_raw, \"Обучающая выборка из Fashion MNIST\")\n",
    "analyze(fashion_mnist_test_y, fashion_mnist_test_x_raw, \"Тестировочная выборка из Fashion MNIST\")"
   ]
  },
  {
   "cell_type": "markdown",
   "metadata": {},
   "source": [
    "Так как каждое значение картинки имеет значение от 0 до 255, переведем данные значения в числа с плавающей точкой от 0 до 1."
   ]
  },
  {
   "cell_type": "code",
   "execution_count": 10,
   "metadata": {},
   "outputs": [],
   "source": [
    "fashion_mnist_train_x = conv_df(fashion_mnist_train_x_raw)\n",
    "fashion_mnist_test_x  = conv_df(fashion_mnist_test_x_raw)\n"
   ]
  },
  {
   "cell_type": "code",
   "execution_count": null,
   "metadata": {},
   "outputs": [],
   "source": []
  },
  {
   "cell_type": "markdown",
   "metadata": {},
   "source": [
    "## Обучение сети"
   ]
  },
  {
   "cell_type": "markdown",
   "metadata": {},
   "source": [
    "## Слои нейронной сети и класс нейронной сети"
   ]
  },
  {
   "cell_type": "code",
   "execution_count": 11,
   "metadata": {},
   "outputs": [],
   "source": [
    "import math\n",
    "class Linear:\n",
    "    def __init__(self,nin,nout):\n",
    "        self.W = np.random.normal(0, 1.0/np.sqrt(nin), (nout, nin))\n",
    "        self.b = np.zeros((1,nout))\n",
    "        self.dW = np.zeros_like(self.W)\n",
    "        self.db = np.zeros_like(self.b)\n",
    "        \n",
    "    def forward(self, x):\n",
    "        self.x=x\n",
    "        return np.dot(x, self.W.T) + self.b\n",
    "    \n",
    "    def backward(self, dz):\n",
    "        dx = np.dot(dz, self.W)\n",
    "        dW = np.dot(dz.T, self.x)\n",
    "        db = dz.sum(axis=0)\n",
    "        self.dW = dW\n",
    "        self.db = db\n",
    "        return dx\n",
    "    \n",
    "    def update(self,lr):\n",
    "        self.W -= lr*self.dW\n",
    "        self.b -= lr*self.db\n",
    "\n",
    "class Softmax:\n",
    "    def forward(self,z):\n",
    "        self.z = z\n",
    "        zmax = z.max(axis=1,keepdims=True)\n",
    "        expz = np.exp(z-zmax)\n",
    "        Z = expz.sum(axis=1,keepdims=True)\n",
    "        return expz / Z\n",
    "    def backward(self,dp):\n",
    "        p = self.forward(self.z)\n",
    "        pdp = p * dp\n",
    "        return pdp - p * pdp.sum(axis=1, keepdims=True)\n",
    "    \n",
    "class CrossEntropyLoss:\n",
    "    def forward(self,p,y):\n",
    "        self.p = p\n",
    "        self.y = y\n",
    "        p_of_y = p[np.arange(len(y)), y]\n",
    "        log_prob = np.log(p_of_y)\n",
    "        return -log_prob.mean()\n",
    "    def backward(self,loss):\n",
    "        dlog_softmax = np.zeros_like(self.p)\n",
    "        dlog_softmax[np.arange(len(self.y)), self.y] -= 1.0/len(self.y)\n",
    "        return dlog_softmax / self.p\n",
    "\n",
    "class Tanh:\n",
    "    def forward(self,x):\n",
    "        y = np.tanh(x)\n",
    "        self.y = y\n",
    "        return y\n",
    "    def backward(self,dy):\n",
    "        return (1.0-self.y**2)*dy\n",
    "    def copy(self):\n",
    "        return Tanh()\n",
    "\n",
    "class Net:\n",
    "    def __init__(self):\n",
    "        self.layers = []\n",
    "    \n",
    "    def add(self,l):\n",
    "        self.layers.append(l)\n",
    "        \n",
    "    def forward(self,x):\n",
    "        for l in self.layers:\n",
    "            x = l.forward(x)\n",
    "        return x\n",
    "    \n",
    "    def backward(self,z):\n",
    "        for l in self.layers[::-1]:\n",
    "            z = l.backward(z)\n",
    "        return z\n",
    "    \n",
    "    def update(self,lr):\n",
    "        for l in self.layers:\n",
    "            if 'update' in l.__dir__():\n",
    "                l.update(lr)"
   ]
  },
  {
   "cell_type": "markdown",
   "metadata": {},
   "source": [
    "## Класс обучения нейросети \n",
    "\n",
    "Для промежуточного слоя будем использовать передаточную функцию `tanh`\n",
    "\n",
    "Для функции потерь будем использовать `Cross Entropy Loss`\n",
    "\n",
    "\n"
   ]
  },
  {
   "cell_type": "code",
   "execution_count": 12,
   "metadata": {},
   "outputs": [],
   "source": [
    "class Perceptron:\n",
    "    def __init__(self, learning_rate=0.1,epochs=10, soft=Softmax(),act_func=Tanh(),\n",
    "                layers=[5], loss_func=CrossEntropyLoss(),show_status=False):\n",
    "        self.learning_rate=learning_rate\n",
    "        self.epochs=epochs\n",
    "        self.softmax=soft\n",
    "        self.act_func=act_func\n",
    "        self.layers=layers\n",
    "        self.loss_function=loss_func\n",
    "        self.show_status=show_status\n",
    "        self.level=0\n",
    "     \n",
    "    def status_print(self, msg, level=-1):\n",
    "        if level == -1:\n",
    "            level = self.level\n",
    "        print(\"  \"*level + msg)\n",
    "        \n",
    "    def create_net(self, X, Y):\n",
    "        self.net = Net()\n",
    "        #узнаем ширину слоев нейросети\n",
    "        layers_settings = self.layers.copy()\n",
    "        layers_settings.insert(0, len(X[0]))\n",
    "        layers_settings.append(len(np.unique(Y)))\n",
    "        self.classes_count = layers_settings[-1]\n",
    "        if self.show_status:\n",
    "            self.status_print(\"Создание сети :\")\n",
    "            self.level += 1\n",
    "            self.status_print(\"Количество скрытых слоев     : {}\".format(len(layers_settings)-2))\n",
    "            self.status_print(\"Количество входных нейронов  : {}\".format(layers_settings[0]))\n",
    "            self.status_print(\"Koличество выходных нейронов : {}\".format(layers_settings[-1]))\n",
    "            self.status_print(\"Широты скрытых слоев         : {}\".format(self.layers))\n",
    "            self.level -= 1\n",
    "        #конфигурация нейросети слоями\n",
    "        for i in range(len(layers_settings)-2):\n",
    "            self.net.add(Linear(layers_settings[i], layers_settings[i+1]))\n",
    "            self.net.add(self.act_func.copy())\n",
    "        #добавляем выходной слой и softmax\n",
    "        self.net.add(Linear(layers_settings[-2], layers_settings[-1]))\n",
    "        self.net.add(self.softmax)\n",
    "        return self    \n",
    "\n",
    "    # функция обучения персептрона с графиками и результатами на тестовых и тренировочных данных\n",
    "    def fit_and_plot_training_progress(self, X,Y,testX,testY):\n",
    "        #создадим нейросеть\n",
    "        training_accuracy_for_plot = []\n",
    "        validation_accuracy_for_plot = []\n",
    "        self.create_net(X,Y)\n",
    "        #процесс обучения сети\n",
    "        if self.show_status:\n",
    "            self.level = 0\n",
    "            self.status_print(\"Обучение сети:\")\n",
    "            self.level += 1\n",
    "        print(\"|training|\\t\\t\\t\\t\\t\\t\\t|validation|\")\n",
    "        for epoch in range(1, self.epochs + 1):\n",
    "            self.train_epoch(X, Y)\n",
    "            tmp_train_acc = (self.score(X,Y))[1]\n",
    "            tmp_val_acc = (self.score(testX,testY))[1]\n",
    "            training_accuracy_for_plot.append(tmp_train_acc)\n",
    "            validation_accuracy_for_plot.append(tmp_val_acc)\n",
    "\n",
    "            if self.show_status:\n",
    "                #print(\"|training|\\t\\t\\t\\t\\t\\t\\t|validation|\")\n",
    "                self.status_print(\"[epochs {} in {}] loss : {}, accuracy : {}\\t\\t [epochs {} in {}] loss : {}, accuracy : {}\".format(\n",
    "                    epoch, self.epochs, round(self.score(X,Y)[0], 5), round(self.score(X,Y)[1], 5), epoch, self.epochs, round(self.score(testX,testY)[0], 5), round(self.score(testX,testY)[1], 5)))\n",
    "        plt.plot(range(1,self.epochs+1), training_accuracy_for_plot, 'g-')\n",
    "        plt.plot(range(1,self.epochs+1), validation_accuracy_for_plot, 'h--')\n",
    "        plt.legend(['Training accuracy', 'Validation accuracy'], loc='lower center', ncol = 2)\n",
    "        plt.xlim([0,self.epochs])\n",
    "        plt.ylim([0,1])\n",
    "        plt.show()\n",
    "        return self\n",
    "\n",
    "    def train_epoch(self, train_x, train_y, batch_size=4):\n",
    "        net = self.net\n",
    "        loss = self.loss_function\n",
    "        lr = self.learning_rate\n",
    "        for i in range(0,len(train_x),batch_size):\n",
    "            xb = train_x[i:i+batch_size]\n",
    "            yb = train_y[i:i+batch_size]\n",
    "\n",
    "            p = net.forward(xb)\n",
    "            l = loss.forward(p,yb)\n",
    "            dp = loss.backward(l)\n",
    "            dx = net.backward(dp)\n",
    "            net.update(lr)  \n",
    "\n",
    "    #вычисление вроятнсотей принадлжения каждому возможному классу\n",
    "    def predict_prob(self, X):\n",
    "        return self.net.forward(X)\n",
    "    \n",
    "    #выдаем наиболее вероятный класс (его номер)\n",
    "    def predict(self, X):\n",
    "        return np.argmax(self.predict_prob(X))\n",
    "    \n",
    "    def score(self, X,Y, calculate_confusion_matrix=False):\n",
    "        p = self.net.forward(X)\n",
    "        l = self.loss_function.forward(p,Y)\n",
    "        pred = np.argmax(p,axis=1)\n",
    "        acc = (pred==Y).mean()\n",
    "        confusion_matrix=[]\n",
    "        if calculate_confusion_matrix:\n",
    "            confusion_matrix = np.zeros((self.classes_count, self.classes_count), dtype=np.int32)\n",
    "            for prd, act in zip (pred, Y):\n",
    "                confusion_matrix[prd][act] += 1\n",
    "        return l,acc, confusion_matrix"
   ]
  },
  {
   "cell_type": "markdown",
   "metadata": {},
   "source": [
    "### Тестирование на датасете Mnist\n",
    "#### Однослойный перcептрон"
   ]
  },
  {
   "cell_type": "code",
   "execution_count": 13,
   "metadata": {},
   "outputs": [
    {
     "name": "stdout",
     "output_type": "stream",
     "text": [
      "Создание сети :\n",
      "  Количество скрытых слоев     : 0\n",
      "  Количество входных нейронов  : 784\n",
      "  Koличество выходных нейронов : 10\n",
      "  Широты скрытых слоев         : []\n",
      "Обучение сети:\n",
      "|training|\t\t\t\t\t\t\t|validation|\n",
      "  [epochs 1 in 10] loss : 0.31292, accuracy : 0.90938\t\t [epochs 1 in 10] loss : 0.34633, accuracy : 0.90726\n",
      "  [epochs 2 in 10] loss : 0.2968, accuracy : 0.91455\t\t [epochs 2 in 10] loss : 0.34345, accuracy : 0.90833\n",
      "  [epochs 3 in 10] loss : 0.28907, accuracy : 0.91756\t\t [epochs 3 in 10] loss : 0.34483, accuracy : 0.90988\n",
      "  [epochs 4 in 10] loss : 0.28429, accuracy : 0.91952\t\t [epochs 4 in 10] loss : 0.34724, accuracy : 0.91107\n",
      "  [epochs 5 in 10] loss : 0.28096, accuracy : 0.92042\t\t [epochs 5 in 10] loss : 0.34989, accuracy : 0.9125\n",
      "  [epochs 6 in 10] loss : 0.27843, accuracy : 0.92104\t\t [epochs 6 in 10] loss : 0.35253, accuracy : 0.9125\n",
      "  [epochs 7 in 10] loss : 0.27642, accuracy : 0.92164\t\t [epochs 7 in 10] loss : 0.35509, accuracy : 0.9119\n",
      "  [epochs 8 in 10] loss : 0.27474, accuracy : 0.92214\t\t [epochs 8 in 10] loss : 0.35754, accuracy : 0.91143\n",
      "  [epochs 9 in 10] loss : 0.27332, accuracy : 0.92208\t\t [epochs 9 in 10] loss : 0.35989, accuracy : 0.91024\n",
      "  [epochs 10 in 10] loss : 0.27208, accuracy : 0.92253\t\t [epochs 10 in 10] loss : 0.36214, accuracy : 0.91\n"
     ]
    },
    {
     "data": {
      "image/png": "[encoded data removed]",
      "text/plain": [
       "<Figure size 432x288 with 1 Axes>"
      ]
     },
     "metadata": {
      "needs_background": "light"
     },
     "output_type": "display_data"
    }
   ],
   "source": [
    "one_layered_perceptron = Perceptron(show_status=True, layers=[]).fit_and_plot_training_progress(mnist_train_x, mnist_train_y, mnist_test_x, mnist_test_y)"
   ]
  },
  {
   "cell_type": "markdown",
   "metadata": {},
   "source": [
    "#### Двуслойный перcептрон"
   ]
  },
  {
   "cell_type": "code",
   "execution_count": 14,
   "metadata": {},
   "outputs": [
    {
     "name": "stdout",
     "output_type": "stream",
     "text": [
      "Создание сети :\n",
      "  Количество скрытых слоев     : 1\n",
      "  Количество входных нейронов  : 784\n",
      "  Koличество выходных нейронов : 10\n",
      "  Широты скрытых слоев         : [5]\n",
      "Обучение сети:\n",
      "|training|\t\t\t\t\t\t\t|validation|\n",
      "  [epochs 1 in 10] loss : 0.55676, accuracy : 0.84265\t\t [epochs 1 in 10] loss : 0.5714, accuracy : 0.83869\n",
      "  [epochs 2 in 10] loss : 0.54515, accuracy : 0.83765\t\t [epochs 2 in 10] loss : 0.57043, accuracy : 0.83762\n",
      "  [epochs 3 in 10] loss : 0.53354, accuracy : 0.8542\t\t [epochs 3 in 10] loss : 0.56849, accuracy : 0.85107\n",
      "  [epochs 4 in 10] loss : 0.50332, accuracy : 0.85589\t\t [epochs 4 in 10] loss : 0.54126, accuracy : 0.8525\n",
      "  [epochs 5 in 10] loss : 0.49214, accuracy : 0.86461\t\t [epochs 5 in 10] loss : 0.53251, accuracy : 0.85726\n",
      "  [epochs 6 in 10] loss : 0.52245, accuracy : 0.84488\t\t [epochs 6 in 10] loss : 0.56641, accuracy : 0.84095\n",
      "  [epochs 7 in 10] loss : 0.49136, accuracy : 0.86476\t\t [epochs 7 in 10] loss : 0.54019, accuracy : 0.85381\n",
      "  [epochs 8 in 10] loss : 0.48529, accuracy : 0.8631\t\t [epochs 8 in 10] loss : 0.5356, accuracy : 0.85524\n",
      "  [epochs 9 in 10] loss : 0.47564, accuracy : 0.86789\t\t [epochs 9 in 10] loss : 0.53727, accuracy : 0.8575\n",
      "  [epochs 10 in 10] loss : 0.49175, accuracy : 0.86771\t\t [epochs 10 in 10] loss : 0.54908, accuracy : 0.85774\n"
     ]
    },
    {
     "data": {
      "image/png": "[encoded data removed]",
      "text/plain": [
       "<Figure size 432x288 with 1 Axes>"
      ]
     },
     "metadata": {
      "needs_background": "light"
     },
     "output_type": "display_data"
    }
   ],
   "source": [
    "first_double_layered_perceptron = Perceptron(show_status=True).fit_and_plot_training_progress(mnist_train_x, mnist_train_y, mnist_test_x, mnist_test_y)"
   ]
  },
  {
   "cell_type": "code",
   "execution_count": 15,
   "metadata": {},
   "outputs": [
    {
     "name": "stdout",
     "output_type": "stream",
     "text": [
      "Создание сети :\n",
      "  Количество скрытых слоев     : 1\n",
      "  Количество входных нейронов  : 784\n",
      "  Koличество выходных нейронов : 10\n",
      "  Широты скрытых слоев         : [25]\n",
      "Обучение сети:\n",
      "|training|\t\t\t\t\t\t\t|validation|\n",
      "  [epochs 1 in 10] loss : 0.22673, accuracy : 0.93268\t\t [epochs 1 in 10] loss : 0.25739, accuracy : 0.92595\n",
      "  [epochs 2 in 10] loss : 0.17961, accuracy : 0.94568\t\t [epochs 2 in 10] loss : 0.22379, accuracy : 0.93464\n",
      "  [epochs 3 in 10] loss : 0.16419, accuracy : 0.94967\t\t [epochs 3 in 10] loss : 0.22329, accuracy : 0.93536\n",
      "  [epochs 4 in 10] loss : 0.14097, accuracy : 0.95753\t\t [epochs 4 in 10] loss : 0.20862, accuracy : 0.94286\n",
      "  [epochs 5 in 10] loss : 0.13217, accuracy : 0.9603\t\t [epochs 5 in 10] loss : 0.20779, accuracy : 0.94488\n",
      "  [epochs 6 in 10] loss : 0.13932, accuracy : 0.95673\t\t [epochs 6 in 10] loss : 0.22723, accuracy : 0.93917\n",
      "  [epochs 7 in 10] loss : 0.12088, accuracy : 0.96208\t\t [epochs 7 in 10] loss : 0.22046, accuracy : 0.94\n",
      "  [epochs 8 in 10] loss : 0.15851, accuracy : 0.94994\t\t [epochs 8 in 10] loss : 0.24908, accuracy : 0.93\n",
      "  [epochs 9 in 10] loss : 0.10493, accuracy : 0.96815\t\t [epochs 9 in 10] loss : 0.21185, accuracy : 0.94464\n",
      "  [epochs 10 in 10] loss : 0.1022, accuracy : 0.9678\t\t [epochs 10 in 10] loss : 0.2076, accuracy : 0.94345\n"
     ]
    },
    {
     "data": {
      "image/png": "[encoded data removed]",
      "text/plain": [
       "<Figure size 432x288 with 1 Axes>"
      ]
     },
     "metadata": {
      "needs_background": "light"
     },
     "output_type": "display_data"
    }
   ],
   "source": [
    "third_double_layered_perceptron = Perceptron(show_status=True, layers=[25]).fit_and_plot_training_progress(mnist_train_x, mnist_train_y, mnist_test_x, mnist_test_y)"
   ]
  },
  {
   "cell_type": "code",
   "execution_count": 16,
   "metadata": {},
   "outputs": [
    {
     "name": "stdout",
     "output_type": "stream",
     "text": [
      "Создание сети :\n",
      "  Количество скрытых слоев     : 1\n",
      "  Количество входных нейронов  : 784\n",
      "  Koличество выходных нейронов : 10\n",
      "  Широты скрытых слоев         : [100]\n",
      "Обучение сети:\n",
      "|training|\t\t\t\t\t\t\t|validation|\n",
      "  [epochs 1 in 10] loss : 0.15385, accuracy : 0.95467\t\t [epochs 1 in 10] loss : 0.19445, accuracy : 0.94655\n",
      "  [epochs 2 in 10] loss : 0.11247, accuracy : 0.96446\t\t [epochs 2 in 10] loss : 0.163, accuracy : 0.95381\n",
      "  [epochs 3 in 10] loss : 0.08711, accuracy : 0.97244\t\t [epochs 3 in 10] loss : 0.15947, accuracy : 0.95631\n",
      "  [epochs 4 in 10] loss : 0.10165, accuracy : 0.96777\t\t [epochs 4 in 10] loss : 0.1947, accuracy : 0.95036\n",
      "  [epochs 5 in 10] loss : 0.05358, accuracy : 0.98179\t\t [epochs 5 in 10] loss : 0.1569, accuracy : 0.96\n",
      "  [epochs 6 in 10] loss : 0.05297, accuracy : 0.98173\t\t [epochs 6 in 10] loss : 0.16015, accuracy : 0.96143\n",
      "  [epochs 7 in 10] loss : 0.04934, accuracy : 0.98289\t\t [epochs 7 in 10] loss : 0.16883, accuracy : 0.96167\n",
      "  [epochs 8 in 10] loss : 0.04376, accuracy : 0.98476\t\t [epochs 8 in 10] loss : 0.16787, accuracy : 0.95845\n",
      "  [epochs 9 in 10] loss : 0.02423, accuracy : 0.99182\t\t [epochs 9 in 10] loss : 0.15806, accuracy : 0.96405\n",
      "  [epochs 10 in 10] loss : 0.0216, accuracy : 0.99211\t\t [epochs 10 in 10] loss : 0.15453, accuracy : 0.96631\n"
     ]
    },
    {
     "data": {
      "image/png": "[encoded data removed]",
      "text/plain": [
       "<Figure size 432x288 with 1 Axes>"
      ]
     },
     "metadata": {
      "needs_background": "light"
     },
     "output_type": "display_data"
    }
   ],
   "source": [
    "fourth_double_layered_perceptron = Perceptron(show_status=True, layers=[100]).fit_and_plot_training_progress(mnist_train_x, mnist_train_y, mnist_test_x, mnist_test_y)"
   ]
  },
  {
   "cell_type": "markdown",
   "metadata": {},
   "source": [
    "#### Трехслойный перcептрон"
   ]
  },
  {
   "cell_type": "code",
   "execution_count": 17,
   "metadata": {},
   "outputs": [
    {
     "name": "stdout",
     "output_type": "stream",
     "text": [
      "Создание сети :\n",
      "  Количество скрытых слоев     : 2\n",
      "  Количество входных нейронов  : 784\n",
      "  Koличество выходных нейронов : 10\n",
      "  Широты скрытых слоев         : [5, 15]\n",
      "Обучение сети:\n",
      "|training|\t\t\t\t\t\t\t|validation|\n",
      "  [epochs 1 in 10] loss : 0.67998, accuracy : 0.79679\t\t [epochs 1 in 10] loss : 0.67895, accuracy : 0.79726\n",
      "  [epochs 2 in 10] loss : 0.58714, accuracy : 0.8294\t\t [epochs 2 in 10] loss : 0.59867, accuracy : 0.82548\n",
      "  [epochs 3 in 10] loss : 0.56376, accuracy : 0.83795\t\t [epochs 3 in 10] loss : 0.57889, accuracy : 0.83679\n",
      "  [epochs 4 in 10] loss : 0.58627, accuracy : 0.8386\t\t [epochs 4 in 10] loss : 0.61028, accuracy : 0.83548\n",
      "  [epochs 5 in 10] loss : 0.55582, accuracy : 0.84396\t\t [epochs 5 in 10] loss : 0.5872, accuracy : 0.83548\n",
      "  [epochs 6 in 10] loss : 0.61541, accuracy : 0.83604\t\t [epochs 6 in 10] loss : 0.65006, accuracy : 0.82524\n",
      "  [epochs 7 in 10] loss : 0.54591, accuracy : 0.84768\t\t [epochs 7 in 10] loss : 0.56888, accuracy : 0.84405\n",
      "  [epochs 8 in 10] loss : 0.55507, accuracy : 0.84196\t\t [epochs 8 in 10] loss : 0.58028, accuracy : 0.84\n",
      "  [epochs 9 in 10] loss : 0.55726, accuracy : 0.85179\t\t [epochs 9 in 10] loss : 0.58345, accuracy : 0.84893\n",
      "  [epochs 10 in 10] loss : 0.52618, accuracy : 0.85134\t\t [epochs 10 in 10] loss : 0.5566, accuracy : 0.84679\n"
     ]
    },
    {
     "data": {
      "image/png": "[encoded data removed]",
      "text/plain": [
       "<Figure size 432x288 with 1 Axes>"
      ]
     },
     "metadata": {
      "needs_background": "light"
     },
     "output_type": "display_data"
    }
   ],
   "source": [
    "first_triple_layered_perceptron = Perceptron(show_status=True, layers=[5,15]).fit_and_plot_training_progress(mnist_train_x, mnist_train_y, mnist_test_x, mnist_test_y)"
   ]
  },
  {
   "cell_type": "code",
   "execution_count": 18,
   "metadata": {},
   "outputs": [
    {
     "name": "stdout",
     "output_type": "stream",
     "text": [
      "Создание сети :\n",
      "  Количество скрытых слоев     : 2\n",
      "  Количество входных нейронов  : 784\n",
      "  Koличество выходных нейронов : 10\n",
      "  Широты скрытых слоев         : [15, 10]\n",
      "Обучение сети:\n",
      "|training|\t\t\t\t\t\t\t|validation|\n",
      "  [epochs 1 in 10] loss : 0.33617, accuracy : 0.90625\t\t [epochs 1 in 10] loss : 0.35363, accuracy : 0.90274\n",
      "  [epochs 2 in 10] loss : 0.32144, accuracy : 0.90884\t\t [epochs 2 in 10] loss : 0.34665, accuracy : 0.90476\n",
      "  [epochs 3 in 10] loss : 0.28982, accuracy : 0.91818\t\t [epochs 3 in 10] loss : 0.32358, accuracy : 0.91179\n",
      "  [epochs 4 in 10] loss : 0.2715, accuracy : 0.9214\t\t [epochs 4 in 10] loss : 0.31396, accuracy : 0.9125\n",
      "  [epochs 5 in 10] loss : 0.2746, accuracy : 0.92396\t\t [epochs 5 in 10] loss : 0.31387, accuracy : 0.91381\n",
      "  [epochs 6 in 10] loss : 0.256, accuracy : 0.9256\t\t [epochs 6 in 10] loss : 0.30081, accuracy : 0.91655\n",
      "  [epochs 7 in 10] loss : 0.26182, accuracy : 0.92631\t\t [epochs 7 in 10] loss : 0.30384, accuracy : 0.91857\n",
      "  [epochs 8 in 10] loss : 0.25213, accuracy : 0.92914\t\t [epochs 8 in 10] loss : 0.30486, accuracy : 0.91845\n",
      "  [epochs 9 in 10] loss : 0.29487, accuracy : 0.91759\t\t [epochs 9 in 10] loss : 0.33705, accuracy : 0.9106\n",
      "  [epochs 10 in 10] loss : 0.24304, accuracy : 0.93161\t\t [epochs 10 in 10] loss : 0.29063, accuracy : 0.92143\n"
     ]
    },
    {
     "data": {
      "image/png": "[encoded data removed]",
      "text/plain": [
       "<Figure size 432x288 with 1 Axes>"
      ]
     },
     "metadata": {
      "needs_background": "light"
     },
     "output_type": "display_data"
    }
   ],
   "source": [
    "third_triple_layered_perceptron = Perceptron(show_status=True, layers=[15,10]).fit_and_plot_training_progress(mnist_train_x, mnist_train_y, mnist_test_x, mnist_test_y)"
   ]
  },
  {
   "cell_type": "markdown",
   "metadata": {},
   "source": [
    "### Тестирование на датасете FashionMnist\n",
    "#### Однослойный перcептрон"
   ]
  },
  {
   "cell_type": "code",
   "execution_count": 19,
   "metadata": {},
   "outputs": [
    {
     "name": "stdout",
     "output_type": "stream",
     "text": [
      "Создание сети :\n",
      "  Количество скрытых слоев     : 0\n",
      "  Количество входных нейронов  : 784\n",
      "  Koличество выходных нейронов : 10\n",
      "  Широты скрытых слоев         : []\n",
      "Обучение сети:\n",
      "|training|\t\t\t\t\t\t\t|validation|\n",
      "  [epochs 1 in 10] loss : 0.93704, accuracy : 0.79333\t\t [epochs 1 in 10] loss : 1.06076, accuracy : 0.7735\n",
      "  [epochs 2 in 10] loss : 0.91264, accuracy : 0.80503\t\t [epochs 2 in 10] loss : 1.05009, accuracy : 0.7866\n",
      "  [epochs 3 in 10] loss : 0.8731, accuracy : 0.81222\t\t [epochs 3 in 10] loss : 1.0226, accuracy : 0.7945\n",
      "  [epochs 4 in 10] loss : 0.88366, accuracy : 0.81277\t\t [epochs 4 in 10] loss : 1.04423, accuracy : 0.7939\n",
      "  [epochs 5 in 10] loss : 0.86853, accuracy : 0.815\t\t [epochs 5 in 10] loss : 1.03646, accuracy : 0.7958\n",
      "  [epochs 6 in 10] loss : 0.81245, accuracy : 0.82255\t\t [epochs 6 in 10] loss : 0.98677, accuracy : 0.8016\n",
      "  [epochs 7 in 10] loss : 0.78998, accuracy : 0.82595\t\t [epochs 7 in 10] loss : 0.97117, accuracy : 0.8036\n",
      "  [epochs 8 in 10] loss : 0.75897, accuracy : 0.83135\t\t [epochs 8 in 10] loss : 0.94595, accuracy : 0.8072\n",
      "  [epochs 9 in 10] loss : 0.7253, accuracy : 0.83703\t\t [epochs 9 in 10] loss : 0.91876, accuracy : 0.8113\n",
      "  [epochs 10 in 10] loss : 0.74278, accuracy : 0.83505\t\t [epochs 10 in 10] loss : 0.94054, accuracy : 0.8082\n"
     ]
    },
    {
     "data": {
      "image/png": "[encoded data removed]",
      "text/plain": [
       "<Figure size 432x288 with 1 Axes>"
      ]
     },
     "metadata": {
      "needs_background": "light"
     },
     "output_type": "display_data"
    }
   ],
   "source": [
    "fmnist_null_perceptron = Perceptron(show_status=True, layers=[]).fit_and_plot_training_progress(fashion_mnist_train_x, fashion_mnist_train_y, fashion_mnist_test_x,fashion_mnist_test_y)"
   ]
  },
  {
   "cell_type": "markdown",
   "metadata": {},
   "source": [
    "#### Двуслойный перcептрон"
   ]
  },
  {
   "cell_type": "code",
   "execution_count": 20,
   "metadata": {},
   "outputs": [
    {
     "name": "stdout",
     "output_type": "stream",
     "text": [
      "Создание сети :\n",
      "  Количество скрытых слоев     : 1\n",
      "  Количество входных нейронов  : 784\n",
      "  Koличество выходных нейронов : 10\n",
      "  Широты скрытых слоев         : [100]\n",
      "Обучение сети:\n",
      "|training|\t\t\t\t\t\t\t|validation|\n",
      "  [epochs 1 in 20] loss : 0.60132, accuracy : 0.80218\t\t [epochs 1 in 20] loss : 0.62128, accuracy : 0.7888\n",
      "  [epochs 2 in 20] loss : 0.50957, accuracy : 0.8269\t\t [epochs 2 in 20] loss : 0.53418, accuracy : 0.8154\n",
      "  [epochs 3 in 20] loss : 0.46978, accuracy : 0.83775\t\t [epochs 3 in 20] loss : 0.49764, accuracy : 0.8242\n",
      "  [epochs 4 in 20] loss : 0.44578, accuracy : 0.84477\t\t [epochs 4 in 20] loss : 0.47613, accuracy : 0.8305\n",
      "  [epochs 5 in 20] loss : 0.42879, accuracy : 0.8492\t\t [epochs 5 in 20] loss : 0.46117, accuracy : 0.8361\n",
      "  [epochs 6 in 20] loss : 0.41568, accuracy : 0.8534\t\t [epochs 6 in 20] loss : 0.44979, accuracy : 0.8387\n",
      "  [epochs 7 in 20] loss : 0.405, accuracy : 0.85707\t\t [epochs 7 in 20] loss : 0.44066, accuracy : 0.8418\n",
      "  [epochs 8 in 20] loss : 0.396, accuracy : 0.85952\t\t [epochs 8 in 20] loss : 0.43307, accuracy : 0.8439\n",
      "  [epochs 9 in 20] loss : 0.3882, accuracy : 0.8617\t\t [epochs 9 in 20] loss : 0.42659, accuracy : 0.8467\n",
      "  [epochs 10 in 20] loss : 0.38131, accuracy : 0.86442\t\t [epochs 10 in 20] loss : 0.42097, accuracy : 0.8484\n",
      "  [epochs 11 in 20] loss : 0.37513, accuracy : 0.8663\t\t [epochs 11 in 20] loss : 0.41604, accuracy : 0.8494\n",
      "  [epochs 12 in 20] loss : 0.36953, accuracy : 0.86838\t\t [epochs 12 in 20] loss : 0.41165, accuracy : 0.8513\n",
      "  [epochs 13 in 20] loss : 0.36441, accuracy : 0.86998\t\t [epochs 13 in 20] loss : 0.40772, accuracy : 0.8535\n",
      "  [epochs 14 in 20] loss : 0.35967, accuracy : 0.87142\t\t [epochs 14 in 20] loss : 0.40415, accuracy : 0.8542\n",
      "  [epochs 15 in 20] loss : 0.35526, accuracy : 0.87295\t\t [epochs 15 in 20] loss : 0.40088, accuracy : 0.8568\n",
      "  [epochs 16 in 20] loss : 0.35114, accuracy : 0.87447\t\t [epochs 16 in 20] loss : 0.39787, accuracy : 0.8578\n",
      "  [epochs 17 in 20] loss : 0.34726, accuracy : 0.87562\t\t [epochs 17 in 20] loss : 0.39508, accuracy : 0.8592\n",
      "  [epochs 18 in 20] loss : 0.3436, accuracy : 0.87707\t\t [epochs 18 in 20] loss : 0.39248, accuracy : 0.8605\n",
      "  [epochs 19 in 20] loss : 0.34012, accuracy : 0.87812\t\t [epochs 19 in 20] loss : 0.39003, accuracy : 0.8621\n",
      "  [epochs 20 in 20] loss : 0.33682, accuracy : 0.8792\t\t [epochs 20 in 20] loss : 0.38774, accuracy : 0.8621\n"
     ]
    },
    {
     "data": {
      "image/png": "[encoded data removed]",
      "text/plain": [
       "<Figure size 432x288 with 1 Axes>"
      ]
     },
     "metadata": {
      "needs_background": "light"
     },
     "output_type": "display_data"
    },
    {
     "data": {
      "text/plain": [
       "<__main__.Perceptron at 0x22336c86bb0>"
      ]
     },
     "execution_count": 20,
     "metadata": {},
     "output_type": "execute_result"
    }
   ],
   "source": [
    "fmnist_second_perceptron = Perceptron(show_status=True, layers=[100], learning_rate=0.001, epochs=20)\n",
    "fmnist_second_perceptron.fit_and_plot_training_progress(fashion_mnist_train_x, fashion_mnist_train_y, fashion_mnist_test_x,fashion_mnist_test_y)"
   ]
  },
  {
   "cell_type": "code",
   "execution_count": 21,
   "metadata": {},
   "outputs": [
    {
     "name": "stdout",
     "output_type": "stream",
     "text": [
      "Создание сети :\n",
      "  Количество скрытых слоев     : 1\n",
      "  Количество входных нейронов  : 784\n",
      "  Koличество выходных нейронов : 10\n",
      "  Широты скрытых слоев         : [13]\n",
      "Обучение сети:\n",
      "|training|\t\t\t\t\t\t\t|validation|\n",
      "  [epochs 1 in 10] loss : 0.43637, accuracy : 0.84683\t\t [epochs 1 in 10] loss : 0.47203, accuracy : 0.8332\n",
      "  [epochs 2 in 10] loss : 0.40422, accuracy : 0.85787\t\t [epochs 2 in 10] loss : 0.44424, accuracy : 0.8441\n",
      "  [epochs 3 in 10] loss : 0.38625, accuracy : 0.8646\t\t [epochs 3 in 10] loss : 0.43024, accuracy : 0.8516\n",
      "  [epochs 4 in 10] loss : 0.3748, accuracy : 0.86807\t\t [epochs 4 in 10] loss : 0.42345, accuracy : 0.8545\n",
      "  [epochs 5 in 10] loss : 0.36684, accuracy : 0.87082\t\t [epochs 5 in 10] loss : 0.41955, accuracy : 0.8544\n",
      "  [epochs 6 in 10] loss : 0.36117, accuracy : 0.8732\t\t [epochs 6 in 10] loss : 0.41772, accuracy : 0.8555\n",
      "  [epochs 7 in 10] loss : 0.35708, accuracy : 0.87443\t\t [epochs 7 in 10] loss : 0.4171, accuracy : 0.855\n",
      "  [epochs 8 in 10] loss : 0.35452, accuracy : 0.87497\t\t [epochs 8 in 10] loss : 0.41769, accuracy : 0.8549\n",
      "  [epochs 9 in 10] loss : 0.35304, accuracy : 0.87517\t\t [epochs 9 in 10] loss : 0.41911, accuracy : 0.8556\n",
      "  [epochs 10 in 10] loss : 0.35163, accuracy : 0.87602\t\t [epochs 10 in 10] loss : 0.42031, accuracy : 0.8553\n"
     ]
    },
    {
     "data": {
      "image/png": "[encoded data removed]",
      "text/plain": [
       "<Figure size 432x288 with 1 Axes>"
      ]
     },
     "metadata": {
      "needs_background": "light"
     },
     "output_type": "display_data"
    }
   ],
   "source": [
    "fmnist_first_perceptron = Perceptron(show_status=True, layers=[13], learning_rate=0.01).fit_and_plot_training_progress(fashion_mnist_train_x, fashion_mnist_train_y, fashion_mnist_test_x,fashion_mnist_test_y)"
   ]
  },
  {
   "cell_type": "markdown",
   "metadata": {},
   "source": [
    "#### Трехслойный перcептрон"
   ]
  },
  {
   "cell_type": "code",
   "execution_count": 22,
   "metadata": {},
   "outputs": [
    {
     "name": "stdout",
     "output_type": "stream",
     "text": [
      "Создание сети :\n",
      "  Количество скрытых слоев     : 2\n",
      "  Количество входных нейронов  : 784\n",
      "  Koличество выходных нейронов : 10\n",
      "  Широты скрытых слоев         : [10, 15]\n",
      "Обучение сети:\n",
      "|training|\t\t\t\t\t\t\t|validation|\n",
      "  [epochs 1 in 20] loss : 0.72652, accuracy : 0.7701\t\t [epochs 1 in 20] loss : 0.74179, accuracy : 0.7622\n",
      "  [epochs 2 in 20] loss : 0.56917, accuracy : 0.81053\t\t [epochs 2 in 20] loss : 0.59069, accuracy : 0.8012\n",
      "  [epochs 3 in 20] loss : 0.50747, accuracy : 0.8269\t\t [epochs 3 in 20] loss : 0.5348, accuracy : 0.8133\n",
      "  [epochs 4 in 20] loss : 0.4744, accuracy : 0.83598\t\t [epochs 4 in 20] loss : 0.50602, accuracy : 0.8225\n",
      "  [epochs 5 in 20] loss : 0.45307, accuracy : 0.84197\t\t [epochs 5 in 20] loss : 0.4878, accuracy : 0.8278\n",
      "  [epochs 6 in 20] loss : 0.43793, accuracy : 0.84648\t\t [epochs 6 in 20] loss : 0.47511, accuracy : 0.8318\n",
      "  [epochs 7 in 20] loss : 0.4264, accuracy : 0.84952\t\t [epochs 7 in 20] loss : 0.46562, accuracy : 0.8335\n",
      "  [epochs 8 in 20] loss : 0.41718, accuracy : 0.85225\t\t [epochs 8 in 20] loss : 0.45816, accuracy : 0.8359\n",
      "  [epochs 9 in 20] loss : 0.40954, accuracy : 0.85482\t\t [epochs 9 in 20] loss : 0.45207, accuracy : 0.8388\n",
      "  [epochs 10 in 20] loss : 0.40301, accuracy : 0.85707\t\t [epochs 10 in 20] loss : 0.44696, accuracy : 0.8413\n",
      "  [epochs 11 in 20] loss : 0.39733, accuracy : 0.85882\t\t [epochs 11 in 20] loss : 0.44259, accuracy : 0.8428\n",
      "  [epochs 12 in 20] loss : 0.39229, accuracy : 0.86013\t\t [epochs 12 in 20] loss : 0.43881, accuracy : 0.8441\n",
      "  [epochs 13 in 20] loss : 0.38776, accuracy : 0.86195\t\t [epochs 13 in 20] loss : 0.43552, accuracy : 0.844\n",
      "  [epochs 14 in 20] loss : 0.38367, accuracy : 0.86347\t\t [epochs 14 in 20] loss : 0.43264, accuracy : 0.8457\n",
      "  [epochs 15 in 20] loss : 0.37994, accuracy : 0.86488\t\t [epochs 15 in 20] loss : 0.43012, accuracy : 0.8466\n",
      "  [epochs 16 in 20] loss : 0.37653, accuracy : 0.86607\t\t [epochs 16 in 20] loss : 0.42792, accuracy : 0.8481\n",
      "  [epochs 17 in 20] loss : 0.37341, accuracy : 0.86678\t\t [epochs 17 in 20] loss : 0.42599, accuracy : 0.8483\n",
      "  [epochs 18 in 20] loss : 0.37054, accuracy : 0.86775\t\t [epochs 18 in 20] loss : 0.4243, accuracy : 0.8495\n",
      "  [epochs 19 in 20] loss : 0.36788, accuracy : 0.86858\t\t [epochs 19 in 20] loss : 0.42282, accuracy : 0.8493\n",
      "  [epochs 20 in 20] loss : 0.3654, accuracy : 0.86968\t\t [epochs 20 in 20] loss : 0.42149, accuracy : 0.8495\n"
     ]
    },
    {
     "data": {
      "image/png": "[encoded data removed]",
      "text/plain": [
       "<Figure size 432x288 with 1 Axes>"
      ]
     },
     "metadata": {
      "needs_background": "light"
     },
     "output_type": "display_data"
    },
    {
     "data": {
      "text/plain": [
       "<__main__.Perceptron at 0x22336cb4400>"
      ]
     },
     "execution_count": 22,
     "metadata": {},
     "output_type": "execute_result"
    }
   ],
   "source": [
    "fmnist_second_perceptron = Perceptron(show_status=True, layers=[10,15], learning_rate=0.001, epochs=20)\n",
    "fmnist_second_perceptron.fit_and_plot_training_progress(fashion_mnist_train_x, fashion_mnist_train_y, fashion_mnist_test_x,fashion_mnist_test_y)"
   ]
  },
  {
   "cell_type": "code",
   "execution_count": 23,
   "metadata": {},
   "outputs": [
    {
     "name": "stdout",
     "output_type": "stream",
     "text": [
      "Создание сети :\n",
      "  Количество скрытых слоев     : 2\n",
      "  Количество входных нейронов  : 784\n",
      "  Koличество выходных нейронов : 10\n",
      "  Широты скрытых слоев         : [10, 15]\n",
      "Обучение сети:\n",
      "|training|\t\t\t\t\t\t\t|validation|\n",
      "  [epochs 1 in 20] loss : 0.46494, accuracy : 0.83563\t\t [epochs 1 in 20] loss : 0.50107, accuracy : 0.82\n",
      "  [epochs 2 in 20] loss : 0.41731, accuracy : 0.85192\t\t [epochs 2 in 20] loss : 0.46019, accuracy : 0.8356\n",
      "  [epochs 3 in 20] loss : 0.39582, accuracy : 0.85905\t\t [epochs 3 in 20] loss : 0.44465, accuracy : 0.8408\n",
      "  [epochs 4 in 20] loss : 0.38461, accuracy : 0.86238\t\t [epochs 4 in 20] loss : 0.44044, accuracy : 0.8413\n",
      "  [epochs 5 in 20] loss : 0.37703, accuracy : 0.86532\t\t [epochs 5 in 20] loss : 0.43723, accuracy : 0.845\n",
      "  [epochs 6 in 20] loss : 0.36891, accuracy : 0.8685\t\t [epochs 6 in 20] loss : 0.43304, accuracy : 0.8486\n",
      "  [epochs 7 in 20] loss : 0.36614, accuracy : 0.87012\t\t [epochs 7 in 20] loss : 0.43209, accuracy : 0.8497\n",
      "  [epochs 8 in 20] loss : 0.36541, accuracy : 0.87028\t\t [epochs 8 in 20] loss : 0.43404, accuracy : 0.8499\n",
      "  [epochs 9 in 20] loss : 0.3666, accuracy : 0.86897\t\t [epochs 9 in 20] loss : 0.43831, accuracy : 0.8491\n",
      "  [epochs 10 in 20] loss : 0.37036, accuracy : 0.86717\t\t [epochs 10 in 20] loss : 0.44472, accuracy : 0.8469\n",
      "  [epochs 11 in 20] loss : 0.37388, accuracy : 0.8662\t\t [epochs 11 in 20] loss : 0.45015, accuracy : 0.8457\n",
      "  [epochs 12 in 20] loss : 0.37129, accuracy : 0.8667\t\t [epochs 12 in 20] loss : 0.45002, accuracy : 0.8457\n",
      "  [epochs 13 in 20] loss : 0.37008, accuracy : 0.86715\t\t [epochs 13 in 20] loss : 0.45218, accuracy : 0.8457\n",
      "  [epochs 14 in 20] loss : 0.3672, accuracy : 0.86787\t\t [epochs 14 in 20] loss : 0.45245, accuracy : 0.8463\n",
      "  [epochs 15 in 20] loss : 0.36525, accuracy : 0.86882\t\t [epochs 15 in 20] loss : 0.45315, accuracy : 0.8459\n",
      "  [epochs 16 in 20] loss : 0.36154, accuracy : 0.86992\t\t [epochs 16 in 20] loss : 0.45147, accuracy : 0.8459\n",
      "  [epochs 17 in 20] loss : 0.35976, accuracy : 0.87027\t\t [epochs 17 in 20] loss : 0.45204, accuracy : 0.8463\n",
      "  [epochs 18 in 20] loss : 0.35561, accuracy : 0.87175\t\t [epochs 18 in 20] loss : 0.45035, accuracy : 0.8472\n",
      "  [epochs 19 in 20] loss : 0.35439, accuracy : 0.8718\t\t [epochs 19 in 20] loss : 0.45044, accuracy : 0.8476\n",
      "  [epochs 20 in 20] loss : 0.35049, accuracy : 0.87283\t\t [epochs 20 in 20] loss : 0.44833, accuracy : 0.848\n"
     ]
    },
    {
     "data": {
      "image/png": "[encoded data removed]",
      "text/plain": [
       "<Figure size 432x288 with 1 Axes>"
      ]
     },
     "metadata": {
      "needs_background": "light"
     },
     "output_type": "display_data"
    },
    {
     "data": {
      "text/plain": [
       "<__main__.Perceptron at 0x22336d4afd0>"
      ]
     },
     "execution_count": 23,
     "metadata": {},
     "output_type": "execute_result"
    }
   ],
   "source": [
    "fmnist_second_perceptron = Perceptron(show_status=True, layers=[10,15], learning_rate=0.01, epochs=20)\n",
    "fmnist_second_perceptron.fit_and_plot_training_progress(fashion_mnist_train_x, fashion_mnist_train_y, fashion_mnist_test_x,fashion_mnist_test_y)"
   ]
  },
  {
   "cell_type": "code",
   "execution_count": 24,
   "metadata": {},
   "outputs": [
    {
     "name": "stdout",
     "output_type": "stream",
     "text": [
      "Создание сети :\n",
      "  Количество скрытых слоев     : 2\n",
      "  Количество входных нейронов  : 784\n",
      "  Koличество выходных нейронов : 10\n",
      "  Широты скрытых слоев         : [10, 15]\n",
      "Обучение сети:\n",
      "|training|\t\t\t\t\t\t\t|validation|\n",
      "  [epochs 1 in 10] loss : 0.75355, accuracy : 0.76783\t\t [epochs 1 in 10] loss : 0.76906, accuracy : 0.762\n",
      "  [epochs 2 in 10] loss : 0.57897, accuracy : 0.80955\t\t [epochs 2 in 10] loss : 0.6012, accuracy : 0.7988\n",
      "  [epochs 3 in 10] loss : 0.51578, accuracy : 0.82593\t\t [epochs 3 in 10] loss : 0.54374, accuracy : 0.816\n",
      "  [epochs 4 in 10] loss : 0.48309, accuracy : 0.83557\t\t [epochs 4 in 10] loss : 0.51531, accuracy : 0.8209\n",
      "  [epochs 5 in 10] loss : 0.46177, accuracy : 0.84107\t\t [epochs 5 in 10] loss : 0.4971, accuracy : 0.8274\n",
      "  [epochs 6 in 10] loss : 0.44639, accuracy : 0.8456\t\t [epochs 6 in 10] loss : 0.48417, accuracy : 0.8316\n",
      "  [epochs 7 in 10] loss : 0.43463, accuracy : 0.84877\t\t [epochs 7 in 10] loss : 0.47451, accuracy : 0.8339\n",
      "  [epochs 8 in 10] loss : 0.42528, accuracy : 0.85173\t\t [epochs 8 in 10] loss : 0.46706, accuracy : 0.8363\n",
      "  [epochs 9 in 10] loss : 0.4174, accuracy : 0.85453\t\t [epochs 9 in 10] loss : 0.46098, accuracy : 0.8389\n",
      "  [epochs 10 in 10] loss : 0.41038, accuracy : 0.8566\t\t [epochs 10 in 10] loss : 0.45568, accuracy : 0.8411\n"
     ]
    },
    {
     "data": {
      "image/png": "[encoded data removed]",
      "text/plain": [
       "<Figure size 432x288 with 1 Axes>"
      ]
     },
     "metadata": {
      "needs_background": "light"
     },
     "output_type": "display_data"
    },
    {
     "data": {
      "text/plain": [
       "<__main__.Perceptron at 0x22336c0ef40>"
      ]
     },
     "execution_count": 24,
     "metadata": {},
     "output_type": "execute_result"
    }
   ],
   "source": [
    "fmnist_second_perceptron = Perceptron(show_status=True, layers=[10,15], learning_rate=0.001, epochs=10)\n",
    "fmnist_second_perceptron.fit_and_plot_training_progress(fashion_mnist_train_x, fashion_mnist_train_y, fashion_mnist_test_x,fashion_mnist_test_y)"
   ]
  },
  {
   "cell_type": "markdown",
   "metadata": {},
   "source": [
    "Получим confusion matrix для двухслойного персептрона MNIST (с одним скрытым слоем 100 нейронов)"
   ]
  },
  {
   "cell_type": "code",
   "execution_count": 25,
   "metadata": {},
   "outputs": [
    {
     "name": "stdout",
     "output_type": "stream",
     "text": [
      "[[799   0   6   1   1   3   3   2   3   5]\n",
      " [  0 950   3   2   5   0   0   2   3   1]\n",
      " [  1   4 826   7   1   1   1   5   0   1]\n",
      " [  1   0   1 800   0   3   0   2   3   3]\n",
      " [  1   0   0   2 791   2   2   3   2  13]\n",
      " [  2   0   1  25   1 739   3   2  14   8]\n",
      " [  3   0   0   1   4   5 828   0   4   1]\n",
      " [  1   5  12   4   2   0   0 878   2  10]\n",
      " [  5   2   9  15   4   3   4   2 736   0]\n",
      " [  0   0   2   6  18   0   0   3   1 770]]\n"
     ]
    }
   ],
   "source": [
    "fourth_double_layered_confusion_matrix = fourth_double_layered_perceptron.score(mnist_test_x, mnist_test_y,calculate_confusion_matrix=True)[2]\n",
    "print(fourth_double_layered_confusion_matrix)"
   ]
  },
  {
   "cell_type": "markdown",
   "metadata": {},
   "source": [
    "Получим confusion matrix для трехслойного персептрона FashionMNIST (с двумя скрытыми слоями 10 и 15 нейронов)"
   ]
  },
  {
   "cell_type": "code",
   "execution_count": 26,
   "metadata": {},
   "outputs": [
    {
     "name": "stdout",
     "output_type": "stream",
     "text": [
      "[[  2  51  79 155 206  60   3 185 187 159]\n",
      " [  7   6  33 144  66 110  21  21 157 168]\n",
      " [198   0   8  10  75  45  13  50   3  52]\n",
      " [ 75 214 299 242  71 175 348 180 230 169]\n",
      " [269   2 105  62  21  78 135   3  53  50]\n",
      " [224   9 158  81 158 221 150  40  44  48]\n",
      " [  0   0  29  15  38  32   1 397  44  92]\n",
      " [  1 181  63 112  85   7  35  10  17  43]\n",
      " [ 36   0  81  16 106  19 134  10  17  21]\n",
      " [  1 498   5  26   1   9   1   3  16  10]]\n"
     ]
    }
   ],
   "source": [
    "fmnist_second_perceptron_confusion_matrix = fmnist_second_perceptron.score(mnist_test_x, mnist_test_y,calculate_confusion_matrix=True)[2]\n",
    "print(fmnist_second_perceptron_confusion_matrix)"
   ]
  },
  {
   "cell_type": "markdown",
   "metadata": {},
   "source": [
    "Получим confusion matrix для двухслойного персептрона MNIST (с одним скрытым слоем 5 нейронов)"
   ]
  },
  {
   "cell_type": "code",
   "execution_count": 28,
   "metadata": {},
   "outputs": [
    {
     "name": "stdout",
     "output_type": "stream",
     "text": [
      "[[744   0  18   6   0  45   9  11  11   9]\n",
      " [  0 920  27  22   1   0   2  13  21   1]\n",
      " [  5   6 660  42   1   2   1  13   5   0]\n",
      " [  1   2   1 648   0  34   0   0   6   3]\n",
      " [  4   3   7   3 754   7  10  13   6  70]\n",
      " [  5   3   1  91   2 574   6   1  35  21]\n",
      " [ 46   8  54  10  31  33 795   1  28   4]\n",
      " [  0   4  35  20   3   2   0 804   1  30]\n",
      " [  8  14  51   8   9  52  17   2 645  13]\n",
      " [  0   1   6  13  26   7   1  41  10 661]]\n"
     ]
    }
   ],
   "source": [
    "first_double_layered_perceptron_confusion_matrix = first_double_layered_perceptron.score(mnist_test_x, mnist_test_y,calculate_confusion_matrix=True)[2]\n",
    "print(first_double_layered_perceptron_confusion_matrix)"
   ]
  },
  {
   "cell_type": "markdown",
   "metadata": {},
   "source": [
    "## Вывод\n",
    "\n",
    "В данной лабораторной работе я реализовал собственную нейросеть, основанную на методе обучения с учителем. Веса в данной модели регулируются задачей минимизации функции ошибки методом градиентного спуска.\n",
    "\n",
    "Далее я решил задачу классификации для датасетов MNIST, FashionMNIST с помощью 1, 2 и 3-слойного персептрона. Закономерности которые удалось установить в ходе решения:\n",
    "* достаточно одного скрытого слоя на 100 нейронов, чтобы решить задачу классификации MNIST с точностью 96%, но это требует в 2 - 3 раза больше времени на обучение нейросети чем обучение обычной нейросети без скрытого слоя, у которой точностью 90%\n",
    "* задача классификации FashionMNIST решается с точностью 85% при скорости обучения 0.001 и 20 эпохах, а для решения задача классификации MNIST достаточно скорости обучения 0.1 и 10 эпох Fashion\n",
    "* Нейросеть с двумя скрытыми слоями, в каждом из которых больше 10 нейронов, обучается быстрее чем нейросеть с одним скрытым слоем на 100 нейронов и проигрывает в точности на пару процентов на датасете MNIST и почти не проигрывает на датасете FashionMNIST\n",
    "\n",
    "Максимальная точность классификации датасетов нейросетью составила 96% для MNIST и 85% для FashionMNIST соответственно. Данные результаты удовлетворяют условиям поставленным в лабораторной работе.\n",
    "\n"
   ]
  }
 ],
 "metadata": {
  "kernelspec": {
   "display_name": "Python 3.9.3 64-bit",
   "language": "python",
   "name": "python3"
  },
  "language_info": {
   "codemirror_mode": {
    "name": "ipython",
    "version": 3
   },
   "file_extension": ".py",
   "mimetype": "text/x-python",
   "name": "python",
   "nbconvert_exporter": "python",
   "pygments_lexer": "ipython3",
   "version": "3.9.3"
  },
  "orig_nbformat": 2,
  "vscode": {
   "interpreter": {
    "hash": "01dc7e856fdf68c3a617ee5d2cd87f984bbe44eea8b5f02eb954aef02800fb30"
   }
  }
 },
 "nbformat": 4,
 "nbformat_minor": 2
}
