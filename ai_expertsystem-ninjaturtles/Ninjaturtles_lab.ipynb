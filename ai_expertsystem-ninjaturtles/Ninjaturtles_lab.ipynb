{
  "cells": [
    {
      "cell_type": "code",
      "execution_count": null,
      "metadata": {
        "colab": {
          "base_uri": "https://localhost:8080/"
        },
        "id": "c3nWaFyyDhbi",
        "outputId": "8f9df2aa-6a0e-49e8-ebf1-412124680829"
      },
      "outputs": [
        {
          "output_type": "stream",
          "name": "stdout",
          "text": [
            "Collecting git+https://github.com/buguroo/pyknow/\n",
            "  Cloning https://github.com/buguroo/pyknow/ to /tmp/pip-req-build-88rp22qp\n",
            "  Running command git clone -q https://github.com/buguroo/pyknow/ /tmp/pip-req-build-88rp22qp\n",
            "Collecting frozendict==1.2\n",
            "  Downloading frozendict-1.2.tar.gz (2.6 kB)\n",
            "Collecting schema==0.6.7\n",
            "  Downloading schema-0.6.7-py2.py3-none-any.whl (14 kB)\n",
            "Building wheels for collected packages: pyknow, frozendict\n",
            "  Building wheel for pyknow (setup.py) ... \u001b[?25l\u001b[?25hdone\n",
            "  Created wheel for pyknow: filename=pyknow-1.7.0-py3-none-any.whl size=34244 sha256=6bacb8db3f084106ae5eee9981e8a39e2ba168cbf03c0730a14fc2aa55d689be\n",
            "  Stored in directory: /tmp/pip-ephem-wheel-cache-a747h9yu/wheels/d7/8a/1f/40a9edb6f4ce8add0d4029b2c5e274d32d140ac8a7036d5a47\n",
            "  Building wheel for frozendict (setup.py) ... \u001b[?25l\u001b[?25hdone\n",
            "  Created wheel for frozendict: filename=frozendict-1.2-py3-none-any.whl size=3166 sha256=abf818fcca5441d59d1808a4b18bcbab94f5f0ee1977958597bd119e55ed94c5\n",
            "  Stored in directory: /root/.cache/pip/wheels/68/17/69/ac196dd181e620bba5fae5488e4fd6366a7316dce13cf88776\n",
            "Successfully built pyknow frozendict\n",
            "Installing collected packages: schema, frozendict, pyknow\n",
            "Successfully installed frozendict-1.2 pyknow-1.7.0 schema-0.6.7\n"
          ]
        }
      ],
      "source": [
        "import sys\n",
        "!{sys.executable} -m pip install git+https://github.com/buguroo/pyknow/"
      ]
    },
    {
      "cell_type": "code",
      "execution_count": null,
      "metadata": {
        "id": "sPbPKb9jD2UN"
      },
      "outputs": [],
      "source": [
        "from pyknow import *\n",
        "class Headphones(KnowledgeEngine):\n",
        "    @Rule(OR(Fact('компактные'), Fact('для прогулок'),Fact('легкие')))\n",
        "    def on_ear(self):\n",
        "        self.declare(Fact('накладные'))\n",
        "\n",
        "    @Rule(OR(Fact('для прогулок'), Fact('легкие'), Fact('от шумного окружения'), Fact('маленькие')))\n",
        "    def noise(self):\n",
        "        self.declare(Fact('шумоподавление'))\n",
        "\n",
        "    @Rule(OR(Fact('шумоподавление'), Fact('регулировка шумоподавления')))\n",
        "    def a_noise(self):\n",
        "        self.declare(Fact('активное шумоподавление'))\n",
        "\n",
        "    @Rule(AND(Fact('шумоподавление'), Fact('дешевые')))\n",
        "    def p_noise(self):\n",
        "        self.declare(Fact('пассивное шумоподавление'))\n",
        "\n",
        "    @Rule(Fact('костной проводимости'), Fact('яркие'), Fact('накладные'))\n",
        "    def first_set(self):\n",
        "        self.declare(Fact(headphones = 'AfterShokz Trekz Air'))\n",
        "\n",
        "    @Rule(OR(AND(Fact('японские'), Fact('беспроводные')),\n",
        "             AND(Fact('накладные'), Fact('кожаные вставки'))))\n",
        "    def second_set(self):\n",
        "        self.declare(Fact(headphones = 'Pioneer SE-MJ553BT'))\n",
        "\n",
        "    @Rule(OR(AND(Fact('накладные'), Fact('кожаные вставки')), \n",
        "             AND(Fact('регулировка шумоподавления'), Fact('американские'), Fact('шумоподавление')), \n",
        "             Fact('активное шумоподавление')))\n",
        "    def third_set(self):\n",
        "        self.declare(Fact(headphones = 'Marshall MAJOR III'))\n",
        "\n",
        "    @Rule(OR(Fact('пассивное шумоподавление'),\n",
        "             AND(Fact('беспроводные'), Fact('яркие'), Fact('для спорта'), Fact('внутриканальные'))))\n",
        "    def fourth_set(self):\n",
        "        self.declare(Fact(headphones = 'ELARI BeatBand, Bluetooth, красный'))    \n",
        "\n",
        "    @Rule(OR(AND(Fact('профессиональные'), Fact('надёжные')), Fact('хорошо сидят на голове')))\n",
        "    def over_ear(self):\n",
        "        self.declare(Fact('полноразмерные'))\n",
        "\n",
        "    @Rule(Fact('полноразмерные'), Fact('игровые'), Fact('без подсветкой'))\n",
        "    def eigth_set(self):\n",
        "        self.declare(Fact(headphones = 'Defender Scrapper 500'))\n",
        "\n",
        "    @Rule(OR(AND(Fact('полноразмерные'), Fact('американские')), \n",
        "             AND(Fact('полноразмерные'), Fact('игровые'), Fact('с подсветкой'))))\n",
        "    def senenth_set(self):\n",
        "        self.declare(Fact(headphones = 'Razer Kraken Ultimate'))\n",
        "\n",
        "    @Rule(Fact('проводные'), Fact('дешёвые'), Fact('полноразмерные'))\n",
        "    def sixth_set(self):\n",
        "        self.declare(Fact(headphones = 'A4Tech Bloody G300 черный'))\n",
        "\n",
        "    @Rule(Fact('лёгкие'), Fact('маленькие'), Fact('удобные'))\n",
        "    def in_ear(self):\n",
        "        self.declare(Fact('внутриканальные'))\n",
        "\n",
        "    @Rule(Fact('внутриканальные'), Fact('качественный звук'), Fact('проводные'))\n",
        "    def fifth_set(self):\n",
        "        self.declare(Fact(headphones = 'Classic SE A1'))\n",
        "\n",
        "    @Rule(Fact('для спорта'), Fact('внутриканальные'))\n",
        "    def forth_set(self):\n",
        "        self.declare(Fact(headphones = 'TWS A4Tech Bloody M70 черный'))\n",
        "\n",
        "    @Rule(Fact(headphones=MATCH.a))\n",
        "    def print_result(self,a):\n",
        "          print('Наушники - {}'.format(a))\n",
        "\n",
        "    def factz(self,l):\n",
        "        for x in l:\n",
        "            self.declare(x)\n"
      ]
    },
    {
      "cell_type": "code",
      "execution_count": null,
      "metadata": {
        "id": "WxFR1bxVht8E"
      },
      "outputs": [],
      "source": [
        "def contry(facts):\n",
        "    print(\"Страна производитель:\", end = ' ')\n",
        "    words = ['Америка', 'Япония']\n",
        "    for i, word in enumerate(words):\n",
        "        print(f\"{word}:{i + 1}, \", end = '')\n",
        "    print('Неважно:',len(words) + 1, sep = '')\n",
        "    ans = list(map(int,input().split()))\n",
        "    if not ans or ans[0] == len(words) + 1:\n",
        "        facts += [x.lower() for x in words]\n",
        "    else:\n",
        "        for i in ans:\n",
        "            facts.append(words[i - 1].lower())\n",
        "\n",
        "\n",
        "def aim(facts):\n",
        "    print(\"Цели использования:\", end = ' ')\n",
        "    words = ['Для прогулок', 'Для спорта', 'Игровые', 'Профессиональные']\n",
        "    for i, word in enumerate(words):\n",
        "        print(f\"{word}:{i + 1}, \", end = '')\n",
        "    print('Неважно:',len(words) + 1, sep = '')\n",
        "    ans = list(map(int,input().split()))\n",
        "    if not ans or ans[0] == len(words) + 1:\n",
        "        facts += [x.lower() for x in words]\n",
        "    else:\n",
        "        for i in ans:\n",
        "            facts.append(words[i - 1].lower())\n",
        "\n",
        "def properties(facts):\n",
        "    print(\"Свойства наушников:\", end = ' ')\n",
        "    words = ['Компактные', 'Лёгкие', 'Маленькие', 'Удобные', 'Надёжные', 'Яркие']\n",
        "    for i, word in enumerate(words):\n",
        "        print(f\"{word}:{i + 1}, \", end = '')\n",
        "    print('Неважно:',len(words) + 1, sep = '')\n",
        "    ans = list(map(int,input().split()))\n",
        "    if not ans or ans[0] == len(words) + 1 :\n",
        "        facts += [x.lower() for x in words]\n",
        "    else:\n",
        "        for i in ans:\n",
        "            facts.append(words[i - 1].lower())\n",
        "\n",
        "def how_long(facts):\n",
        "    print(\"Вы собираетесь в них долго сидеть?\")\n",
        "    print(\"Да:1, Нет:2\")\n",
        "    ans = input()\n",
        "    if (ans == '1'):\n",
        "        facts.append(\"для длительного пользования в течение дня\")\n",
        "\n",
        "\n",
        "def wired(facts):\n",
        "    print(\"Проводные:1, Безпроводные:2, Неважно:3\")\n",
        "    ans = list(map(int,input().split()))\n",
        "    if not ans or ans[0] == 3:\n",
        "         facts += ['проводные', 'беспроводные'] \n",
        "    else:\n",
        "        if (ans[0] == 1):\n",
        "            facts.append(\"проводные\")\n",
        "        else:\n",
        "            facts.append(\"безпроводные\")\n",
        "\n",
        "def accessories(facts):\n",
        "    print(\"Особенности:\", end = ' ')\n",
        "    words = ['Костная проводимость', 'Кожанные вставки', 'Регулировка шумоподавления']\n",
        "    for i, word in enumerate(words):\n",
        "        print(f\"{word}:{i + 1}, \", end = '')\n",
        "    print('Неважно:',len(words) + 1, sep = '')\n",
        "    ans = list(map(int,input().split()))\n",
        "    if not ans or ans[0] == len(words) + 1 :\n",
        "        facts += [x.lower() for x in words]\n",
        "    else:\n",
        "        for i in ans:\n",
        "            facts.append(words[i - 1].lower())\n",
        "\n",
        "def backlight(facts):\n",
        "    print(\"С подсветкой:1, Без подсветки:2, Неважно: 3\")\n",
        "    ans = int(input())\n",
        "    if (ans == 1):\n",
        "        facts.append('с подсветкой')\n",
        "    elif (ans == 2):\n",
        "        facts.append('без подсветки')\n",
        "    else:\n",
        "        facts += ['с подсветкой', 'без подсветки']\n",
        "\n",
        "def questions():\n",
        "    funs = [contry, aim, properties, how_long, wired, accessories, backlight] \n",
        "    facts = []\n",
        "    for fun in funs:\n",
        "        fun(facts)\n",
        "    return facts"
      ]
    },
    {
      "cell_type": "code",
      "execution_count": null,
      "metadata": {
        "id": "AIn1atdRfJZa",
        "colab": {
          "base_uri": "https://localhost:8080/"
        },
        "outputId": "a815b48e-2881-45e3-80dc-99adebc1a490"
      },
      "outputs": [
        {
          "output_type": "stream",
          "name": "stdout",
          "text": [
            "Страна производитель: Америка:1, Япония:2, Неважно:3\n",
            "1\n",
            "Цели использования: Для прогулок:1, Для спорта:2, Игровые:3, Профессиональные:4, Неважно:5\n",
            "1 2\n",
            "Свойства наушников: Компактные:1, Лёгкие:2, Маленькие:3, Удобные:4, Надёжные:5, Яркие:6, Неважно:7\n",
            "3 4\n",
            "Вы собираетесь в них долго сидеть?\n",
            "Да:1, Нет:2\n",
            "2\n",
            "Проводные:1, Безпроводные:2, Неважно:3\n",
            "1\n",
            "Особенности: Костная проводимость:1, Кожанные вставки:2, Регулировка шумоподавления:3, Неважно:4\n",
            "4\n",
            "С подсветкой:1, Без подсветки:2, Неважно: 3\n",
            "2\n",
            "Наушники - Marshall MAJOR III\n"
          ]
        },
        {
          "output_type": "execute_result",
          "data": {
            "text/plain": [
              "FactList([(0, InitialFact()),\n",
              "          (1, Fact('америка')),\n",
              "          (2, Fact('для прогулок')),\n",
              "          (3, Fact('для спорта')),\n",
              "          (4, Fact('маленькие')),\n",
              "          (5, Fact('удобные')),\n",
              "          (6, Fact('проводные')),\n",
              "          (7, Fact('костная проводимость')),\n",
              "          (8, Fact('кожанные вставки')),\n",
              "          (9, Fact('регулировка шумоподавления')),\n",
              "          (10, Fact('без подсветки')),\n",
              "          (11, Fact('активное шумоподавление')),\n",
              "          (12, Fact(headphones='Marshall MAJOR III')),\n",
              "          (13, Fact('шумоподавление')),\n",
              "          (14, Fact('накладные'))])"
            ]
          },
          "metadata": {},
          "execution_count": 6
        }
      ],
      "source": [
        "ex1 = Headphones()\n",
        "ex1.reset()\n",
        "facts = questions()\n",
        "res = []\n",
        "for i in facts:\n",
        "  res.append(Fact(i))\n",
        "ex1.factz(res)\n",
        "ex1.run()\n",
        "ex1.facts"
      ]
    },
    {
      "cell_type": "code",
      "execution_count": null,
      "metadata": {
        "id": "UmYQ4K9-mSXv"
      },
      "outputs": [],
      "source": [
        ""
      ]
    }
  ],
  "metadata": {
    "colab": {
      "collapsed_sections": [],
      "name": "AI_lab2.ipynb",
      "provenance": []
    },
    "kernelspec": {
      "display_name": "Python 3",
      "name": "python3"
    },
    "language_info": {
      "name": "python"
    }
  },
  "nbformat": 4,
  "nbformat_minor": 0
}